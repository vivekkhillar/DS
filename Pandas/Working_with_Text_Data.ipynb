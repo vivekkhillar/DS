{
 "cells": [
  {
   "cell_type": "markdown",
   "id": "3ac1f235-a802-42a8-8508-3e9eccde56ed",
   "metadata": {
    "id": "3ac1f235-a802-42a8-8508-3e9eccde56ed"
   },
   "source": [
    "# __Working with Text Data in Pandas__\n",
    "\n",
    "## __Agenda__\n",
    "\n",
    "- Text Data in Pandas\n",
    "- Iteration\n",
    "  * Iterating over Rows\n",
    "  * Applying a Function to Each Element\n",
    "  * Vectorized Operations\n",
    "  * Iterating over Series\n",
    "- Sorting\n",
    "  * Sorting DataFrame by Column\n",
    "  * Sorting DataFrame by Multiple Columns\n",
    "  * Sorting DataFrame by Index\n",
    "  * Sorting a Series\n",
    "- Plotting with Pandas"
   ]
  },
  {
   "cell_type": "markdown",
   "id": "4b4e0cab-099d-41a8-9968-67b821e3b86d",
   "metadata": {
    "id": "4b4e0cab-099d-41a8-9968-67b821e3b86d"
   },
   "source": [
    "### __1. Text Data in Pandas__\n",
    "\n",
    "Working with text data in Pandas involves various operations to manipulate and analyze textual information. Here are some common text data operations using Pandas:"
   ]
  },
  {
   "cell_type": "code",
   "execution_count": 1,
   "id": "0103555d-7d01-47e2-8ca5-2b05564278e5",
   "metadata": {
    "colab": {
     "base_uri": "https://localhost:8080/"
    },
    "executionInfo": {
     "elapsed": 971,
     "status": "ok",
     "timestamp": 1716223282732,
     "user": {
      "displayName": "Ashish Jangid",
      "userId": "15170006874299393728"
     },
     "user_tz": -330
    },
    "id": "0103555d-7d01-47e2-8ca5-2b05564278e5",
    "outputId": "be3c7235-a51d-4402-c481-a6abbc1a6615"
   },
   "outputs": [
    {
     "name": "stdout",
     "output_type": "stream",
     "text": [
      "         Column\n",
      "0         Hello\n",
      "1         World\n",
      "2        Python\n",
      "3  Data Science\n"
     ]
    }
   ],
   "source": [
    "# Assuming 'df' is DataFrame with a 'Column' containing text data\n",
    "import pandas as pd\n",
    "\n",
    "df = pd.DataFrame({'Column': ['Hello', 'World', 'Python', 'Data Science']})\n",
    "print(df)\n",
    "\n"
   ]
  },
  {
   "cell_type": "code",
   "execution_count": 2,
   "id": "ea5163cb-be53-4456-9ef3-f27d5c14edc1",
   "metadata": {},
   "outputs": [
    {
     "name": "stdout",
     "output_type": "stream",
     "text": [
      "Length of each string:\n",
      "         Column  Length\n",
      "0         Hello       5\n",
      "1         World       5\n",
      "2        Python       6\n",
      "3  Data Science      12\n"
     ]
    }
   ],
   "source": [
    "# Calculates the length of each string\n",
    "df['Length'] = df['Column'].str.len()\n",
    "print(\"Length of each string:\")\n",
    "print(df)"
   ]
  },
  {
   "cell_type": "code",
   "execution_count": 3,
   "id": "fa533b07-9bee-4b69-8f7f-6c3aca64e76a",
   "metadata": {
    "colab": {
     "base_uri": "https://localhost:8080/"
    },
    "executionInfo": {
     "elapsed": 8,
     "status": "ok",
     "timestamp": 1716223286547,
     "user": {
      "displayName": "Ashish Jangid",
      "userId": "15170006874299393728"
     },
     "user_tz": -330
    },
    "id": "fa533b07-9bee-4b69-8f7f-6c3aca64e76a",
    "outputId": "8b7cfecf-8cb4-401a-d810-25ac0bbe03f8"
   },
   "outputs": [
    {
     "name": "stdout",
     "output_type": "stream",
     "text": [
      "\n",
      "Text in lowercase:\n",
      "         Column     Lowercase\n",
      "0         Hello         hello\n",
      "1         World         world\n",
      "2        Python        python\n",
      "3  Data Science  data science\n",
      "\n",
      "Text in lowercase:\n",
      "         Column     Lowercase\n",
      "0         Hello         hello\n",
      "1         World         world\n",
      "2        Python        python\n",
      "3  Data Science  data science\n"
     ]
    }
   ],
   "source": [
    "# Assuming 'df' is DataFrame with a 'Column' containing text data\n",
    "df = pd.DataFrame({'Column': ['Hello', 'World', 'Python', 'Data Science']})\n",
    "\n",
    "# Converts text to lowercase\n",
    "df['Lowercase'] = df['Column'].str.lower()\n",
    "print(\"\\nText in lowercase:\")\n",
    "print(df)\n",
    "df['Lowercase'] = df['Column'].str.lower()\n",
    "print(\"\\nText in lowercase:\")\n",
    "print(df)"
   ]
  },
  {
   "cell_type": "code",
   "execution_count": 4,
   "id": "85a64573-3a36-42ac-8e01-3752fed9969c",
   "metadata": {
    "colab": {
     "base_uri": "https://localhost:8080/"
    },
    "executionInfo": {
     "elapsed": 5,
     "status": "ok",
     "timestamp": 1716223290297,
     "user": {
      "displayName": "Ashish Jangid",
      "userId": "15170006874299393728"
     },
     "user_tz": -330
    },
    "id": "85a64573-3a36-42ac-8e01-3752fed9969c",
    "outputId": "560fb3fe-8379-4cb6-edd5-5f66c2146287"
   },
   "outputs": [
    {
     "name": "stdout",
     "output_type": "stream",
     "text": [
      "\n",
      "Contains substring 'Data':\n",
      "         Column  ContainsSubstring\n",
      "0         Hello              False\n",
      "1         World              False\n",
      "2        Python              False\n",
      "3  Data Science               True\n"
     ]
    }
   ],
   "source": [
    "# Assuming 'df' is DataFrame with a 'Column' containing text data\n",
    "df = pd.DataFrame({'Column': ['Hello', 'World', 'Python', 'Data Science']})\n",
    "\n",
    "# Checks if each string contains the specified substring\n",
    "substring = 'Data'\n",
    "df['ContainsSubstring'] = df['Column'].str.contains(substring)\n",
    "print(\"\\nContains substring 'Data':\")\n",
    "print(df[['Column', 'ContainsSubstring']])\n"
   ]
  },
  {
   "cell_type": "markdown",
   "id": "ebaa3489-b22c-4c3e-a3fd-6f2492de0a7c",
   "metadata": {
    "id": "ebaa3489-b22c-4c3e-a3fd-6f2492de0a7c"
   },
   "source": [
    "## __2. Iteration__"
   ]
  },
  {
   "cell_type": "markdown",
   "id": "8b68905e-257e-4197-a592-c2656790385b",
   "metadata": {
    "id": "8b68905e-257e-4197-a592-c2656790385b"
   },
   "source": [
    "Iteration in Pandas typically involves traversing through the rows or elements of a DataFrame or Series.\n",
    "- However, it is important to note that direct iteration over DataFrame rows using Python's for loop is generally discouraged due to performance reasons.\n",
    "- Instead, Pandas provides efficient methods for iteration and applying functions to DataFrame elements."
   ]
  },
  {
   "cell_type": "markdown",
   "id": "9061737a-8b27-4b74-b39a-0c2cf6e28e51",
   "metadata": {
    "id": "9061737a-8b27-4b74-b39a-0c2cf6e28e51"
   },
   "source": [
    "![link text](https://labcontent.simplicdn.net/data-content/content-assets/Data_and_AI/ADSP_Images/Lesson_04_Working_with_Pandas/4_Working_with_Text_Data_in_Pandas/Iteration.png)"
   ]
  },
  {
   "cell_type": "markdown",
   "id": "b174ebf6-d371-4743-ad51-1c8fe8a64f24",
   "metadata": {
    "id": "b174ebf6-d371-4743-ad51-1c8fe8a64f24"
   },
   "source": [
    "### __2.1 Iterating over Rows__"
   ]
  },
  {
   "cell_type": "code",
   "execution_count": 13,
   "id": "5c8e5a78-0f02-435b-9e22-0fa3bc092a02",
   "metadata": {
    "colab": {
     "base_uri": "https://localhost:8080/"
    },
    "executionInfo": {
     "elapsed": 6,
     "status": "ok",
     "timestamp": 1716223295860,
     "user": {
      "displayName": "Ashish Jangid",
      "userId": "15170006874299393728"
     },
     "user_tz": -330
    },
    "id": "5c8e5a78-0f02-435b-9e22-0fa3bc092a02",
    "outputId": "962a8c36-4d74-42fd-a0e9-8a08be1bac2c"
   },
   "outputs": [
    {
     "name": "stdout",
     "output_type": "stream",
     "text": [
      "   Column1 Column2\n",
      "0       10       A\n",
      "1       20       B\n",
      "2       30       C\n",
      "Index: 0, Data: 10, A\n",
      "Index: 1, Data: 20, B\n",
      "Index: 2, Data: 30, C\n"
     ]
    }
   ],
   "source": [
    "import pandas as pd\n",
    "\n",
    "# Assuming 'df' is your DataFrame with columns 'Column1' and 'Column2'\n",
    "df = pd.DataFrame({'Column1': [10, 20, 30], 'Column2': ['A', 'B', 'C']})\n",
    "print(df)\n",
    "\n",
    "for index, row in df.iterrows():\n",
    "    print(f\"Index: {index}, Data: {row['Column1']}, {row['Column2']}\")\n"
   ]
  },
  {
   "cell_type": "code",
   "execution_count": 7,
   "id": "344e4490-4d81-4062-a284-a16ceee2a0e6",
   "metadata": {},
   "outputs": [
    {
     "name": "stdout",
     "output_type": "stream",
     "text": [
      "good\n"
     ]
    }
   ],
   "source": [
    "a=False # Assuming 'a' is a boolean variable\n",
    "if (a==0): # Checking if 'a' is equal to 0\n",
    "    print('good')\n",
    "else:\n",
    "    print('bad')"
   ]
  },
  {
   "cell_type": "markdown",
   "id": "f8c904cc-995a-4af9-87f7-19a8e82ebdef",
   "metadata": {
    "id": "f8c904cc-995a-4af9-87f7-19a8e82ebdef"
   },
   "source": [
    "### __2.2 Applying a Function to Each Element__"
   ]
  },
  {
   "cell_type": "code",
   "execution_count": 8,
   "id": "660ead07-4caf-4039-bb8e-346cec70c4a9",
   "metadata": {
    "colab": {
     "base_uri": "https://localhost:8080/"
    },
    "executionInfo": {
     "elapsed": 491,
     "status": "ok",
     "timestamp": 1716223299930,
     "user": {
      "displayName": "Ashish Jangid",
      "userId": "15170006874299393728"
     },
     "user_tz": -330
    },
    "id": "660ead07-4caf-4039-bb8e-346cec70c4a9",
    "outputId": "4b545dbe-8a6a-48d1-f112-9245325d278b"
   },
   "outputs": [
    {
     "name": "stdout",
     "output_type": "stream",
     "text": [
      "   ExistingColumn\n",
      "0              10\n",
      "1              20\n",
      "2              30\n",
      "   ExistingColumn  NewColumn\n",
      "0              10         20\n",
      "1              20         40\n",
      "2              30         60\n"
     ]
    }
   ],
   "source": [
    "# Assuming 'df' is your DataFrame with 'ExistingColumn'\n",
    "df = pd.DataFrame({'ExistingColumn': [10, 20, 30]})\n",
    "print(df)\n",
    "\n",
    "df['NewColumn'] = df['ExistingColumn'].apply(lambda x: x * 2)\n",
    "print(df)\n"
   ]
  },
  {
   "cell_type": "markdown",
   "id": "ed42ddaa-4bba-46c5-9b8a-a7d0b910c04b",
   "metadata": {
    "id": "ed42ddaa-4bba-46c5-9b8a-a7d0b910c04b"
   },
   "source": [
    "### __2.3 Vectorized Operations__"
   ]
  },
  {
   "cell_type": "code",
   "execution_count": 9,
   "id": "bd599fb0-c25b-4bb8-a7b3-91df35a1daaa",
   "metadata": {
    "colab": {
     "base_uri": "https://localhost:8080/"
    },
    "executionInfo": {
     "elapsed": 471,
     "status": "ok",
     "timestamp": 1716223304763,
     "user": {
      "displayName": "Ashish Jangid",
      "userId": "15170006874299393728"
     },
     "user_tz": -330
    },
    "id": "bd599fb0-c25b-4bb8-a7b3-91df35a1daaa",
    "outputId": "026e3b21-d927-48c8-e462-07aea4004266"
   },
   "outputs": [
    {
     "name": "stdout",
     "output_type": "stream",
     "text": [
      "   ColumnA  ColumnB  ResultColumn\n",
      "0        1        4             5\n",
      "1        2        5             7\n",
      "2        3        6             9\n"
     ]
    }
   ],
   "source": [
    "# Assuming 'df' is your DataFrame with 'ColumnA' and 'ColumnB'\n",
    "df = pd.DataFrame({'ColumnA': [1, 2, 3], 'ColumnB': [4, 5, 6]})\n",
    "\n",
    "df['ResultColumn'] = df['ColumnA'] + df['ColumnB']\n",
    "print(df)"
   ]
  },
  {
   "cell_type": "code",
   "execution_count": 10,
   "id": "858d8ec7-6dec-4e1c-b7ee-8116cad2cc73",
   "metadata": {},
   "outputs": [
    {
     "name": "stdout",
     "output_type": "stream",
     "text": [
      "   ColumnA  ColumnB  ResultColumn\n",
      "0        1        4             2\n",
      "1        2        5             4\n",
      "2        3        6             6\n"
     ]
    }
   ],
   "source": [
    "df['ResultColumn'] = df['ColumnA'] * 2\n",
    "print(df)"
   ]
  },
  {
   "cell_type": "markdown",
   "id": "ef8c2880-e8c7-4a6a-9782-d392ff898948",
   "metadata": {
    "id": "ef8c2880-e8c7-4a6a-9782-d392ff898948"
   },
   "source": [
    "### __2.4 Iterating over Series__"
   ]
  },
  {
   "cell_type": "code",
   "execution_count": 11,
   "id": "800688f5-28ae-4d68-8ace-b1838128ad96",
   "metadata": {
    "colab": {
     "base_uri": "https://localhost:8080/"
    },
    "executionInfo": {
     "elapsed": 807,
     "status": "ok",
     "timestamp": 1716223475239,
     "user": {
      "displayName": "Ashish Jangid",
      "userId": "15170006874299393728"
     },
     "user_tz": -330
    },
    "id": "800688f5-28ae-4d68-8ace-b1838128ad96",
    "outputId": "3c9b4c92-0598-485a-e81f-3cfe2b2c619e"
   },
   "outputs": [
    {
     "name": "stdout",
     "output_type": "stream",
     "text": [
      "0    10\n",
      "1    20\n",
      "2    30\n",
      "Name: Values, dtype: int64\n",
      "Index: 0, Value: 10\n",
      "Index: 0 Value: 10\n",
      "Index: 1, Value: 20\n",
      "Index: 1 Value: 20\n",
      "Index: 2, Value: 30\n",
      "Index: 2 Value: 30\n"
     ]
    }
   ],
   "source": [
    "import pandas as pd \n",
    "# Assuming 'series' is your Pandas Series\n",
    "series = pd.Series([10, 20, 30], name='Values')\n",
    "print(series)\n",
    "\n",
    "for index, value in series.items():\n",
    "    print(f\"Index: {index}, Value: {value}\")\n",
    "    print(\"Index:\",index, \"Value:\", value)"
   ]
  },
  {
   "cell_type": "markdown",
   "id": "ce5bf870-426f-4c15-8b3a-0028902b75f6",
   "metadata": {
    "id": "ce5bf870-426f-4c15-8b3a-0028902b75f6"
   },
   "source": [
    "## __3. Sorting__\n",
    "Sorting in Pandas involves arranging the elements of a DataFrame or Series based on specific criteria, such as column values or indices.\n",
    "\n",
    "![link text](https://labcontent.simplicdn.net/data-content/content-assets/Data_and_AI/ADSP_Images/Updated_Images/Lesson_4/4_04/Sorting.png)"
   ]
  },
  {
   "cell_type": "markdown",
   "id": "046a75b3-63cc-4b57-8d7b-9dcff2ae2e7c",
   "metadata": {
    "id": "046a75b3-63cc-4b57-8d7b-9dcff2ae2e7c"
   },
   "source": [
    "### __3.1 Sorting DataFrame by Column__"
   ]
  },
  {
   "cell_type": "code",
   "execution_count": 13,
   "id": "79191d3c-3b9e-4484-a43d-126711b5cf10",
   "metadata": {
    "colab": {
     "base_uri": "https://localhost:8080/"
    },
    "executionInfo": {
     "elapsed": 459,
     "status": "ok",
     "timestamp": 1716223485920,
     "user": {
      "displayName": "Ashish Jangid",
      "userId": "15170006874299393728"
     },
     "user_tz": -330
    },
    "id": "79191d3c-3b9e-4484-a43d-126711b5cf10",
    "outputId": "1a3350ac-23b7-4059-fc45-56e0d549ca63"
   },
   "outputs": [
    {
     "name": "stdout",
     "output_type": "stream",
     "text": [
      "      Name  Age  Salary\n",
      "0    Alice   25  980000\n",
      "1      Bob   22   60000\n",
      "2  Charlie   30   75000\n",
      "3      Sam   30   95000\n"
     ]
    }
   ],
   "source": [
    "import pandas as pd\n",
    "# Create a sample DataFrame\n",
    "df = pd.DataFrame({'Name': ['Alice', 'Bob', 'Charlie','Sam'],\n",
    "                   'Age': [25, 22, 30,30],\n",
    "                   'Salary': [980000, 60000, 75000, 95000]})\n",
    "print(df)\n",
    "\n"
   ]
  },
  {
   "cell_type": "code",
   "execution_count": 15,
   "id": "f6c26758-1c89-4ad1-a20a-52d06ba38ec5",
   "metadata": {},
   "outputs": [
    {
     "name": "stdout",
     "output_type": "stream",
     "text": [
      "Sorted DataFrame by Age:\n",
      "       Name  Age  Salary\n",
      "1      Bob   22   60000\n",
      "0    Alice   25  980000\n",
      "2  Charlie   30   75000\n",
      "3      Sam   30   95000\n"
     ]
    }
   ],
   "source": [
    "# Sort DataFrame by the 'Age' column in ascending order\n",
    "df_sorted = df.sort_values(by='Age')\n",
    "print(\"Sorted DataFrame by Age:\\n\", df_sorted)"
   ]
  },
  {
   "cell_type": "code",
   "execution_count": 17,
   "id": "257418e8-75dd-4943-ac1e-092ad2acdf25",
   "metadata": {},
   "outputs": [
    {
     "name": "stdout",
     "output_type": "stream",
     "text": [
      "Sorted DataFrame by Age:\n",
      "       Name  Age  Salary\n",
      "0    Alice   25  980000\n",
      "3      Sam   30   95000\n",
      "2  Charlie   30   75000\n",
      "1      Bob   22   60000\n"
     ]
    }
   ],
   "source": [
    "# Sort DataFrame by the 'Age' column in ascending order\n",
    "df_sorted = df.sort_values(by='Salary', ascending=False)\n",
    "print(\"Sorted DataFrame by Age:\\n\", df_sorted)"
   ]
  },
  {
   "cell_type": "markdown",
   "id": "5da5639d-46b3-40bf-9760-3bb5e1074a41",
   "metadata": {
    "id": "5da5639d-46b3-40bf-9760-3bb5e1074a41"
   },
   "source": [
    "### __3.2 Sorting DataFrame by Multiple Columns__"
   ]
  },
  {
   "cell_type": "code",
   "execution_count": 39,
   "id": "7a3c5260-a9c9-460a-b7e0-6087f5ec0ab0",
   "metadata": {
    "colab": {
     "base_uri": "https://localhost:8080/"
    },
    "executionInfo": {
     "elapsed": 5,
     "status": "ok",
     "timestamp": 1716223488972,
     "user": {
      "displayName": "Ashish Jangid",
      "userId": "15170006874299393728"
     },
     "user_tz": -330
    },
    "id": "7a3c5260-a9c9-460a-b7e0-6087f5ec0ab0",
    "outputId": "c022a263-0f30-4a18-e9b2-3cfb03215558"
   },
   "outputs": [
    {
     "name": "stdout",
     "output_type": "stream",
     "text": [
      "\n",
      "Sorted DataFrame by Age and Salary:\n",
      "       Name  Age  Salary\n",
      "1      Bob   22   60000\n",
      "0    Alice   25  980000\n",
      "3      Sam   30   95000\n",
      "2  Charlie   30   75000\n"
     ]
    }
   ],
   "source": [
    "# Sort DataFrame by 'Age' in ascending order, then by 'Salary' in descending order\n",
    "df_sorted_multi = df.sort_values(by=['Age', 'Salary'], ascending=[True, False])\n",
    "print(\"\\nSorted DataFrame by Age and Salary:\\n\", df_sorted_multi)\n"
   ]
  },
  {
   "cell_type": "code",
   "execution_count": 47,
   "id": "656d1aaa-a53e-4a3c-9d8c-ba2b1b6a4b39",
   "metadata": {},
   "outputs": [
    {
     "name": "stdout",
     "output_type": "stream",
     "text": [
      "\n",
      "Sorted DataFrame by Age and Salary:\n",
      "       Name  Age  Salary\n",
      "0    Alice   25  980000\n",
      "1      Bob   22   60000\n",
      "2  Charlie   30   75000\n",
      "3      Sam   30   95000\n"
     ]
    }
   ],
   "source": [
    "# Sort DataFrame by 'Age' in ascending order, then by 'Salary' in descending order\n",
    "df_sorted_multi = df.sort_values(by=['Name', 'Age'])\n",
    "print(\"\\nSorted DataFrame by Age and Salary:\\n\", df_sorted_multi)"
   ]
  },
  {
   "cell_type": "markdown",
   "id": "e96939ca-6dad-458b-9472-4a3206c3854b",
   "metadata": {
    "id": "e96939ca-6dad-458b-9472-4a3206c3854b"
   },
   "source": [
    "### __3.3 Sorting DataFrame by Index__"
   ]
  },
  {
   "cell_type": "code",
   "execution_count": 19,
   "id": "39e8a714-5942-4e54-91e2-0c79d00c140d",
   "metadata": {
    "colab": {
     "base_uri": "https://localhost:8080/"
    },
    "executionInfo": {
     "elapsed": 436,
     "status": "ok",
     "timestamp": 1716223494882,
     "user": {
      "displayName": "Ashish Jangid",
      "userId": "15170006874299393728"
     },
     "user_tz": -330
    },
    "id": "39e8a714-5942-4e54-91e2-0c79d00c140d",
    "outputId": "97483cfc-2d4f-4a3c-e3fc-9a9b2a1c62e0"
   },
   "outputs": [
    {
     "name": "stdout",
     "output_type": "stream",
     "text": [
      "\n",
      "Sorted DataFrame by Index:\n",
      "       Name  Age  Salary\n",
      "3      Sam   30   95000\n",
      "2  Charlie   30   75000\n",
      "1      Bob   22   60000\n",
      "0    Alice   25  980000\n"
     ]
    }
   ],
   "source": [
    "# Sort DataFrame by index in descending order\n",
    "df_sorted_index = df.sort_index(ascending=False)\n",
    "print(\"\\nSorted DataFrame by Index:\\n\", df_sorted_index)\n"
   ]
  },
  {
   "cell_type": "markdown",
   "id": "fd3589ab-a3de-4b86-8323-b12a91e99291",
   "metadata": {
    "id": "fd3589ab-a3de-4b86-8323-b12a91e99291"
   },
   "source": [
    "### __3.4 Sorting a Series__"
   ]
  },
  {
   "cell_type": "code",
   "execution_count": 21,
   "id": "a602a207-7e45-4f73-8b12-80d9e5bf2754",
   "metadata": {
    "colab": {
     "base_uri": "https://localhost:8080/"
    },
    "executionInfo": {
     "elapsed": 4,
     "status": "ok",
     "timestamp": 1716223498699,
     "user": {
      "displayName": "Ashish Jangid",
      "userId": "15170006874299393728"
     },
     "user_tz": -330
    },
    "id": "a602a207-7e45-4f73-8b12-80d9e5bf2754",
    "outputId": "7b7ec2fc-58ea-4fb9-9bb6-cb0b0a6634c5"
   },
   "outputs": [
    {
     "name": "stdout",
     "output_type": "stream",
     "text": [
      "Alice      25\n",
      "Bob        22\n",
      "Charlie    30\n",
      "dtype: int64\n",
      "\n",
      "Sorted Series by Age:\n",
      " Charlie    30\n",
      "Alice      25\n",
      "Bob        22\n",
      "dtype: int64\n"
     ]
    }
   ],
   "source": [
    "# Create a sample Series\n",
    "series = pd.Series([25, 22, 30], index=['Alice', 'Bob', 'Charlie'])\n",
    "print(series)\n",
    "\n",
    "# Sort Series in descending order\n",
    "series_sorted = series.sort_values(ascending=False)\n",
    "print(\"\\nSorted Series by Age:\\n\", series_sorted)\n"
   ]
  },
  {
   "cell_type": "markdown",
   "id": "f8d5b2d7-6107-41c0-be03-de05e961c973",
   "metadata": {
    "id": "f8d5b2d7-6107-41c0-be03-de05e961c973"
   },
   "source": [
    "## __4. Plotting with Pandas__\n",
    "Plotting data is required to visualize the data in Python. Python uses the plot method in pandas to create plots; there are many types of plots available in pandas."
   ]
  },
  {
   "cell_type": "code",
   "execution_count": 69,
   "id": "7cf1cce8-340a-40ce-8b81-849181ea0a9d",
   "metadata": {
    "colab": {
     "base_uri": "https://localhost:8080/",
     "height": 430
    },
    "executionInfo": {
     "elapsed": 1189,
     "status": "ok",
     "timestamp": 1716223503846,
     "user": {
      "displayName": "Ashish Jangid",
      "userId": "15170006874299393728"
     },
     "user_tz": -330
    },
    "id": "7cf1cce8-340a-40ce-8b81-849181ea0a9d",
    "outputId": "5eb0513b-34b4-4257-cbb6-f298991b1cac"
   },
   "outputs": [
    {
     "name": "stdout",
     "output_type": "stream",
     "text": [
      "   A  B\n",
      "0  1  5\n",
      "1  2  4\n",
      "2  3  3\n",
      "3  4  2\n",
      "4  5  1\n"
     ]
    },
    {
     "data": {
      "image/png": "[encoded data removed]",
      "text/plain": [
       "<Figure size 640x480 with 1 Axes>"
      ]
     },
     "metadata": {},
     "output_type": "display_data"
    }
   ],
   "source": [
    "import pandas as pd\n",
    "import matplotlib.pyplot as plt\n",
    "\n",
    "# Create a sample DataFrame\n",
    "data = {'A': [1, 2, 3, 4, 5], 'B': [5, 4, 3, 2, 1]}\n",
    "df = pd.DataFrame(data)\n",
    "print(df)\n",
    "\n",
    "# Plot a line chart\n",
    "df.plot()\n",
    "plt.show()"
   ]
  },
  {
   "cell_type": "code",
   "execution_count": 71,
   "id": "9d80dcca-2a6b-4b91-84b0-618a6b3aecec",
   "metadata": {
    "colab": {
     "base_uri": "https://localhost:8080/",
     "height": 425
    },
    "executionInfo": {
     "elapsed": 771,
     "status": "ok",
     "timestamp": 1716223508838,
     "user": {
      "displayName": "Ashish Jangid",
      "userId": "15170006874299393728"
     },
     "user_tz": -330
    },
    "id": "9d80dcca-2a6b-4b91-84b0-618a6b3aecec",
    "outputId": "dbdbecb3-e36d-4ebf-dcc8-d5bdc676e77c"
   },
   "outputs": [
    {
     "data": {
      "image/png": "[encoded data removed]",
      "text/plain": [
       "<Figure size 640x480 with 1 Axes>"
      ]
     },
     "metadata": {},
     "output_type": "display_data"
    }
   ],
   "source": [
    "# Plot a bar chart\n",
    "df.plot(kind='barh');\n",
    "#plt.show()\n"
   ]
  },
  {
   "cell_type": "markdown",
   "id": "414bc8c6-7f95-4d39-8cff-929e89d8503c",
   "metadata": {
    "id": "414bc8c6-7f95-4d39-8cff-929e89d8503c"
   },
   "source": [
    "# __Assisted Practice__"
   ]
  },
  {
   "cell_type": "markdown",
   "id": "27541f6e-5d9e-4ae6-9c76-800a777b72b6",
   "metadata": {
    "id": "27541f6e-5d9e-4ae6-9c76-800a777b72b6"
   },
   "source": [
    "## __Problem Statement:__\n",
    "Create a detailed report on the monthly weather data by performing text manipulation, data sorting, and visualization to analyze temperature and precipitation trends.\n",
    "\n",
    "__Data:__\n",
    "The dataset contains daily observations of temperature and precipitation over a month.\n",
    "\n",
    "## __Steps to Perform:__\n",
    "\n",
    "1. Textual manipulation\n",
    "- Convert 'Day' to a string format with appropriate suffixes (1st, 2nd, 3rd, and so on)\n",
    "- Classify 'Temperature' into categories (Low, Medium, High) based on predefined thresholds\n",
    "- Determine if 'Precipitation' falls under 'Light', 'Moderate', or 'Heavy' rainfall\n",
    "\n",
    "2. Iteration and data aggregation\n",
    "- Iterate over the DataFrame to calculate weekly averages of temperature and precipitation\n",
    "- Summarize findings in a new DataFrame\n",
    "\n",
    "3. Sorting\n",
    "- Sort the DataFrame by 'Temperature' and 'Precipitation' in ascending and descending order\n",
    "- Sort the DataFrame by the day of the month\n",
    "\n",
    "4. Plotting\n",
    "- Create a line plot for temperature trends\n",
    "- Create a bar plot to compare precipitation levels across the month"
   ]
  }
 ],
 "metadata": {
  "colab": {
   "provenance": []
  },
  "kernelspec": {
   "display_name": "Python 3",
   "language": "python",
   "name": "python3"
  },
  "language_info": {
   "codemirror_mode": {
    "name": "ipython",
    "version": 3
   },
   "file_extension": ".py",
   "mimetype": "text/x-python",
   "name": "python",
   "nbconvert_exporter": "python",
   "pygments_lexer": "ipython3",
   "version": "3.12.2"
  }
 },
 "nbformat": 4,
 "nbformat_minor": 5
}
