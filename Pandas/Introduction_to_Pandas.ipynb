{
 "cells": [
  {
   "cell_type": "markdown",
   "id": "3c67c867-cf82-4fe0-89d8-d0634263d9ec",
   "metadata": {
    "id": "3c67c867-cf82-4fe0-89d8-d0634263d9ec",
    "tags": []
   },
   "source": [
    "# **Introduction to Pandas**"
   ]
  },
  {
   "cell_type": "markdown",
   "id": "9d32a3ac-eae3-4851-812d-2326cd6823b3",
   "metadata": {
    "id": "9d32a3ac-eae3-4851-812d-2326cd6823b3"
   },
   "source": [
    "## __Agenda__\n",
    "\n",
    "- Fundamentals of Pandas\n",
    "  * Purpose of Pandas\n",
    "  * Features of Pandas\n",
    "- Data Structures\n",
    "- Introduction to Series\n",
    "  * Creating and Accessing Pandas Series Using Different Methods\n",
    "  * Basic Information in Pandas Series\n",
    "  * Operations and Transformations in Pandas Series\n",
    "  * Querying a Series"
   ]
  },
  {
   "cell_type": "markdown",
   "id": "a385195c-3486-45c5-8ce2-5c69d5200843",
   "metadata": {
    "id": "a385195c-3486-45c5-8ce2-5c69d5200843"
   },
   "source": [
    "## __1. Fundamentals of Pandas__\n",
    "\n",
    "https://pandas.pydata.org/"
   ]
  },
  {
   "cell_type": "markdown",
   "id": "9345fb7e-1303-4161-92d2-e9356cc75216",
   "metadata": {
    "id": "9345fb7e-1303-4161-92d2-e9356cc75216"
   },
   "source": [
    "Pandas is an open-source library built on top of NumPy and is used for data manipulation.\n",
    "\n",
    "- It introduces data structures like DataFrame and Series that make working with structured data more efficient."
   ]
  },
  {
   "cell_type": "markdown",
   "id": "8617e603-b7e0-4013-9525-8ad7c193a8f6",
   "metadata": {
    "id": "8617e603-b7e0-4013-9525-8ad7c193a8f6"
   },
   "source": [
    "![link text](https://labcontent.simplicdn.net/data-content/content-assets/Data_and_AI/ADSP_Images/Lesson_04_Working_with_Pandas/1_Introduction_to_Pandas/pandas.png)"
   ]
  },
  {
   "cell_type": "markdown",
   "id": "a1ca32fe-da8a-4c13-9ab6-4e895699fb88",
   "metadata": {
    "id": "a1ca32fe-da8a-4c13-9ab6-4e895699fb88",
    "tags": []
   },
   "source": [
    "### __1.1 Purpose of Pandas__\n",
    "![link text](https://labcontent.simplicdn.net/data-content/content-assets/Data_and_AI/ADSP_Images/Lesson_04_Working_with_Pandas/1_Introduction_to_Pandas/Purpose_of_Pandas.png)"
   ]
  },
  {
   "cell_type": "markdown",
   "id": "770bcdf7-4b65-4c2b-99d7-58842c065608",
   "metadata": {
    "id": "770bcdf7-4b65-4c2b-99d7-58842c065608"
   },
   "source": [
    "### __1.2 Features of Pandas__\n",
    "![link text](https://labcontent.simplicdn.net/data-content/content-assets/Data_and_AI/ADSP_Images/Updated_Images/Lesson_4/4_01/Features_of_Pandas.png)\n",
    "\n",
    "\n"
   ]
  },
  {
   "cell_type": "markdown",
   "id": "dd88be0c-036f-49f8-bc15-4af597337643",
   "metadata": {
    "id": "dd88be0c-036f-49f8-bc15-4af597337643"
   },
   "source": [
    "## __2. Data Structures__\n",
    "The two main libraries of Pandas data structure are:\n",
    "![link text](https://labcontent.simplicdn.net/data-content/content-assets/Data_and_AI/ADSP_Images/Lesson_04_Working_with_Pandas/1_Introduction_to_Pandas/Data_Structures.png)"
   ]
  },
  {
   "cell_type": "markdown",
   "id": "b8d01907-9582-40fd-917c-e9e75eab6366",
   "metadata": {
    "id": "b8d01907-9582-40fd-917c-e9e75eab6366",
    "tags": []
   },
   "source": [
    "## __3. Introduction to Series__\n",
    "A Series is a one-dimensional array-like object containing data and labels or index.\n",
    "\n",
    "It can be created with different data inputs:\n",
    "![link text](https://labcontent.simplicdn.net/data-content/content-assets/Data_and_AI/ADSP_Images/Updated_Images/Lesson_4/4_01/Introduction_to_Series.png)"
   ]
  },
  {
   "cell_type": "markdown",
   "id": "68e079ba-a550-4ebe-b6f4-9a9b7b82c7e6",
   "metadata": {},
   "source": [
    "pip install pandas"
   ]
  },
  {
   "cell_type": "markdown",
   "id": "28a48d44-ce86-4c0d-a727-da25f8b42807",
   "metadata": {
    "id": "28a48d44-ce86-4c0d-a727-da25f8b42807",
    "tags": []
   },
   "source": [
    "### __3.1 Creating and Accessing Pandas Series Using Different Methods:__"
   ]
  },
  {
   "cell_type": "code",
   "execution_count": 3,
   "id": "9f70ec61-249e-455c-87de-4cd3fb373248",
   "metadata": {},
   "outputs": [
    {
     "name": "stdout",
     "output_type": "stream",
     "text": [
      "a      1.0\n",
      "1b     2.0\n",
      "3.7    3.3\n",
      "100    5.0\n",
      "dtype: float64\n"
     ]
    }
   ],
   "source": [
    "import pandas as pd\n",
    "\n",
    "# Creating a Pandas Series from a list\n",
    "data = [1, 2, 3.3,  5]\n",
    "series = pd.Series(data, index=['a','1b',3.7,100])\n",
    "print(series)"
   ]
  },
  {
   "cell_type": "code",
   "execution_count": 5,
   "id": "160c4ccf-aa7a-4d08-9733-026f51a4c3b0",
   "metadata": {},
   "outputs": [
    {
     "name": "stdout",
     "output_type": "stream",
     "text": [
      "0    10\n",
      "1    20\n",
      "2    30\n",
      "3    40\n",
      "4    50\n",
      "dtype: int64\n"
     ]
    }
   ],
   "source": [
    "data = [10, 20, 30,40,50]\n",
    "series = pd.Series(data)\n",
    "print(series)"
   ]
  },
  {
   "cell_type": "code",
   "execution_count": 13,
   "id": "bd41d9a1-bb60-462d-acd3-beebc458c88c",
   "metadata": {},
   "outputs": [
    {
     "name": "stdout",
     "output_type": "stream",
     "text": [
      "a    10\n",
      "b    20\n",
      "c    30\n",
      "d    40\n",
      "e    50\n",
      "dtype: int64\n",
      "30\n",
      "20\n",
      "40\n"
     ]
    }
   ],
   "source": [
    "# Creating a Pandas Series with a specified index\n",
    "index = ['a', 'b', 'c', 'd', 'e']\n",
    "series_with_index = pd.Series(data, index=index)\n",
    "print(series_with_index)\n",
    "# Accessing data in a Series\n",
    "print(series_with_index.iloc[2])  # Accessing element at index 2\n",
    "print(series_with_index.loc['b'])  # Accessing element with index 'b'\n",
    "print(series_with_index.iloc[-2])  # Accessing element at index -2\n"
   ]
  },
  {
   "cell_type": "markdown",
   "id": "ae7c2aae-2afa-4cef-9815-1389be617fdf",
   "metadata": {},
   "source": [
    "Indexing: \n",
    "\n",
    "iloc - integer based indexing\n",
    "loc - label based indexing"
   ]
  },
  {
   "cell_type": "code",
   "execution_count": 15,
   "id": "e91182e5-450b-4c55-9667-269e42677f84",
   "metadata": {},
   "outputs": [
    {
     "name": "stdout",
     "output_type": "stream",
     "text": [
      "a    10\n",
      "b    20\n",
      "c    30\n",
      "d    40\n",
      "e    50\n",
      "dtype: int64\n",
      "c    30\n",
      "d    40\n",
      "dtype: int64\n",
      "c    30\n",
      "d    40\n",
      "e    50\n",
      "dtype: int64\n"
     ]
    }
   ],
   "source": [
    "print(series_with_index)\n",
    "print(series_with_index.iloc[2:4]) \n",
    "print(series_with_index.loc['c':'e']) "
   ]
  },
  {
   "cell_type": "code",
   "execution_count": 41,
   "id": "bf489ae7-3094-4dbe-b4a1-7feab6cd68df",
   "metadata": {},
   "outputs": [
    {
     "name": "stdout",
     "output_type": "stream",
     "text": [
      "cat      1\n",
      "b        2\n",
      "c        3\n",
      "111      4\n",
      "e      bus\n",
      "dtype: object\n"
     ]
    }
   ],
   "source": [
    "# Creating a Pandas Series from a dictionary\n",
    "data_dict = {'cat': 1, 'b': 2, 'c': 3, 111: 4, 'e': 'bus'}\n",
    "series_from_dict = pd.Series(data_dict)\n",
    "print(series_from_dict)"
   ]
  },
  {
   "cell_type": "markdown",
   "id": "60772331-3d1f-442d-8d6e-91263a8e8d9f",
   "metadata": {
    "id": "60772331-3d1f-442d-8d6e-91263a8e8d9f"
   },
   "source": [
    "### __3.2 Basic Information in Pandas Series__\n",
    "These functions collectively help analysts summarize and understand the characteristics of the data, facilitating effective data exploration and analysis."
   ]
  },
  {
   "cell_type": "code",
   "execution_count": 19,
   "id": "828d749d-8a21-4e52-a01b-ece7a1ec6280",
   "metadata": {},
   "outputs": [
    {
     "name": "stdout",
     "output_type": "stream",
     "text": [
      "0    10\n",
      "1    20\n",
      "2    30\n",
      "3    40\n",
      "4    50\n",
      "dtype: int64\n",
      "head\n",
      "0    10\n",
      "1    20\n",
      "2    30\n",
      "dtype: int64\n"
     ]
    }
   ],
   "source": [
    "print(series)\n",
    "# Return the first n rows\n",
    "print(\"head\")\n",
    "first_n_rows = series.head(3)\n",
    "print(first_n_rows)"
   ]
  },
  {
   "cell_type": "code",
   "execution_count": 27,
   "id": "2f3ce24b-b7f2-464d-9253-05ffb7ee8111",
   "metadata": {},
   "outputs": [
    {
     "name": "stdout",
     "output_type": "stream",
     "text": [
      "0    1\n",
      "1    2\n",
      "2    3\n",
      "3    4\n",
      "4    5\n",
      "dtype: int64\n",
      "tail\n",
      "3    4\n",
      "4    5\n",
      "dtype: int64\n"
     ]
    }
   ],
   "source": [
    "print(series)\n",
    "# Return the last n rows\n",
    "print(\"tail\")\n",
    "last_n_rows = series.tail(2)\n",
    "print(last_n_rows)"
   ]
  },
  {
   "cell_type": "code",
   "execution_count": 21,
   "id": "aa1b15e7-dff9-4862-9e8a-c2dfa74050d8",
   "metadata": {},
   "outputs": [
    {
     "name": "stdout",
     "output_type": "stream",
     "text": [
      "(5,)\n"
     ]
    }
   ],
   "source": [
    "# Return dimensions (Rows, columns)\n",
    "dimensions = series.shape\n",
    "print(dimensions)"
   ]
  },
  {
   "cell_type": "code",
   "execution_count": 45,
   "id": "8b69aca2-604a-4bc9-b223-948c19711aa4",
   "metadata": {},
   "outputs": [
    {
     "name": "stdout",
     "output_type": "stream",
     "text": [
      "count    4.000000\n",
      "mean     2.750000\n",
      "std      1.707825\n",
      "min      1.000000\n",
      "25%      1.750000\n",
      "50%      2.500000\n",
      "75%      3.500000\n",
      "max      5.000000\n",
      "dtype: float64\n"
     ]
    }
   ],
   "source": [
    "# Generate descriptive statistics\n",
    "stats = series.describe()\n",
    "print(stats)"
   ]
  },
  {
   "cell_type": "code",
   "execution_count": 41,
   "id": "a471e39a-64fd-4f8f-9b49-185680e8feec",
   "metadata": {
    "id": "a471e39a-64fd-4f8f-9b49-185680e8feec"
   },
   "outputs": [
    {
     "name": "stdout",
     "output_type": "stream",
     "text": [
      "a      1\n",
      "1b     2\n",
      "3.7    3\n",
      "100    3\n",
      "1      5\n",
      "dtype: int64\n",
      "[1 2 3 5]\n"
     ]
    }
   ],
   "source": [
    "# Creating a Pandas Series from a list\n",
    "data = [1, 2, 3,3, 5]\n",
    "series = pd.Series(data, index=['a','1b',3.7,100,1])\n",
    "print(series)\n",
    "\n",
    "# Return unique values\n",
    "unique_values = series.unique()\n",
    "print(unique_values)\n"
   ]
  },
  {
   "cell_type": "code",
   "execution_count": 33,
   "id": "614fe463-4b02-4deb-b869-a91e1f3e2e6a",
   "metadata": {},
   "outputs": [
    {
     "name": "stdout",
     "output_type": "stream",
     "text": [
      "4\n"
     ]
    }
   ],
   "source": [
    "# Return the number of unique values\n",
    "num_unique_values = series.nunique()\n",
    "print(num_unique_values)"
   ]
  },
  {
   "cell_type": "markdown",
   "id": "1a1a87d2-e7ce-41fb-87c9-7670bf341fce",
   "metadata": {
    "id": "1a1a87d2-e7ce-41fb-87c9-7670bf341fce"
   },
   "source": [
    "### __3.3 Operations and Transformations in Pandas Series__\n",
    "Operations and transformations in Pandas Series are crucial for modifying, enhancing, and cleaning data effectively.\n",
    "\n",
    "They provide flexibility to adapt data to specific analyses or visualizations, preparing it for meaningful insights and ensuring data quality."
   ]
  },
  {
   "cell_type": "code",
   "execution_count": 25,
   "id": "2c5aa7ed-3fe2-4e58-95e4-e000ed7d0723",
   "metadata": {},
   "outputs": [
    {
     "name": "stdout",
     "output_type": "stream",
     "text": [
      "0    10\n",
      "1    20\n",
      "2    30\n",
      "3    40\n",
      "4    50\n",
      "dtype: int64\n",
      "a    10\n",
      "b    20\n",
      "c    30\n",
      "d    40\n",
      "e    50\n",
      "dtype: int64\n",
      "0   NaN\n",
      "1   NaN\n",
      "2   NaN\n",
      "3   NaN\n",
      "4   NaN\n",
      "a   NaN\n",
      "b   NaN\n",
      "c   NaN\n",
      "d   NaN\n",
      "e   NaN\n",
      "dtype: float64\n"
     ]
    }
   ],
   "source": [
    "print(series)\n",
    "print(series_with_index)\n",
    "# Element-wise addition\n",
    "result_series = series + series_with_index\n",
    "print(result_series)\n",
    "\n"
   ]
  },
  {
   "cell_type": "code",
   "execution_count": 70,
   "id": "7eedf4e1-0caf-4d06-ade9-d0e94c315665",
   "metadata": {},
   "outputs": [
    {
     "name": "stdout",
     "output_type": "stream",
     "text": [
      "1       True\n",
      "3.7     True\n",
      "100     True\n",
      "1b      True\n",
      "a      False\n",
      "b       True\n",
      "c       True\n",
      "d       True\n",
      "e       True\n",
      "dtype: bool\n"
     ]
    }
   ],
   "source": [
    "# Check for missing values\n",
    "missing_values = result_series.isnull()\n",
    "print(missing_values)\n",
    "\n"
   ]
  },
  {
   "cell_type": "code",
   "execution_count": 39,
   "id": "467f0fdf-c2c8-4e3f-be97-b6a88df81829",
   "metadata": {},
   "outputs": [
    {
     "name": "stdout",
     "output_type": "stream",
     "text": [
      "1       True\n",
      "3.7     True\n",
      "100     True\n",
      "1b      True\n",
      "a      False\n",
      "b       True\n",
      "c       True\n",
      "d       True\n",
      "e       True\n",
      "dtype: bool\n"
     ]
    }
   ],
   "source": [
    "# Check for missing values\n",
    "missing_values = result_series.isna()\n",
    "print(missing_values)"
   ]
  },
  {
   "cell_type": "code",
   "execution_count": 27,
   "id": "100f15ff-8516-45c5-9b8b-3b02e6df1a5e",
   "metadata": {},
   "outputs": [
    {
     "name": "stdout",
     "output_type": "stream",
     "text": [
      "0    10.0\n",
      "1    10.0\n",
      "2    10.0\n",
      "3    10.0\n",
      "4    10.0\n",
      "a    10.0\n",
      "b    10.0\n",
      "c    10.0\n",
      "d    10.0\n",
      "e    10.0\n",
      "dtype: float64\n"
     ]
    }
   ],
   "source": [
    "# Fill missing values with a specified value\n",
    "filled_series = result_series.fillna(10)\n",
    "print(filled_series)"
   ]
  },
  {
   "cell_type": "code",
   "execution_count": 43,
   "id": "542ea8d7-66fd-4fbb-9785-ae12f21aa41c",
   "metadata": {
    "id": "542ea8d7-66fd-4fbb-9785-ae12f21aa41c"
   },
   "outputs": [
    {
     "name": "stdout",
     "output_type": "stream",
     "text": [
      "a      1\n",
      "1b     2\n",
      "3.7    3\n",
      "100    3\n",
      "1      5\n",
      "dtype: int64\n",
      "a       1\n",
      "1b      4\n",
      "3.7     9\n",
      "100     9\n",
      "1      25\n",
      "dtype: int64\n",
      "a        one\n",
      "1b       two\n",
      "3.7    three\n",
      "100    three\n",
      "1        NaN\n",
      "dtype: object\n",
      "a      1\n",
      "1b     2\n",
      "3.7    3\n",
      "100    3\n",
      "1      5\n",
      "dtype: int64\n",
      "a      False\n",
      "1b     False\n",
      "3.7    False\n",
      "100    False\n",
      "1      False\n",
      "dtype: bool\n",
      "a      1\n",
      "1b     2\n",
      "3.7    3\n",
      "100    3\n",
      "1      5\n",
      "dtype: int64\n"
     ]
    }
   ],
   "source": [
    "print(series)\n",
    "\n",
    "# Apply a function to each element\n",
    "squared_series = series.apply(lambda x: x**2)\n",
    "print(squared_series)\n",
    "\n",
    "# Map values using a dictionary\n",
    "mapped_series = series.map({1: 'one', 2: 'two', 3: 'three'})\n",
    "print(mapped_series)\n",
    "\n",
    "# Sort the Series by values\n",
    "sorted_series = series.sort_values()\n",
    "print(sorted_series)\n",
    "\n",
    "# Check for missing values\n",
    "missing_values = series.isnull()\n",
    "print(missing_values)\n",
    "\n",
    "# Fill missing values with a specified value\n",
    "filled_series = series.fillna(0)\n",
    "print(filled_series)"
   ]
  },
  {
   "cell_type": "markdown",
   "id": "121da6d4-b523-49dd-8bb0-0e9c14a04a69",
   "metadata": {
    "id": "121da6d4-b523-49dd-8bb0-0e9c14a04a69"
   },
   "source": [
    "### __3.4 Querying a Series__\n",
    "Selecting and filtering data based on specific conditions is an essential aspect of querying a Pandas Series.\n",
    "\n",
    "The following examples illustrate common querying operations that can be applied to a Pandas Series:"
   ]
  },
  {
   "cell_type": "code",
   "execution_count": 74,
   "id": "f978fe5c-2f91-432d-ba2f-5e73cda44a25",
   "metadata": {},
   "outputs": [
    {
     "name": "stdout",
     "output_type": "stream",
     "text": [
      "a    10\n",
      "b    20\n",
      "c    30\n",
      "d    40\n",
      "e    50\n",
      "dtype: int64\n"
     ]
    }
   ],
   "source": [
    "import pandas as pd\n",
    "\n",
    "# Create a Pandas Series\n",
    "data = {'a': 10, 'b': 20, 'c': 30, 'd': 40, 'e': 50}\n",
    "series = pd.Series(data)\n",
    "print(series)                  "
   ]
  },
  {
   "cell_type": "code",
   "execution_count": 76,
   "id": "f053f39f-5779-42b6-a01f-a9aad6f987ac",
   "metadata": {},
   "outputs": [
    {
     "name": "stdout",
     "output_type": "stream",
     "text": [
      "d    40\n",
      "e    50\n",
      "dtype: int64\n"
     ]
    }
   ],
   "source": [
    "# Select elements greater than 30\n",
    "selected_greater_than_30 = series[series > 30]\n",
    "print(selected_greater_than_30)"
   ]
  },
  {
   "cell_type": "code",
   "execution_count": 80,
   "id": "49037fe5-0fbf-4ddc-961b-348affd39867",
   "metadata": {
    "id": "49037fe5-0fbf-4ddc-961b-348affd39867",
    "outputId": "01f56920-257e-4d0e-dd42-7e297f589e32"
   },
   "outputs": [
    {
     "name": "stdout",
     "output_type": "stream",
     "text": [
      "Original Series:\n",
      "a    10\n",
      "b    20\n",
      "c    30\n",
      "d    40\n",
      "e    50\n",
      "dtype: int64\n",
      "\n",
      "Selected greater than 30:\n",
      "d    40\n",
      "e    50\n",
      "dtype: int64\n",
      "\n",
      "Selected equal To 20:\n",
      "b    20\n",
      "dtype: int64\n",
      "\n",
      "Selected not equal to 40:\n",
      "a    10\n",
      "b    20\n",
      "c    30\n",
      "e    50\n",
      "dtype: int64\n",
      "\n",
      "Selected based on multiple conditions:\n",
      "c    30\n",
      "d    40\n",
      "dtype: int64\n",
      "\n",
      "Selected based on list of values:\n",
      "b    20\n",
      "d    40\n",
      "dtype: int64\n",
      "\n",
      "Selected based on index labels:\n",
      "a    10\n",
      "c    30\n",
      "e    50\n",
      "dtype: int64\n",
      "\n",
      "Selected based on numeric position:\n",
      "b    20\n",
      "c    30\n",
      "d    40\n",
      "dtype: int64\n"
     ]
    }
   ],
   "source": [
    "# Select elements equal to 20\n",
    "selected_equal_to_20 = series[series == 20]\n",
    "\n",
    "# Select elements not equal to 40\n",
    "selected_not_equal_to_40 = series[series != 40]\n",
    "\n",
    "# Select elements based on multiple conditions\n",
    "selected_multiple_conditions = series[(series > 20) & (series < 50)]\n",
    "\n",
    "# Select elements based on a list of values\n",
    "selected_by_list = series[series.isin([20, 40, 60])]\n",
    "\n",
    "\n",
    "\n",
    "# Query based on index labels\n",
    "selected_by_index_labels = series.loc[['a', 'c', 'e']]\n",
    "\n",
    "# Query based on numeric position\n",
    "selected_by_numeric_position = series.iloc[1:4]\n",
    "\n",
    "# Display the results\n",
    "print(\"Original Series:\")\n",
    "print(series)\n",
    "print(\"\\nSelected greater than 30:\")\n",
    "print(selected_greater_than_30)\n",
    "print(\"\\nSelected equal To 20:\")\n",
    "print(selected_equal_to_20)\n",
    "print(\"\\nSelected not equal to 40:\")\n",
    "print(selected_not_equal_to_40)\n",
    "print(\"\\nSelected based on multiple conditions:\")\n",
    "print(selected_multiple_conditions)\n",
    "print(\"\\nSelected based on list of values:\")\n",
    "print(selected_by_list)\n",
    "\n",
    "print(\"\\nSelected based on index labels:\")\n",
    "print(selected_by_index_labels)\n",
    "print(\"\\nSelected based on numeric position:\")\n",
    "print(selected_by_numeric_position)"
   ]
  },
  {
   "cell_type": "code",
   "execution_count": 29,
   "id": "8db7246a-7508-4bd2-ad57-3942c24ff9b0",
   "metadata": {},
   "outputs": [
    {
     "name": "stdout",
     "output_type": "stream",
     "text": [
      "1         apple\n",
      "2        banana\n",
      "3         berry\n",
      "4          date\n",
      "5    elderberry\n",
      "dtype: object\n",
      "\n",
      "Selected based on string method (startswith):\n",
      "2    banana\n",
      "3     berry\n",
      "dtype: object\n"
     ]
    }
   ],
   "source": [
    "# Select elements using string methods (if applicable)\n",
    "string_series = pd.Series(['apple', 'banana', 'berry', 'date', 'elderberry'],index=range(1,6))\n",
    "print(string_series)\n",
    "selected_by_string_method = string_series[string_series.str.startswith('b')]\n",
    "print(\"\\nSelected based on string method (startswith):\")\n",
    "print(selected_by_string_method)"
   ]
  },
  {
   "cell_type": "markdown",
   "id": "e3ddd0e9-7811-4789-837b-97d990a6cda3",
   "metadata": {
    "id": "e3ddd0e9-7811-4789-837b-97d990a6cda3"
   },
   "source": [
    "# __Assisted Practice__"
   ]
  },
  {
   "cell_type": "markdown",
   "id": "9e883c5a-f17e-4288-9974-5989e4a41280",
   "metadata": {
    "id": "9e883c5a-f17e-4288-9974-5989e4a41280"
   },
   "source": [
    "## __Problem Statement:__\n",
    "Use Pandas Series to analyze sales data for a retail store over a week and draw insights from the data."
   ]
  },
  {
   "cell_type": "markdown",
   "id": "5ae30417-d7c6-46b5-a759-ef31abd7b50f",
   "metadata": {
    "id": "5ae30417-d7c6-46b5-a759-ef31abd7b50f"
   },
   "source": [
    "### __Dataset:__\n",
    "__Sample sales data__\n",
    "\n",
    "sales_data = [120, 150, 130, 170, 160, 180, 140]\n",
    "\n",
    "days_of_week = ['Monday', 'Tuesday', 'Wednesday', 'Thursday', 'Friday', 'Saturday', 'Sunday']"
   ]
  },
  {
   "cell_type": "markdown",
   "id": "5314d501-3cd9-4e86-8861-cbf71a0a3a51",
   "metadata": {
    "id": "5314d501-3cd9-4e86-8861-cbf71a0a3a51"
   },
   "source": [
    "## __Steps to Perform__\n",
    "\n",
    "1. Create a Pandas Series for sales data\n",
    "- Use a list of daily sales figures to create a Pandas Series\n",
    "- Assign days of the week as the index\n",
    "2. Access and manipulate sales data\n",
    "- Access sales data for specific days using index labels\n",
    "- Calculate total sales for the week\n",
    "- Identify the day with the highest and lowest sales\n",
    "   \n",
    "3. Basic analysis of sales data\n",
    "- Calculate the average sales for the week\n",
    "- Determine the days with sales figures significantly different from the average"
   ]
  },
  {
   "cell_type": "code",
   "execution_count": 8,
   "id": "81991eb5-51c2-4bb3-a900-9136e975970a",
   "metadata": {
    "id": "81991eb5-51c2-4bb3-a900-9136e975970a"
   },
   "outputs": [
    {
     "name": "stdout",
     "output_type": "stream",
     "text": [
      "Monday       120\n",
      "Tuesday      150\n",
      "Wednesday    130\n",
      "Thursday     170\n",
      "Friday       160\n",
      "Saturday     180\n",
      "Sunday       140\n",
      "dtype: int64\n"
     ]
    }
   ],
   "source": [
    "import pandas as pd\n",
    "data = [120, 150, 130, 170, 160, 180, 140]\n",
    "days = ['Monday', 'Tuesday', 'Wednesday', 'Thursday', 'Friday', 'Saturday', 'Sunday']\n",
    "sales = pd.Series(data, index=days)\n",
    "print (sales_index)"
   ]
  },
  {
   "cell_type": "code",
   "execution_count": 26,
   "id": "9752323a-76a6-487a-ad9f-93af4d551e10",
   "metadata": {},
   "outputs": [
    {
     "name": "stdout",
     "output_type": "stream",
     "text": [
      "Monday       120\n",
      "Tuesday      150\n",
      "Wednesday    130\n",
      "dtype: int64\n",
      "Sales on Friday: 160\n",
      "170\n",
      "140\n"
     ]
    }
   ],
   "source": [
    "print(sales[[\"Monday\", 'Tuesday', 'Wednesday']])\n",
    "print(\"Sales on Friday:\", sales.loc['Friday'])\n",
    "print( sales.iloc[3])\n",
    "print(sales.iloc[6])"
   ]
  },
  {
   "cell_type": "code",
   "execution_count": 28,
   "id": "5bf0af68-3650-4083-9948-8c5d856a2e87",
   "metadata": {},
   "outputs": [
    {
     "data": {
      "text/plain": [
       "(7,)"
      ]
     },
     "execution_count": 28,
     "metadata": {},
     "output_type": "execute_result"
    }
   ],
   "source": [
    "sales.shape"
   ]
  },
  {
   "cell_type": "code",
   "execution_count": 30,
   "id": "0131deea-6277-4781-8142-ec64d302511b",
   "metadata": {},
   "outputs": [
    {
     "data": {
      "text/plain": [
       "1"
      ]
     },
     "execution_count": 30,
     "metadata": {},
     "output_type": "execute_result"
    }
   ],
   "source": [
    "sales.ndim"
   ]
  },
  {
   "cell_type": "code",
   "execution_count": 32,
   "id": "50219ffd-dd7c-477c-9786-1bbdf341dd6b",
   "metadata": {},
   "outputs": [
    {
     "name": "stdout",
     "output_type": "stream",
     "text": [
      "1050\n"
     ]
    }
   ],
   "source": [
    "Total_sales = sales.sum()\n",
    "print(Total_sales)"
   ]
  },
  {
   "cell_type": "code",
   "execution_count": 34,
   "id": "f5414c07-fb5d-46b9-aedc-81d9c0c9162f",
   "metadata": {},
   "outputs": [
    {
     "data": {
      "text/plain": [
       "count      7.000000\n",
       "mean     150.000000\n",
       "std       21.602469\n",
       "min      120.000000\n",
       "25%      135.000000\n",
       "50%      150.000000\n",
       "75%      165.000000\n",
       "max      180.000000\n",
       "dtype: float64"
      ]
     },
     "execution_count": 34,
     "metadata": {},
     "output_type": "execute_result"
    }
   ],
   "source": [
    "sales.describe()"
   ]
  },
  {
   "cell_type": "code",
   "execution_count": 46,
   "id": "abe91d21-22b5-496e-9e7d-a573e9242b50",
   "metadata": {},
   "outputs": [
    {
     "name": "stdout",
     "output_type": "stream",
     "text": [
      "Saturday\n",
      "Monday\n"
     ]
    }
   ],
   "source": [
    "print(days[sales.argmax()])\n",
    "print(days[sales.argmin()])\n",
    "\n"
   ]
  },
  {
   "cell_type": "code",
   "execution_count": 49,
   "id": "5eb6ff8e-f4dc-45f3-b1a8-d1058d6374a6",
   "metadata": {},
   "outputs": [
    {
     "name": "stdout",
     "output_type": "stream",
     "text": [
      "150.0\n"
     ]
    }
   ],
   "source": [
    "avg_sales = sales.mean()\n",
    "print(avg_sales)\n"
   ]
  },
  {
   "cell_type": "code",
   "execution_count": 55,
   "id": "40a16f82-fe90-4ea7-9eb8-d921b3d795ed",
   "metadata": {},
   "outputs": [
    {
     "name": "stdout",
     "output_type": "stream",
     "text": [
      "Average Sales =  150.0\n"
     ]
    }
   ],
   "source": [
    "import numpy as np\n",
    "print ('Average Sales = ',np.mean(data))"
   ]
  },
  {
   "cell_type": "code",
   "execution_count": 57,
   "id": "9708b28c-ed57-41ba-bbeb-205447436ce5",
   "metadata": {},
   "outputs": [
    {
     "name": "stdout",
     "output_type": "stream",
     "text": [
      "Monday       120\n",
      "Wednesday    130\n",
      "Thursday     170\n",
      "Friday       160\n",
      "Saturday     180\n",
      "Sunday       140\n",
      "dtype: int64\n"
     ]
    }
   ],
   "source": [
    "Different = sales[(sales!=avg_sales)]\n",
    "print(Different)"
   ]
  },
  {
   "cell_type": "code",
   "execution_count": 63,
   "id": "7ca535f5-456b-4989-9058-0421e541d608",
   "metadata": {},
   "outputs": [
    {
     "name": "stdout",
     "output_type": "stream",
     "text": [
      "0    120\n",
      "1    150\n",
      "2    130\n",
      "3    170\n",
      "4    160\n",
      "5    180\n",
      "6    140\n",
      "dtype: int64\n"
     ]
    }
   ],
   "source": [
    "import pandas as pd\n",
    "data = [120, 150, 130, 170, 160, 180, 140]\n",
    "sales1 = pd.Series(data)\n",
    "print (sales1)"
   ]
  },
  {
   "cell_type": "code",
   "execution_count": 65,
   "id": "b1917e7d-0b8f-4c0b-80ef-47f880d96c2d",
   "metadata": {},
   "outputs": [
    {
     "name": "stdout",
     "output_type": "stream",
     "text": [
      "0    12\n",
      "1    10\n",
      "2    10\n",
      "3    17\n",
      "4    16\n",
      "5    18\n",
      "6    14\n",
      "dtype: int64\n"
     ]
    }
   ],
   "source": [
    "data2 = [12, 10, 10, 17, 16, 18, 14]\n",
    "sales2 = pd.Series(data2)\n",
    "print (sales2)"
   ]
  },
  {
   "cell_type": "code",
   "execution_count": 67,
   "id": "e701be3c-7bd5-4b96-9748-67f5da92e84c",
   "metadata": {},
   "outputs": [
    {
     "data": {
      "text/plain": [
       "0    120\n",
       "1    150\n",
       "2    130\n",
       "3    170\n",
       "4    160\n",
       "5    180\n",
       "6    140\n",
       "dtype: int64"
      ]
     },
     "execution_count": 67,
     "metadata": {},
     "output_type": "execute_result"
    }
   ],
   "source": [
    "sales1"
   ]
  },
  {
   "cell_type": "code",
   "execution_count": 69,
   "id": "63b89848-6dab-4c5d-9c4a-fe7a4d98db90",
   "metadata": {},
   "outputs": [
    {
     "data": {
      "text/plain": [
       "0    132\n",
       "1    160\n",
       "2    140\n",
       "3    187\n",
       "4    176\n",
       "5    198\n",
       "6    154\n",
       "dtype: int64"
      ]
     },
     "execution_count": 69,
     "metadata": {},
     "output_type": "execute_result"
    }
   ],
   "source": [
    "sales1+sales2"
   ]
  },
  {
   "cell_type": "code",
   "execution_count": 77,
   "id": "f62fe07d-dffa-480c-a721-c4be981e2803",
   "metadata": {},
   "outputs": [
    {
     "data": {
      "text/plain": [
       "Index(['Monday', 'Tuesday', 'Wednesday', 'Thursday', 'Friday', 'Saturday',\n",
       "       'Sunday'],\n",
       "      dtype='object')"
      ]
     },
     "execution_count": 77,
     "metadata": {},
     "output_type": "execute_result"
    }
   ],
   "source": [
    "sales.index"
   ]
  },
  {
   "cell_type": "code",
   "execution_count": 79,
   "id": "499c6c3f-62b1-4c50-b347-93847bf04358",
   "metadata": {},
   "outputs": [
    {
     "data": {
      "text/plain": [
       "Index(['Wednesday', 'Thursday', 'Friday'], dtype='object')"
      ]
     },
     "execution_count": 79,
     "metadata": {},
     "output_type": "execute_result"
    }
   ],
   "source": [
    "sales.index[2:5]"
   ]
  }
 ],
 "metadata": {
  "colab": {
   "provenance": []
  },
  "kernelspec": {
   "display_name": "Python 3 (ipykernel)",
   "language": "python",
   "name": "python3"
  },
  "language_info": {
   "codemirror_mode": {
    "name": "ipython",
    "version": 3
   },
   "file_extension": ".py",
   "mimetype": "text/x-python",
   "name": "python",
   "nbconvert_exporter": "python",
   "pygments_lexer": "ipython3",
   "version": "3.12.7"
  }
 },
 "nbformat": 4,
 "nbformat_minor": 5
}
