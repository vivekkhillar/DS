{
 "cells": [
  {
   "cell_type": "markdown",
   "id": "23847bb0-3e3b-462a-9eb7-252c71c6d5ec",
   "metadata": {
    "id": "23847bb0-3e3b-462a-9eb7-252c71c6d5ec"
   },
   "source": [
    "# __Attributes and Functions in Python__"
   ]
  },
  {
   "cell_type": "markdown",
   "id": "c10bf356-10ec-404a-bf19-ed22dc7808cb",
   "metadata": {},
   "source": [
    "https://numpy.org/doc/2.2/user/absolute_beginners.html"
   ]
  },
  {
   "cell_type": "markdown",
   "id": "0cf385a4-ad7d-4594-98f1-1eefa6e0869d",
   "metadata": {
    "id": "0cf385a4-ad7d-4594-98f1-1eefa6e0869d"
   },
   "source": [
    "## __Agenda__\n",
    "In this lesson, we will cover the following concepts with the help of examples:\n",
    "\n",
    "- Attributes of NumPy Arrays\n",
    "  * Explanation of Attributes\n",
    "- NumPy Array Functions"
   ]
  },
  {
   "cell_type": "markdown",
   "id": "0cd46bd7-a525-4e98-a7cd-d164e3c87961",
   "metadata": {
    "id": "0cd46bd7-a525-4e98-a7cd-d164e3c87961"
   },
   "source": [
    "## __1. Attributes of NumPy Arrays__ ##\n",
    "\n",
    "Few common attributes of NumPy array:"
   ]
  },
  {
   "cell_type": "markdown",
   "id": "eba8d5c5-433f-4f92-be11-c911417eb616",
   "metadata": {
    "id": "eba8d5c5-433f-4f92-be11-c911417eb616"
   },
   "source": [
    "![link text](https://labcontent.simplicdn.net/data-content/content-assets/Data_and_AI/ADSP_Images/Lesson_03_NumPy/2_Attributes_and_Functions_in_Python/Image_1.png)"
   ]
  },
  {
   "cell_type": "code",
   "execution_count": 25,
   "id": "5e7c025a-7072-4db7-92aa-3ca6acf97d49",
   "metadata": {
    "id": "5e7c025a-7072-4db7-92aa-3ca6acf97d49",
    "outputId": "cb4dac73-5e3c-4073-e5ef-c43bfc5c6394"
   },
   "outputs": [
    {
     "name": "stdout",
     "output_type": "stream",
     "text": [
      "[[1 2 3]\n",
      " [4 7 5]]\n",
      "No. of dimensions:  2\n",
      "Shape of array:  (2, 3)\n",
      "Size of array:  6\n",
      "Array stores elements of type:  int32\n",
      "Length of one array element in bytes. :  4\n",
      "array’s data. :  <memory at 0x00000251F0B39080>\n"
     ]
    }
   ],
   "source": [
    "# An example for each attribute is given below:\n",
    "import numpy as np\n",
    "arr = np.array([[ 1, 2, 3], [ 4,7, 5]])\n",
    "print (arr)\n",
    "print(\"No. of dimensions: \", arr.ndim)\n",
    "print(\"Shape of array: \", arr.shape)\n",
    "print(\"Size of array: \", arr.size)\n",
    "print(\"Array stores elements of type: \", arr.dtype)\n",
    "print(\"Length of one array element in bytes. : \", arr.itemsize)\n",
    "print(\"array’s data. : \", arr.data)"
   ]
  },
  {
   "cell_type": "code",
   "execution_count": 27,
   "id": "691ef03e-56a7-4e3d-acc1-4ca2903b241b",
   "metadata": {},
   "outputs": [
    {
     "name": "stdout",
     "output_type": "stream",
     "text": [
      "[['cat' '2' '3']\n",
      " ['4' '2.0' '5.8']]\n",
      "No. of dimensions:  2\n",
      "Shape of array:  (2, 3)\n",
      "Size of array:  6\n",
      "Array stores elements of type:  <U32\n",
      "Length of one array element in bytes. :  128\n",
      "array’s data. :  <memory at 0x00000251F0B43920>\n"
     ]
    }
   ],
   "source": [
    "arr = np.array([[ \"cat\", 2, 3], [ 4, 2.0, 5.8]])\n",
    "print (arr)\n",
    "print(\"No. of dimensions: \", arr.ndim)\n",
    "print(\"Shape of array: \", arr.shape)\n",
    "print(\"Size of array: \", arr.size)\n",
    "print(\"Array stores elements of type: \", arr.dtype)\n",
    "print(\"Length of one array element in bytes. : \", arr.itemsize)\n",
    "print(\"array’s data. : \", arr.data)"
   ]
  },
  {
   "cell_type": "markdown",
   "id": "3ae65e85-f49d-4dec-a23d-38844777a7e0",
   "metadata": {
    "id": "3ae65e85-f49d-4dec-a23d-38844777a7e0"
   },
   "source": [
    "### __1.1 Explanation of Attributes:__ ###\n",
    "- `ndarray.ndim`: It is the number of axes (dimensions) of the array.\n",
    "\n",
    "![link text](https://labcontent.simplicdn.net/data-content/content-assets/Data_and_AI/ADSP_Images/Lesson_03_NumPy/2_Attributes_and_Functions_in_Python/Image_2.png)\n",
    "\n",
    "- `ndarray.shape`: It provides the size of the array for each dimension. The output data type is a tuple.\n",
    "\n",
    "![link text](https://labcontent.simplicdn.net/data-content/content-assets/Data_and_AI/ADSP_Images/Lesson_03_NumPy/2_Attributes_and_Functions_in_Python/Image_3.png)\n",
    "\n",
    "- `ndarray.size` : It is the total number of elements in the array.\n",
    "\n",
    "![link text](https://labcontent.simplicdn.net/data-content/content-assets/Data_and_AI/ADSP_Images/Lesson_03_NumPy/2_Attributes_and_Functions_in_Python/Image_4.png)\n",
    "\n",
    "- `ndarray.dtype`: It shows the data type of the elements in the array.\n",
    "\n",
    "![link text](https://labcontent.simplicdn.net/data-content/content-assets/Data_and_AI/ADSP_Images/Lesson_03_NumPy/2_Attributes_and_Functions_in_Python/Image_5.png)\n",
    "\n",
    "- `ndarray.itemsize`: It shows the length of one array element in bytes.\n",
    "\n",
    "![link text](https://labcontent.simplicdn.net/data-content/content-assets/Data_and_AI/ADSP_Images/Lesson_03_NumPy/2_Attributes_and_Functions_in_Python/IMage_6.png)\n",
    "\n",
    "- `ndarray.data`: It is an attribute offering direct access to the raw memory of a NumPy array."
   ]
  },
  {
   "cell_type": "markdown",
   "id": "9c0e9d14-ccfe-4601-bf31-747a1f84690b",
   "metadata": {
    "id": "9c0e9d14-ccfe-4601-bf31-747a1f84690b"
   },
   "source": [
    "## __2. NumPy Array Functions__ ##\n",
    "![link text](https://labcontent.simplicdn.net/data-content/content-assets/Data_and_AI/ADSP_Images/Lesson_03_NumPy/2_Attributes_and_Functions_in_Python/Image_7.png)\n",
    "\n",
    "- `ndarray.reshape`: It is used to reshape (new shape) the current elements of an array."
   ]
  },
  {
   "cell_type": "code",
   "execution_count": 11,
   "id": "5811ed9a-89f7-4983-8a8a-d9af24d02c7a",
   "metadata": {
    "id": "5811ed9a-89f7-4983-8a8a-d9af24d02c7a",
    "outputId": "03c08420-40cf-47ab-a06b-2be53b0e5814"
   },
   "outputs": [
    {
     "name": "stdout",
     "output_type": "stream",
     "text": [
      "1\n",
      "[[[ 1  2]\n",
      "  [ 3  4]]\n",
      "\n",
      " [[ 5  6]\n",
      "  [ 7  8]]\n",
      "\n",
      " [[ 9 10]\n",
      "  [11 12]]]\n",
      "3\n"
     ]
    }
   ],
   "source": [
    "# Example: Converting a 1D Array to a 2D Array\n",
    "import numpy as np\n",
    "arr = np.array([1,2,3,4,5,6,7,8,9,10,11,12])\n",
    "print(arr.ndim)\n",
    "newarr = arr.reshape(3,2,2)\n",
    "print (newarr)\n",
    "print(newarr.ndim)"
   ]
  },
  {
   "cell_type": "code",
   "execution_count": 33,
   "id": "d454f55b-65f4-49f1-b125-d91086233d2e",
   "metadata": {},
   "outputs": [
    {
     "name": "stdout",
     "output_type": "stream",
     "text": [
      "[[ 1  2  3  4  5  6]\n",
      " [ 7  8  9 10 11 12]]\n"
     ]
    }
   ],
   "source": [
    "newarr = arr.reshape(2,6)\n",
    "print (newarr)"
   ]
  },
  {
   "cell_type": "code",
   "execution_count": 35,
   "id": "69a166c1-c3bc-4828-a317-04f03d32ceb2",
   "metadata": {},
   "outputs": [
    {
     "name": "stdout",
     "output_type": "stream",
     "text": [
      "[[ 1]\n",
      " [ 2]\n",
      " [ 3]\n",
      " [ 4]\n",
      " [ 5]\n",
      " [ 6]\n",
      " [ 7]\n",
      " [ 8]\n",
      " [ 9]\n",
      " [10]\n",
      " [11]\n",
      " [12]]\n"
     ]
    }
   ],
   "source": [
    "newarr = arr.reshape(12,1)\n",
    "print (newarr)"
   ]
  },
  {
   "cell_type": "code",
   "execution_count": 37,
   "id": "6fb44322-4900-45b3-acb1-e77c16ef637f",
   "metadata": {},
   "outputs": [
    {
     "ename": "ValueError",
     "evalue": "cannot reshape array of size 12 into shape (4,4)",
     "output_type": "error",
     "traceback": [
      "\u001b[1;31m---------------------------------------------------------------------------\u001b[0m",
      "\u001b[1;31mValueError\u001b[0m                                Traceback (most recent call last)",
      "Cell \u001b[1;32mIn[37], line 1\u001b[0m\n\u001b[1;32m----> 1\u001b[0m newarr \u001b[38;5;241m=\u001b[39m arr\u001b[38;5;241m.\u001b[39mreshape(\u001b[38;5;241m4\u001b[39m,\u001b[38;5;241m4\u001b[39m)\n\u001b[0;32m      2\u001b[0m \u001b[38;5;28mprint\u001b[39m (newarr)\n",
      "\u001b[1;31mValueError\u001b[0m: cannot reshape array of size 12 into shape (4,4)"
     ]
    }
   ],
   "source": [
    "newarr = arr.reshape(4,4)\n",
    "print (newarr)"
   ]
  },
  {
   "cell_type": "markdown",
   "id": "251c89d1-61a8-4f40-ab57-c22bc73b8028",
   "metadata": {},
   "source": [
    "## flatten()\n",
    "\n",
    "ndarray.flatten(order='C')\n",
    "\n",
    "C’ means to flatten array elements into row-major order (C-style).\n",
    "\n",
    "‘F’ means to flatten array elements into column-major order (Fortran-style).\n",
    "\n",
    "‘A’ – means to flatten array elements in column-major order if a is Fortran contiguous in memory or row-major otherwise.\n",
    "\n",
    "‘K’ means to flatten array elements in order of the elements laid out in memory.\n",
    "\n"
   ]
  },
  {
   "cell_type": "code",
   "execution_count": 23,
   "id": "94ad66ac-0190-484c-a5ce-39077ae1cc24",
   "metadata": {},
   "outputs": [
    {
     "name": "stdout",
     "output_type": "stream",
     "text": [
      "[[1 2]\n",
      " [3 4]]\n",
      "[1 2 3 4]\n",
      "[1 3 2 4]\n"
     ]
    }
   ],
   "source": [
    "import numpy as np\n",
    "\n",
    "a = np.array([[1, 2], [3, 4]])\n",
    "print(a)\n",
    "b = a.flatten()\n",
    "print(b)\n",
    "c=a.flatten(order='F')\n",
    "print(c)"
   ]
  },
  {
   "cell_type": "markdown",
   "id": "a52da57b-5b96-4309-9753-ce3a9ebdeac8",
   "metadata": {},
   "source": [
    "Note that b is a copy, not a view of the array a. If you change elements in array b, the elements in array a are not changed."
   ]
  },
  {
   "cell_type": "code",
   "execution_count": 17,
   "id": "6af8b235-3acc-4e10-bce1-83ed3346672d",
   "metadata": {},
   "outputs": [
    {
     "name": "stdout",
     "output_type": "stream",
     "text": [
      "[0 2 3 4]\n",
      "[[1 2]\n",
      " [3 4]]\n"
     ]
    }
   ],
   "source": [
    "# change element at index 0\n",
    "b[0] = 0\n",
    "print(b)\n",
    "\n",
    "# display the array a\n",
    "print(a)"
   ]
  },
  {
   "cell_type": "markdown",
   "id": "814c6c0d-9ad4-48e0-b471-bb6cb3ec41ef",
   "metadata": {
    "id": "814c6c0d-9ad4-48e0-b471-bb6cb3ec41ef"
   },
   "source": [
    "- `ndarray.flatten`: It returns a copy of the array flattened into a 1D array."
   ]
  },
  {
   "cell_type": "code",
   "execution_count": 25,
   "id": "40a2d808-23dd-4c62-85bd-182bf1f9ad49",
   "metadata": {
    "id": "40a2d808-23dd-4c62-85bd-182bf1f9ad49",
    "outputId": "615923a3-799f-4254-969a-9dceff831f71"
   },
   "outputs": [
    {
     "name": "stdout",
     "output_type": "stream",
     "text": [
      "[[[ 1  2  3]\n",
      "  [ 4  5  6]]\n",
      "\n",
      " [[ 7  8  9]\n",
      "  [10 11 12]]]\n",
      "3\n",
      "(2, 2, 3)\n",
      "[ 1  7  4 10  2  8  5 11  3  9  6 12]\n",
      "1\n",
      "(12,)\n"
     ]
    }
   ],
   "source": [
    "# Converting a multidimensional(3D) array into a 1D array\n",
    "arr3D = np.array([[[1, 2, 3], [4, 5, 6]], [[7, 8, 9], [10, 11, 12]]])\n",
    "print(arr3D)\n",
    "print(arr3D.ndim)\n",
    "print(arr3D.shape)\n",
    "flattened_array = arr3D.flatten(order='F')\n",
    "print(flattened_array)\n",
    "print(flattened_array.ndim)\n",
    "print(flattened_array.shape)"
   ]
  },
  {
   "cell_type": "markdown",
   "id": "bb376472-1890-445d-8881-9b15128d651d",
   "metadata": {
    "id": "bb376472-1890-445d-8881-9b15128d651d"
   },
   "source": [
    "- `ndarray.transpose`: It swaps the rows and columns of a 2D array."
   ]
  },
  {
   "cell_type": "code",
   "execution_count": 9,
   "id": "76508dc0-4590-47d3-81b6-2c9fbd0deb28",
   "metadata": {
    "id": "76508dc0-4590-47d3-81b6-2c9fbd0deb28",
    "outputId": "64f0d2cb-afdb-4359-f4b3-a5787a53777b"
   },
   "outputs": [
    {
     "name": "stdout",
     "output_type": "stream",
     "text": [
      "[[1 2 3]\n",
      " [4 5 6]]\n",
      "[[1 4]\n",
      " [2 5]\n",
      " [3 6]]\n",
      "(2, 3) (3, 2)\n"
     ]
    }
   ],
   "source": [
    "# Let's create a 2D array for the transpose example\n",
    "var =[[1, 2, 3], [4, 5, 6]]\n",
    "arr2D = np.array(var)\n",
    "print(arr2D)\n",
    "# Transposing the 2D array\n",
    "transposed_array = arr2D.transpose()\n",
    "print(transposed_array)\n",
    "print(arr2D.shape , transposed_array.shape)"
   ]
  },
  {
   "cell_type": "code",
   "execution_count": 27,
   "id": "1d1a29ff-2074-4ecd-af54-4be5c93fbaf7",
   "metadata": {},
   "outputs": [
    {
     "name": "stdout",
     "output_type": "stream",
     "text": [
      "1\n",
      "[[[ 1]\n",
      "  [ 2]\n",
      "  [ 3]]\n",
      "\n",
      " [[ 4]\n",
      "  [ 5]\n",
      "  [ 6]]\n",
      "\n",
      " [[ 7]\n",
      "  [ 8]\n",
      "  [ 9]]\n",
      "\n",
      " [[10]\n",
      "  [11]\n",
      "  [12]]]\n"
     ]
    }
   ],
   "source": [
    "import numpy as np\n",
    "arr = np.array([1,2,3,4,5,6,7,8,9,10,11,12])\n",
    "print(arr.ndim)\n",
    "newarr = arr.reshape(4,3,1)\n",
    "print (newarr)"
   ]
  },
  {
   "cell_type": "code",
   "execution_count": 29,
   "id": "41fc237d-bea8-4ffe-bc29-597e74d9306f",
   "metadata": {},
   "outputs": [
    {
     "name": "stdout",
     "output_type": "stream",
     "text": [
      "[[[ 1  4  7 10]\n",
      "  [ 2  5  8 11]\n",
      "  [ 3  6  9 12]]]\n",
      "(1, 3, 4)\n"
     ]
    }
   ],
   "source": [
    "t=newarr.transpose()\n",
    "print(t)\n",
    "print(t.shape)"
   ]
  },
  {
   "cell_type": "markdown",
   "id": "88a02804-a8d8-43b9-9aa9-e68dc7e65678",
   "metadata": {
    "id": "88a02804-a8d8-43b9-9aa9-e68dc7e65678"
   },
   "source": [
    "## __Assisted Practice__"
   ]
  },
  {
   "cell_type": "markdown",
   "id": "2ddfcd79-86eb-40bd-b4fd-530a20cefc66",
   "metadata": {
    "id": "2ddfcd79-86eb-40bd-b4fd-530a20cefc66"
   },
   "source": [
    "### __Problem Statement:__\n",
    "\n",
    "As a data scientist, your task is to create a Python project that explores NumPy arrays' attributes and functions. This project will deepen your understanding of NumPy arrays, including accessing their attributes and performing common operations using NumPy functions. Use the dataset containing daily temperature records for a week.\n",
    "\n",
    "temperatures = [ 75.2, 77.1, 74.5, 79.3, 82.6, 81.2, 77.8 ]\n",
    "\n",
    "\n",
    "**Steps to Perform:**\n",
    "\n",
    "1. Explore the key attributes of NumPy arrays, including `ndim`, `shape`, `size`, `dtype`, `itemsize`, and `data`.\n",
    "2. Demonstrate important NumPy array functions such as `reshape`, `flatten`, and `transpose`."
   ]
  },
  {
   "cell_type": "code",
   "execution_count": 31,
   "id": "a3e3acd8-9d21-4ae3-b7a8-b4b0e6c090ae",
   "metadata": {
    "id": "a3e3acd8-9d21-4ae3-b7a8-b4b0e6c090ae"
   },
   "outputs": [
    {
     "name": "stdout",
     "output_type": "stream",
     "text": [
      "[75.2 77.1 74.5 79.3 82.6 81.2 77.8]\n",
      "No. of dimensions:  1\n",
      "Shape of array:  (7,)\n",
      "Size of array:  7\n",
      "Array stores elements of type:  float64\n",
      "Length of one array element in bytes. :  8\n",
      "array’s data. :  <memory at 0x00000206ACE76EC0>\n",
      "[[75.2]\n",
      " [77.1]\n",
      " [74.5]\n",
      " [79.3]\n",
      " [82.6]\n",
      " [81.2]\n",
      " [77.8]]\n",
      "[75.2 77.1 74.5 79.3 82.6 81.2 77.8]\n",
      "[75.2 77.1 74.5 79.3 82.6 81.2 77.8]\n"
     ]
    }
   ],
   "source": [
    "temperatures = np.array([ 75.2, 77.1, 74.5, 79.3, 82.6, 81.2, 77.8 ])\n",
    "print(temperatures)\n",
    "print(\"No. of dimensions: \", temperatures.ndim)\n",
    "print(\"Shape of array: \", temperatures.shape)\n",
    "print(\"Size of array: \", temperatures.size)\n",
    "print(\"Array stores elements of type: \", temperatures.dtype)\n",
    "print(\"Length of one array element in bytes. : \", temperatures.itemsize)\n",
    "print(\"array’s data. : \", temperatures.data)\n",
    "newarr = temperatures.reshape(7,1)\n",
    "print (newarr)\n",
    "flattened_array = temperatures.flatten()\n",
    "print(flattened_array)\n",
    "transposed_array = flattened_array.transpose()\n",
    "print(transposed_array)"
   ]
  },
  {
   "cell_type": "code",
   "execution_count": null,
   "id": "89b52d43-9022-4217-8137-b9f630ac57f7",
   "metadata": {},
   "outputs": [],
   "source": []
  }
 ],
 "metadata": {
  "colab": {
   "provenance": []
  },
  "kernelspec": {
   "display_name": "Python 3 (ipykernel)",
   "language": "python",
   "name": "python3"
  },
  "language_info": {
   "codemirror_mode": {
    "name": "ipython",
    "version": 3
   },
   "file_extension": ".py",
   "mimetype": "text/x-python",
   "name": "python",
   "nbconvert_exporter": "python",
   "pygments_lexer": "ipython3",
   "version": "3.12.7"
  }
 },
 "nbformat": 4,
 "nbformat_minor": 5
}
