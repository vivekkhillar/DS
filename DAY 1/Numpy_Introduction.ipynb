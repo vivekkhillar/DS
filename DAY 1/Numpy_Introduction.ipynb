{
 "cells": [
  {
   "cell_type": "markdown",
   "metadata": {},
   "source": [
    "# __Introduction to NumPy__"
   ]
  },
  {
   "cell_type": "markdown",
   "metadata": {
    "jp-MarkdownHeadingCollapsed": true
   },
   "source": [
    "## __Agenda__\n",
    "\n",
    "In this lesson, we will cover the following concepts with the help of examples:\n",
    "\n",
    "- Fundamentals of NumPy\n",
    "  * Advantages of NumPy\n",
    "  * NumPy: Installation and Import\n",
    "- NumPy: Array Object\n",
    "  * Creating NumPy Arrays"
   ]
  },
  {
   "cell_type": "markdown",
   "metadata": {
    "tags": []
   },
   "source": [
    "## __1. Fundamentals of NumPy__\n",
    "\n",
    "https://numpy.org/doc/2.2/user/absolute_beginners.html\n",
    "\n",
    "NumPy (Numerical Python) is a free and open-source library that is mostly used for mathematical operations in scientific and engineering applications.\n",
    "\n",
    "- It is a Python library used for working with arrays.\n",
    "- It consists of a multidimensional array of objects and a collection of functions for manipulating them.\n",
    "- It conducts mathematical and logical operations on arrays.\n",
    "\n",
    "**Note:** The array object in NumPy is called ndarray."
   ]
  },
  {
   "cell_type": "markdown",
   "metadata": {},
   "source": [
    "### __1.1  Advantages of NumPy__\n",
    "- It provides an array object that is faster than traditional Python lists.\n",
    "- It provides supporting functions.\n",
    "- Arrays are frequently used in data science.\n",
    "- NumPy arrays are stored in one continuous place in memory, unlike lists."
   ]
  },
  {
   "cell_type": "markdown",
   "metadata": {},
   "source": [
    "### __1.2 NumPy: Installation and Import__\n",
    "- `C:\\Users\\Your Name>pip install numpy` command is used to install NumPy.\n",
    "- NumPy is imported under the name np like `import numpy as np`"
   ]
  },
  {
   "cell_type": "code",
   "execution_count": 2,
   "metadata": {},
   "outputs": [
    {
     "name": "stdout",
     "output_type": "stream",
     "text": [
      "Defaulting to user installation because normal site-packages is not writeableNote: you may need to restart the kernel to use updated packages.\n",
      "\n",
      "Requirement already satisfied: numpy in c:\\programdata\\anaconda3\\lib\\site-packages (1.26.4)\n"
     ]
    }
   ],
   "source": [
    "pip install numpy"
   ]
  },
  {
   "cell_type": "markdown",
   "metadata": {},
   "source": [
    "## __2. NumPy: Array Object__\n",
    "A NumPy ndarray object can be created by using the array() function."
   ]
  },
  {
   "cell_type": "code",
   "execution_count": 1,
   "metadata": {},
   "outputs": [
    {
     "name": "stdout",
     "output_type": "stream",
     "text": [
      "[30 40 50]\n",
      "<class 'numpy.ndarray'>\n",
      "1\n",
      "(3,)\n",
      "3\n",
      "int32\n"
     ]
    }
   ],
   "source": [
    "import numpy as np\n",
    "arr = np.array ([30,40,50])\n",
    "print (arr)\n",
    "print (type(arr))\n",
    "print (arr.ndim)\n",
    "print (arr.shape)\n",
    "print(len(arr))\n",
    "print(arr.dtype)"
   ]
  },
  {
   "cell_type": "code",
   "execution_count": 17,
   "metadata": {},
   "outputs": [
    {
     "data": {
      "text/plain": [
       "array('Simplilearn', dtype='<U11')"
      ]
     },
     "execution_count": 17,
     "metadata": {},
     "output_type": "execute_result"
    }
   ],
   "source": [
    "name=np.array(\"Simplilearn\")\n",
    "name"
   ]
  },
  {
   "cell_type": "code",
   "execution_count": 5,
   "metadata": {},
   "outputs": [
    {
     "name": "stdout",
     "output_type": "stream",
     "text": [
      "['30' '40' '50' '8.9' 'cat']\n"
     ]
    }
   ],
   "source": [
    "arr = np.array ([30,40,50,8.9,'cat'])\n",
    "print (arr)"
   ]
  },
  {
   "cell_type": "markdown",
   "metadata": {},
   "source": [
    "### __2.1 Creating NumPy Arrays__\n",
    "- Create multiple dimensional arrays, such as 0D, 1D, 2D and 3D"
   ]
  },
  {
   "cell_type": "code",
   "execution_count": 11,
   "metadata": {},
   "outputs": [
    {
     "name": "stdout",
     "output_type": "stream",
     "text": [
      "0D array is 24\n",
      "0\n",
      "1D array is [1 2 3 4]\n",
      "2D array is [[1 1 1]\n",
      " [1 2 1]]\n",
      "(2, 3) 2\n",
      "3D array is [[[1 1 1]\n",
      "  [2 2 2]]\n",
      "\n",
      " [[3 3 3]\n",
      "  [4 4 4]]]\n",
      "(2, 2, 3)\n"
     ]
    }
   ],
   "source": [
    "# Create a 0D Array\n",
    "arr0 = np.array(24)\n",
    "print ('0D array is', arr0) #scaler\n",
    "print(arr0.ndim)\n",
    "# Create a 1D Array\n",
    "arr1 = np.array([1,2,3,4]) #vector\n",
    "print ('1D array is', arr1)\n",
    "# Create a 2D Array\n",
    "arr2 = np.array([[1,1,1],[1,2,1]]) #matrix\n",
    "print ('2D array is', arr2)\n",
    "print(arr2.shape, arr2.ndim)\n",
    "# Create a 3D Array\n",
    "arr3 = np.array([[[1,1,1],[2,2,2]],[[3,3,3],[4,4,4]]]) #nd array\n",
    "print ('3D array is', arr3)\n",
    "print(arr3.shape)"
   ]
  },
  {
   "cell_type": "markdown",
   "metadata": {},
   "source": [
    "**Observations:**\n",
    "- 1D arrays are unidimensional and have 0D arrays as its elements.\n",
    "- 2D arrays have 1D arrays as their elements.\n",
    "- 3D arrays have 2D arrays as their elements."
   ]
  },
  {
   "cell_type": "markdown",
   "metadata": {},
   "source": [
    "## Array Vs List"
   ]
  },
  {
   "cell_type": "code",
   "execution_count": 13,
   "metadata": {},
   "outputs": [
    {
     "name": "stdout",
     "output_type": "stream",
     "text": [
      "<class 'numpy.ndarray'>\n",
      "<class 'list'>\n"
     ]
    }
   ],
   "source": [
    "import numpy as np\n",
    "an_arr = np.arange(1000000)\n",
    "a_list = list(range(1000000))\n",
    "print(type(an_arr))\n",
    "print(type(a_list))"
   ]
  },
  {
   "cell_type": "code",
   "execution_count": 15,
   "metadata": {},
   "outputs": [
    {
     "name": "stdout",
     "output_type": "stream",
     "text": [
      "[     0      1      2 ... 999997 999998 999999]\n"
     ]
    }
   ],
   "source": [
    "print(an_arr)\n"
   ]
  },
  {
   "cell_type": "code",
   "execution_count": 15,
   "metadata": {},
   "outputs": [
    {
     "name": "stderr",
     "output_type": "stream",
     "text": [
      "IOPub data rate exceeded.\n",
      "The Jupyter server will temporarily stop sending output\n",
      "to the client in order to avoid crashing it.\n",
      "To change this limit, set the config variable\n",
      "`--ServerApp.iopub_data_rate_limit`.\n",
      "\n",
      "Current values:\n",
      "ServerApp.iopub_data_rate_limit=1000000.0 (bytes/sec)\n",
      "ServerApp.rate_limit_window=3.0 (secs)\n",
      "\n"
     ]
    }
   ],
   "source": [
    "print(a_list)"
   ]
  },
  {
   "cell_type": "code",
   "execution_count": 17,
   "metadata": {},
   "outputs": [
    {
     "name": "stdout",
     "output_type": "stream",
     "text": [
      "CPU times: total: 15.6 ms\n",
      "Wall time: 30.7 ms\n"
     ]
    }
   ],
   "source": [
    "%time for _ in range(10): an_arr2 = an_arr * 2"
   ]
  },
  {
   "cell_type": "code",
   "execution_count": 19,
   "metadata": {},
   "outputs": [
    {
     "name": "stdout",
     "output_type": "stream",
     "text": [
      "CPU times: total: 1.55 s\n",
      "Wall time: 1.54 s\n"
     ]
    }
   ],
   "source": [
    "%time for _ in range(10): a_list2 = [x * 2 for x in a_list]\n",
    "    "
   ]
  },
  {
   "cell_type": "code",
   "execution_count": null,
   "metadata": {},
   "outputs": [],
   "source": []
  }
 ],
 "metadata": {
  "kernelspec": {
   "display_name": "Python 3 (ipykernel)",
   "language": "python",
   "name": "python3"
  },
  "language_info": {
   "codemirror_mode": {
    "name": "ipython",
    "version": 3
   },
   "file_extension": ".py",
   "mimetype": "text/x-python",
   "name": "python",
   "nbconvert_exporter": "python",
   "pygments_lexer": "ipython3",
   "version": "3.12.7"
  }
 },
 "nbformat": 4,
 "nbformat_minor": 4
}
