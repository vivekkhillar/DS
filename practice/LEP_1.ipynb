{
 "cells": [
  {
   "cell_type": "markdown",
   "metadata": {
    "id": "jG3GrpUQFWNx"
   },
   "source": [
    "# Lesson End Project: Numpy Operations\n",
    "\n",
    "### Problem statement: \n",
    "\n",
    "In this project, we will explore the powerful capabilities of the NumPy library for numerical analysis and perform various operations on arrays using its efficient functions. NumPy is a fundamental package for scientific computing with Python and provides support for large, multi-dimensional arrays and matrices, along with a wide range of mathematical functions to operate on these arrays.\n",
    "\n",
    "In order to complete the project, define an array and perform arithmetic, statistical, slicing, and indexing operations on it.\n",
    "\n",
    "### Steps to be followed:\n",
    "\n",
    "1. Array Creation and Manipulation\n",
    "2. Array Operations\n",
    "3. Statistical Analysis\n",
    "4. Array Slicing and Indexing"
   ]
  },
  {
   "cell_type": "markdown",
   "metadata": {
    "id": "PEHaX2mEFWN1"
   },
   "source": [
    "### 1. Array Creation and Manipulation:\n",
    "- Create a one-dimensional array of integers ranging from 1 to 10 using NumPy\n",
    "- Reshape the array into a 2x5 matrix"
   ]
  },
  {
   "cell_type": "code",
   "execution_count": 4,
   "metadata": {
    "id": "0pKs8DcPFWN1",
    "outputId": "338e7da4-21bf-4c28-de1c-83fe60626e0a"
   },
   "outputs": [
    {
     "name": "stdout",
     "output_type": "stream",
     "text": [
      "1D Array: [ 1  2  3  4  5  6  7  8  9 10]\n",
      "2D Array:\n",
      " [[ 1  2  3  4  5]\n",
      " [ 6  7  8  9 10]]\n"
     ]
    }
   ],
   "source": [
    "import numpy as np\n",
    "\n",
    "array1d = np.array([1, 2, 3, 4, 5, 6, 7, 8, 9, 10])\n",
    "array2d = array1d.reshape(2, 5)\n",
    "\n",
    "\n",
    "print(\"1D Array:\", array1d)\n",
    "print(\"2D Array:\\n\", array2d)"
   ]
  },
  {
   "cell_type": "code",
   "execution_count": 2,
   "metadata": {},
   "outputs": [
    {
     "name": "stdout",
     "output_type": "stream",
     "text": [
      "1D Array: [ 1  2  3  4  5  6  7  8  9 10]\n",
      "2D Array:\n",
      " [[ 1  2]\n",
      " [ 3  4]\n",
      " [ 5  6]\n",
      " [ 7  8]\n",
      " [ 9 10]]\n"
     ]
    }
   ],
   "source": [
    "import numpy as np\n",
    "\n",
    "array1d = np.arange(1,11)\n",
    "array2d = array1d.reshape(5, 2)\n",
    "\n",
    "\n",
    "print(\"1D Array:\", array1d)\n",
    "print(\"2D Array:\\n\", array2d)"
   ]
  },
  {
   "cell_type": "markdown",
   "metadata": {
    "id": "DKeR5LVkFWN3"
   },
   "source": [
    "### 2. Array Operations:\n",
    "- Perform element-wise addition, subtraction, multiplication, and division on two arrays"
   ]
  },
  {
   "cell_type": "code",
   "execution_count": 4,
   "metadata": {
    "id": "dq9m5h7EFWN3",
    "outputId": "554eb2eb-4e11-4db8-e059-539008c70c3d"
   },
   "outputs": [
    {
     "name": "stdout",
     "output_type": "stream",
     "text": [
      "[2 4 6]\n",
      "Addition Result: [5 7 9]\n",
      "Subtraction Result: [-3 -3 -3]\n",
      "Multiplication Result: [ 4 10 18]\n",
      "Division Result: [0.25 0.4  0.5 ]\n"
     ]
    }
   ],
   "source": [
    "a = np.array([1, 2, 3])\n",
    "print(a*2)\n",
    "b = np.array([4, 5, 6])\n",
    "addition_result = a + b\n",
    "subtraction_result = a - b\n",
    "multiplication_result = a * b\n",
    "division_result = a / b\n",
    "\n",
    "print(\"Addition Result:\", addition_result)\n",
    "print(\"Subtraction Result:\", subtraction_result)\n",
    "print(\"Multiplication Result:\", multiplication_result)\n",
    "print(\"Division Result:\", division_result)"
   ]
  },
  {
   "cell_type": "markdown",
   "metadata": {
    "id": "3gHENXcRFWN3"
   },
   "source": [
    "### 3. Statistical Analysis:\n",
    "- Generate a random array of 100 numbers and calculate its mean, median, and standard deviation"
   ]
  },
  {
   "cell_type": "code",
   "execution_count": 6,
   "metadata": {
    "id": "V3sES8oFFWN4",
    "outputId": "44d9af7f-a34c-4763-dd7e-813ebb817e0e"
   },
   "outputs": [
    {
     "name": "stdout",
     "output_type": "stream",
     "text": [
      "[0.34680489 0.04080143 0.77825319 0.0819784  0.75036714 0.96120101\n",
      " 0.48785862 0.12366703 0.66888575 0.38619303]\n",
      "Mean Value: 0.46260104883395403\n",
      "Median Value: 0.4370258225369611\n",
      "Standard Deviation: 0.30514759815526055\n"
     ]
    }
   ],
   "source": [
    "random_array = np.random.rand(10)\n",
    "print(random_array)\n",
    "mean_value = np.mean(random_array)\n",
    "median_value = np.median(random_array)\n",
    "std_deviation = np.std(random_array)\n",
    "\n",
    "print(\"Mean Value:\", mean_value)\n",
    "print(\"Median Value:\", median_value)\n",
    "print(\"Standard Deviation:\", std_deviation)"
   ]
  },
  {
   "cell_type": "markdown",
   "metadata": {
    "id": "lrawBut9FWN4"
   },
   "source": [
    "### 4. Array Slicing and Indexing:\n",
    "- Extract a subset of elements from an array using slicing\n",
    "- Change the values of specific elements in an array using indexing"
   ]
  },
  {
   "cell_type": "code",
   "execution_count": null,
   "metadata": {
    "id": "s8m04basFWN5",
    "outputId": "4cf0ab52-eac9-4846-e5ef-b94ca0da8f82"
   },
   "outputs": [
    {
     "name": "stdout",
     "output_type": "stream",
     "text": [
      "1D Array: [ 1  2  3  4  5  6  7  8  9 10]\n",
      "2 10\n",
      "[ 2  3  4  5  6  7  8  9 10]\n",
      "[1]\n",
      "[1 2 3 4 5 6 7 8 9]\n"
     ]
    }
   ],
   "source": [
    "print(\"1D Array:\", array1d)\n",
    "print(array1d[1],array1d[-1])#indexing\n",
    "print(array1d[1:])#slicing\n",
    "print(array1d[:1])\n",
    "print(array1d[:-1])\n",
    "\n",
    "# objects in terms of programming means a data structure that can hold multiple values.\n",
    "# Objects meaning the instance of a class, which is a blueprint for creating objects."
   ]
  },
  {
   "cell_type": "code",
   "execution_count": 12,
   "metadata": {},
   "outputs": [
    {
     "name": "stdout",
     "output_type": "stream",
     "text": [
      "[ 1  2  3  4  5  6  7  8  9 10]\n",
      "[1 3 5 7 9]\n",
      "[ 1  4  7 10]\n",
      "[10  9  8  7  6  5  4  3  2  1]\n"
     ]
    }
   ],
   "source": [
    "print(array1d[:])\n",
    "print(array1d[::2]) #striding\n",
    "print(array1d[::3]) #striding\n",
    "print(array1d[::-1]) #striding"
   ]
  },
  {
   "cell_type": "code",
   "execution_count": 8,
   "metadata": {},
   "outputs": [
    {
     "name": "stdout",
     "output_type": "stream",
     "text": [
      "Sliced Array: [3 4 5 6]\n"
     ]
    }
   ],
   "source": [
    "sliced_array = array1d[2:6]\n",
    "print(\"Sliced Array:\", sliced_array)\n"
   ]
  },
  {
   "cell_type": "code",
   "execution_count": 51,
   "metadata": {},
   "outputs": [
    {
     "name": "stdout",
     "output_type": "stream",
     "text": [
      "2D Array:\n",
      " [[ 1  2]\n",
      " [ 3  4]\n",
      " [ 5  6]\n",
      " [ 7  8]\n",
      " [ 9 10]]\n",
      "Modified 2D Array:\n",
      " [[ 1  2]\n",
      " [ 3 20]\n",
      " [ 5  6]\n",
      " [ 7  8]\n",
      " [ 9 10]]\n"
     ]
    }
   ],
   "source": [
    "print(\"2D Array:\\n\", array2d)\n",
    "array2d[1, 1] = 20\n",
    "print(\"Modified 2D Array:\\n\", array2d)"
   ]
  },
  {
   "cell_type": "markdown",
   "metadata": {
    "id": "m8LEP7szFWN5"
   },
   "source": []
  }
 ],
 "metadata": {
  "colab": {
   "provenance": []
  },
  "kernelspec": {
   "display_name": "Python 3 (ipykernel)",
   "language": "python",
   "name": "python3"
  },
  "language_info": {
   "codemirror_mode": {
    "name": "ipython",
    "version": 3
   },
   "file_extension": ".py",
   "mimetype": "text/x-python",
   "name": "python",
   "nbconvert_exporter": "python",
   "pygments_lexer": "ipython3",
   "version": "3.12.7"
  }
 },
 "nbformat": 4,
 "nbformat_minor": 4
}
