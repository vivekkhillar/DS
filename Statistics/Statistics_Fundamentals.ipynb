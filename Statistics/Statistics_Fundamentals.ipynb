{
 "cells": [
  {
   "cell_type": "markdown",
   "id": "4219a4ea",
   "metadata": {
    "id": "4219a4ea"
   },
   "source": [
    "# <b>Statistics Fundamentals</b>"
   ]
  },
  {
   "cell_type": "markdown",
   "id": "tDnzDntZRdZK",
   "metadata": {
    "id": "tDnzDntZRdZK"
   },
   "source": [
    "## __Agenda__"
   ]
  },
  {
   "cell_type": "markdown",
   "id": "3WbDfEseRNpE",
   "metadata": {
    "id": "3WbDfEseRNpE"
   },
   "source": [
    "* Importance of Statistics for Data Science:\n",
    "  * What Is Statistics?\n",
    "  * Common Terms Used in Statistics\n",
    "  * Statistics Types\n",
    "* Types of Data\n",
    "* Measures of Central Tendency\n",
    "* Measures of Dispersion\n",
    "  * Range\n",
    "  * Interquartile Range\n",
    "  * Standard Deviation\n",
    "  * Variance\n",
    "* Measures of Shape\n",
    "  * Skewness\n",
    "  * Kurtosis\n",
    "* Covariance and Correlation"
   ]
  },
  {
   "cell_type": "markdown",
   "id": "umRlLaPKQ6Dx",
   "metadata": {
    "id": "umRlLaPKQ6Dx"
   },
   "source": [
    "## __1. Importance of Statistics for Data Science__"
   ]
  },
  {
   "cell_type": "markdown",
   "id": "abe75af4",
   "metadata": {
    "id": "abe75af4"
   },
   "source": [
    "Many significant developments in statistics occurred in the past century. Thomas Bayes, Pierre Simon Laplace, and Carl Gauss notably developed probability theory, a foundational component of statistics, between the 17th and 19th centuries. Unlike the theoretical nature of probability theory, statistics is an applied branch of science focused on data analysis.\n",
    "\n"
   ]
  },
  {
   "cell_type": "markdown",
   "id": "467a8c42",
   "metadata": {
    "id": "467a8c42"
   },
   "source": [
    "In this lesson, let's explore the different concepts of statistics and their importance in data science.\n"
   ]
  },
  {
   "cell_type": "markdown",
   "id": "12f78826",
   "metadata": {
    "id": "12f78826"
   },
   "source": [
    "- The first step of any data science project is to explore data.\n",
    "- Classical statistics focuses exclusively on Inference, which is a set of procedures to draw conclusions about large populations by studying small samples."
   ]
  },
  {
   "cell_type": "markdown",
   "id": "57416abf",
   "metadata": {
    "id": "57416abf"
   },
   "source": [
    "New technologies, increased access to large datasets, and expanded use of quantitative analysis across various disciplines have driven this growth.\n",
    "\n"
   ]
  },
  {
   "cell_type": "markdown",
   "id": "628b825a",
   "metadata": {
    "id": "628b825a"
   },
   "source": [
    "### __1.1 What Is Statistics?__"
   ]
  },
  {
   "cell_type": "markdown",
   "id": "2a63c6ce",
   "metadata": {
    "id": "2a63c6ce"
   },
   "source": [
    "Statistics is a discipline that deals with methodologies to collect, prepare, analyze, and interpret conclusions from the data. You can mine the raw data to find patterns using statistical concepts.\n",
    "![statpreparecollect.PNG](https://labcontent.simplicdn.net/data-content/content-assets/Data_and_AI/ADSP_Images/Lesson_06_Maths_and_Stats/Statistics_Fundamentals/Image1.png)\n"
   ]
  },
  {
   "cell_type": "markdown",
   "id": "033d1aca",
   "metadata": {
    "id": "033d1aca"
   },
   "source": [
    "By combining statistical analysis with domain expertise, you can interpret these patterns and use the findings for decision-making in real-world situations.The ultimate goal is to create value for an organization.\n"
   ]
  },
  {
   "cell_type": "markdown",
   "id": "68595329",
   "metadata": {
    "id": "68595329"
   },
   "source": [
    "\n",
    "\n",
    "\n",
    "\n",
    "![statisceimagee.jpg](https://s3.us-east-1.amazonaws.com/static2.simplilearn.com/lms/testpaper_images/ADSP/Advanced_Statistics/Probimages/Statistics_Fundamentals/statisceimagee.jpg)\n",
    "\n",
    "\n",
    "\n",
    "Data science combines computer science and statistics.\n",
    "A thorough understanding of statistics is vital for developing a strong intuition for machine learning algorithms.\n",
    "\n",
    "\n"
   ]
  },
  {
   "cell_type": "markdown",
   "id": "9ffe677a",
   "metadata": {
    "id": "9ffe677a"
   },
   "source": [
    "### __1.2 Common Terms Used in Statistics__\n"
   ]
  },
  {
   "cell_type": "markdown",
   "id": "d857cbfb",
   "metadata": {
    "id": "d857cbfb"
   },
   "source": [
    "\n",
    "- <b> Population and Sample: </b> The population is the complete data pool from which a sample is drawn for further analysis. The sample is a subset of the population.\n",
    "\n",
    "-  <b> Measurement and Sample Data: </b>A measurement is a number or attribute calculated for each member of the population or sample. The measurements of the sample members are collectively called sample data.  \n",
    "-  <b> Parameter:</b> It is a characteristic of the population that you want to estimate or test, such as the population mean.\n",
    "-  <b> Variable: </b> A variable is something that can take on different values in the dataset.\n",
    "-  <b> Distribution:</b> It refers to how sample data is spread across a range of values."
   ]
  },
  {
   "cell_type": "markdown",
   "id": "1f9e576f",
   "metadata": {
    "id": "1f9e576f"
   },
   "source": [
    "### __1.3 Statistics Types__"
   ]
  },
  {
   "cell_type": "markdown",
   "id": "7e1995a6",
   "metadata": {
    "id": "7e1995a6"
   },
   "source": [
    "![link text](https://labcontent.simplicdn.net/data-content/content-assets/Data_and_AI/ADSP_Images/Lesson_06_Maths_and_Stats/Statistics_Fundamentals/Image_1.png)"
   ]
  },
  {
   "cell_type": "markdown",
   "id": "6f604d08",
   "metadata": {
    "id": "6f604d08"
   },
   "source": [
    "- #### <b>  Descriptive Statistics </b>\n",
    "\n",
    "It is a branch of statistics that involves organizing, displaying, and describing data. It involves using numbers (numerical facts, figures, or information) to describe phenomena, a process referred to as descriptive statistics.\n",
    "\n",
    "\n"
   ]
  },
  {
   "cell_type": "markdown",
   "id": "6514c102",
   "metadata": {
    "id": "6514c102"
   },
   "source": [
    "\n",
    "- #### <b>  Inferential Statistics</b>\n",
    "\n",
    "It is a branch of statistics that involves drawing conclusions about a population based on the information obtained from a sample taken from that population.\n",
    "\n",
    "**Note:** Inferential statistics make inferences from data, whereas descriptive statistics describe what's happening with the data.\n"
   ]
  },
  {
   "cell_type": "markdown",
   "id": "ffeeed6f",
   "metadata": {
    "id": "ffeeed6f"
   },
   "source": [
    "#### __Example__"
   ]
  },
  {
   "cell_type": "markdown",
   "id": "f4b8efd8",
   "metadata": {
    "id": "f4b8efd8"
   },
   "source": [
    "\n",
    "\n",
    "When estimating the number of automobiles produced in a month, you must consider the entire output as the population. Within this population, a subset of cars undergoes inspection for quality characteristics such as mileage per gallon of gasoline, forming a sample. The average mileage of all cars represents a parameter, while the average lifespan of the inspected sample is considered a statistic.\n",
    "\n",
    "\n",
    "\n",
    "![automobileexample-2.PNG](https://s3.us-east-1.amazonaws.com/static2.simplilearn.com/lms/testpaper_images/ADSP/Advanced_Statistics/Probimages/Statistics_Fundamentals/automobileexample.PNG)\n",
    "\n",
    "\n",
    "If you deal with descriptive statistics here, it will include the selection of a sample, the presentation of sample data as diagrams or tables, and the computation of the value of a statistic.\n",
    "\n",
    "\n",
    "Inferential statistics is utilized for making generalizations about a population based on a sample. For example, it can be used to determine whether the average fuel efficiency of all cars in a population is at least 23 miles per gallon based on data from a studied sample."
   ]
  },
  {
   "cell_type": "markdown",
   "id": "16a53284",
   "metadata": {
    "id": "16a53284"
   },
   "source": [
    "\n",
    "- #### <b> Predictive Statistics</b>\n",
    "\n",
    "It is defined as the science of extracting information from data\n",
    "and using it to predict trends, behavior patterns, or relationships between characteristics.\n"
   ]
  },
  {
   "cell_type": "markdown",
   "id": "dea94a60",
   "metadata": {
    "id": "dea94a60"
   },
   "source": [
    "#### __Example 1__"
   ]
  },
  {
   "cell_type": "markdown",
   "id": "cf2d9f19",
   "metadata": {
    "id": "cf2d9f19"
   },
   "source": [
    "The data recording the number of residents in a city over several years can be used to predict the city's future population. This prediction is valuable for estimating future infrastructure demands. Often, data on two or more characteristics shows relationships. Understanding these relationships allows for predictions about one characteristic based on the known values of another."
   ]
  },
  {
   "cell_type": "markdown",
   "id": "7050052f",
   "metadata": {
    "id": "7050052f"
   },
   "source": [
    "![datacategorizationexampe.PNG](https://s3.us-east-1.amazonaws.com/static2.simplilearn.com/lms/testpaper_images/ADSP/Advanced_Statistics/Probimages/Statistics_Fundamentals/datacategorizationexampe.PNG)"
   ]
  },
  {
   "cell_type": "markdown",
   "id": "e1b460d3",
   "metadata": {
    "id": "e1b460d3"
   },
   "source": [
    "#### __Example 2__"
   ]
  },
  {
   "cell_type": "markdown",
   "id": "aae2eae7",
   "metadata": {
    "id": "aae2eae7"
   },
   "source": [
    "\n",
    "The demand for spares in the forthcoming years can be predicted by evaluating the sales of cars during the past few years."
   ]
  },
  {
   "cell_type": "markdown",
   "id": "b80b5f13",
   "metadata": {
    "id": "b80b5f13"
   },
   "source": [
    "![carsales.PNG](https://s3.us-east-1.amazonaws.com/static2.simplilearn.com/lms/testpaper_images/ADSP/Advanced_Statistics/Probimages/Statistics_Fundamentals/carsales.PNG)"
   ]
  },
  {
   "cell_type": "markdown",
   "id": "e7c932e6",
   "metadata": {
    "id": "e7c932e6"
   },
   "source": [
    "## __2. Types of Data__"
   ]
  },
  {
   "cell_type": "markdown",
   "id": "8d18f742",
   "metadata": {
    "id": "8d18f742"
   },
   "source": [
    "\n",
    "\n",
    "#### <b> 2.1 Categorical Data </b>\n",
    "It represents characteristics such as a person’s gender, marital status, or the types of movies they like.\n",
    "- It can also take numerical values, such as __1__  indicating male and __2__  indicating female, but these numbers don’t have mathematical meaning."
   ]
  },
  {
   "cell_type": "markdown",
   "id": "37515129",
   "metadata": {
    "id": "37515129"
   },
   "source": [
    "#### __2.2 Numerical Data__\n",
    "It represents the data as a measurement, such as a person’s height, weight, IQ, or blood\n",
    "pressure.\n",
    "- It includes data that cannot be counted, such as the number of stocks owned by a person.\n"
   ]
  },
  {
   "cell_type": "markdown",
   "id": "87a2d0b6",
   "metadata": {
    "id": "87a2d0b6"
   },
   "source": [
    "## __3. Measures of Central Tendency__"
   ]
  },
  {
   "cell_type": "markdown",
   "id": "0a94081a",
   "metadata": {
    "id": "0a94081a"
   },
   "source": [
    "A measure of central tendency is a summary that describes the central position in a dataset.\n",
    "- These measures indicate the central location of a distribution, revealing where most values fall.\n",
    "\n",
    "In statistics, the three most common measures of central tendency are the mean, median, and mode. Each of these measures\n",
    "calculates the location of the central point using a different method.\n"
   ]
  },
  {
   "cell_type": "markdown",
   "id": "a5266806",
   "metadata": {
    "id": "a5266806"
   },
   "source": [
    "\n",
    "### <b> 3.1 Mean</b>\n",
    "It is the most frequently utilized measure of central tendency and is applicable to both continuous and discrete datasets.\n",
    "\n",
    "To calculate the mean, add all the numbers and divide the result by the number of data points.\n",
    "\n",
    "<b> Note: </b>The mean is sensitive to outliers and skewed data.\n",
    "\n",
    "\n",
    "\n",
    "\n",
    "\n",
    "\n"
   ]
  },
  {
   "cell_type": "markdown",
   "id": "41c4ae90",
   "metadata": {
    "id": "41c4ae90"
   },
   "source": [
    "Suppose there is a set consisting of n numbers. The mean (average) of this set is calculated by summing all these numbers and then dividing the total by n, the number of elements in the set. The formula for the mean is:\n"
   ]
  },
  {
   "cell_type": "markdown",
   "id": "780793fd",
   "metadata": {
    "id": "780793fd",
    "outputId": "9bb2cd44-f39b-4770-9df0-f34898f878db"
   },
   "source": [
    "\n",
    "\n",
    "![mean.png](https://s3.us-east-1.amazonaws.com/static2.simplilearn.com/lms/testpaper_images/ADSP/Advanced_Statistics/Probimages/Statistics_Fundamentals/mean.png)"
   ]
  },
  {
   "cell_type": "markdown",
   "id": "e7vp0kiGfpve",
   "metadata": {
    "id": "e7vp0kiGfpve"
   },
   "source": [
    "Where:\n",
    "\n",
    "x̄ is the mean.\n",
    "\n",
    "n is the number of values.\n"
   ]
  },
  {
   "cell_type": "markdown",
   "id": "f1f40b6f",
   "metadata": {
    "id": "f1f40b6f"
   },
   "source": [
    "#### <b>Example:</b>\n",
    "\n",
    "The mean of the seven numbers 4, 89, 54, -7, -9, 27, and 5 is given by (4+89+54-7-9+27)/7 = 158/7 = 23.28"
   ]
  },
  {
   "cell_type": "markdown",
   "id": "R0mzs8AWgLJP",
   "metadata": {
    "id": "R0mzs8AWgLJP"
   },
   "source": [
    "### __Implementation of Finding the Mean in Python Code__"
   ]
  },
  {
   "cell_type": "code",
   "execution_count": 1,
   "id": "739417f3",
   "metadata": {
    "colab": {
     "base_uri": "https://localhost:8080/"
    },
    "id": "739417f3",
    "outputId": "c9afd76b-25fc-41d1-d10c-4d887c7e7ec5"
   },
   "outputs": [
    {
     "data": {
      "text/plain": [
       "23.285714285714285"
      ]
     },
     "execution_count": 1,
     "metadata": {},
     "output_type": "execute_result"
    }
   ],
   "source": [
    "import statistics\n",
    "statistics.mean([4,89,54,-7,-9,27,5])"
   ]
  },
  {
   "cell_type": "code",
   "execution_count": 3,
   "id": "9d4a73df-ddc3-4566-ad75-4eae68df8a1f",
   "metadata": {},
   "outputs": [
    {
     "data": {
      "text/plain": [
       "23.285714285714285"
      ]
     },
     "execution_count": 3,
     "metadata": {},
     "output_type": "execute_result"
    }
   ],
   "source": [
    "import numpy as np\n",
    "np.mean([4,89,54,-7,-9,27,5])"
   ]
  },
  {
   "cell_type": "markdown",
   "id": "aI_HpzClgWgO",
   "metadata": {
    "id": "aI_HpzClgWgO"
   },
   "source": [
    "Thus, the mean of 4, 89, 54, -7, -9, and 27 is 23.28."
   ]
  },
  {
   "cell_type": "markdown",
   "id": "3633df12",
   "metadata": {
    "id": "3633df12"
   },
   "source": [
    "### <b> 3.2 Median </b>\n",
    "The median is the middle number obtained by arranging the data in ascending or descending order.\n",
    "\n",
    "- In datasets with an odd number of points, the median is the exact middle value.\n",
    "- In datasets with an even number of points, the median is the average of the two central values.\n",
    "- In both cases, the median is notably less sensitive to outliers and skewed data.\n",
    "\n",
    "\n",
    "<b> Example 1</b>\n",
    "\n",
    "Consider the dataset with odd numbers x = 5, 76, 98, 32, 1, -6, 34, 3, -65\n",
    "\n",
    "Step 1: Arrange the numbers in ascending order, that is, -65, -6, 1, 3, 5, 32, 34, 76, 98.\n",
    "\n",
    "Step 2: The middle number is the fifth number, as there are nine numbers in total. So, the median of the given dataset is 5.\n",
    "\n",
    "<b> Example 2</b>\n",
    "\n",
    "Consider the dataset with even numbers x = 5, 76, 98, 32, 1, -6, 34, 3, -65, 99\n",
    "\n",
    "Step 1: Arrange the numbers in ascending order, that is, -65, -6, 1, 3, 5, 32, 34, 76, 98, 99.\n",
    "\n",
    "Step 2: Identify the middle numbers 5 and 32.\n",
    "\n",
    "Step 3: To calculate the median, take the average of two middle values, that is, 5 and 32. So, the median of the given dataset is (5+32)/2 = 18.5\n",
    "\n"
   ]
  },
  {
   "cell_type": "markdown",
   "id": "otG01EpLgn8b",
   "metadata": {
    "id": "otG01EpLgn8b"
   },
   "source": [
    "### __Implementation of Finding the Median in Python Code__"
   ]
  },
  {
   "cell_type": "code",
   "execution_count": 1,
   "id": "3cd2ed12",
   "metadata": {
    "colab": {
     "base_uri": "https://localhost:8080/"
    },
    "id": "3cd2ed12",
    "outputId": "6025cab5-2646-479b-8381-a4d41d867833"
   },
   "outputs": [
    {
     "data": {
      "text/plain": [
       "10"
      ]
     },
     "execution_count": 1,
     "metadata": {},
     "output_type": "execute_result"
    }
   ],
   "source": [
    "import statistics\n",
    "x = (110, 2, 23, 4, 5, 60, 72, 8, 9, 10,11)\n",
    "statistics.median(x)"
   ]
  },
  {
   "cell_type": "code",
   "execution_count": 2,
   "id": "2fa8e267-a7a9-49de-bbe3-54559b3318a0",
   "metadata": {},
   "outputs": [
    {
     "data": {
      "text/plain": [
       "10.0"
      ]
     },
     "execution_count": 2,
     "metadata": {},
     "output_type": "execute_result"
    }
   ],
   "source": [
    "import numpy as np\n",
    "np.median(x)"
   ]
  },
  {
   "cell_type": "code",
   "execution_count": 8,
   "id": "8af9eaab-cbf4-4d6c-931e-2c7090c9bfc3",
   "metadata": {},
   "outputs": [
    {
     "data": {
      "text/plain": [
       "5.5"
      ]
     },
     "execution_count": 8,
     "metadata": {},
     "output_type": "execute_result"
    }
   ],
   "source": [
    "np.median([1,2,3,4,5,6,7,8,9,10])"
   ]
  },
  {
   "cell_type": "markdown",
   "id": "VOEIT8n5geda",
   "metadata": {
    "id": "VOEIT8n5geda"
   },
   "source": [
    "Thus, the median of 1, 2, 3, 4, 5, 6, 7, 8, 9, 10 is 5.5."
   ]
  },
  {
   "cell_type": "markdown",
   "id": "89932302",
   "metadata": {
    "id": "89932302"
   },
   "source": [
    "### <b> 3.3 Mode </b>\n",
    "Mode is the most frequently occurring data point in the set.\n",
    "\n",
    "- The mode is adaptable and applicable to both numerical and categorical data.\n",
    "- The mode is sometimes misleading, potentially not reflecting the true center of a distribution.\n",
    "- The mode is occasionally distant, representing the most frequent data points, which might be far from the actual central point.\n",
    "\n",
    "**Example:** Gather data on cell phone brand preferences by surveying 100 individuals to analyze and draw inferences from the categorical data.\n",
    "\n",
    "\n",
    "<b> Preferred brand</b> $\\;\\;\\;\\;\\;\\;$ <b>No. of people</b>\n",
    "\n",
    "Nokia $\\;\\;\\;\\;\\;\\;\\;\\;\\;\\;\\;\\;\\;\\;\\;\\;\\;\\;\\;\\;\\;\\;\\;\\;$  12\n",
    "\n",
    "Realme $\\;\\;\\;\\;\\;\\;\\;\\;\\;\\;\\;\\;\\;\\;\\;\\;\\;\\;\\;\\;\\;\\;$ 32\n",
    "\n",
    "Apple $\\;\\;\\;\\;\\;\\;\\;\\;\\;\\;\\;\\;\\;\\;\\;\\;\\;\\;\\;\\;\\;\\;\\;\\;$  10\n",
    "\n",
    "Samsung $\\;\\;\\;\\;\\;\\;\\;\\;\\;\\;\\;\\;\\;\\;\\;\\;\\;\\;\\;\\;$ 36\n",
    "\n",
    "Oppo  $\\;\\;\\;\\;\\;\\;\\;\\;\\;\\;\\;\\;\\;\\;\\;\\;\\;\\;\\;\\;\\;\\;\\;\\;\\;$   4\n",
    "\n",
    "Vivo  $\\;\\;\\;\\;\\;\\;\\;\\;\\;\\;\\;\\;\\;\\;\\;\\;\\;\\;\\;\\;\\;\\;\\;\\;\\;\\;\\;$   6\n",
    "\n",
    "In the above data, the most frequently occurring preference is Samsung, which indicates the value of mode."
   ]
  },
  {
   "cell_type": "markdown",
   "id": "EnQkG1pAoKjT",
   "metadata": {
    "id": "EnQkG1pAoKjT"
   },
   "source": []
  },
  {
   "cell_type": "markdown",
   "id": "5d1deceb-e9c8-419c-af5e-37c3fff40d0b",
   "metadata": {
    "id": "5d1deceb-e9c8-419c-af5e-37c3fff40d0b"
   },
   "source": [
    "### __Implementation of Finding the Mode in Python Code__"
   ]
  },
  {
   "cell_type": "code",
   "execution_count": 7,
   "id": "7a69b337",
   "metadata": {
    "colab": {
     "base_uri": "https://localhost:8080/",
     "height": 35
    },
    "id": "7a69b337",
    "outputId": "20091200-0f50-46a9-bcf2-308465646ac6"
   },
   "outputs": [
    {
     "data": {
      "text/plain": [
       "'Samsung'"
      ]
     },
     "execution_count": 7,
     "metadata": {},
     "output_type": "execute_result"
    }
   ],
   "source": [
    "x = ['Apple','Nokia','Samsung','Samsung','Oppo','Vivo','Apple','Samsung','Cat']\n",
    "statistics.mode(x)"
   ]
  },
  {
   "cell_type": "code",
   "execution_count": 8,
   "id": "fd7e5d9c-0dca-4a9d-ab6a-398101f24586",
   "metadata": {},
   "outputs": [
    {
     "data": {
      "text/plain": [
       "2"
      ]
     },
     "execution_count": 8,
     "metadata": {},
     "output_type": "execute_result"
    }
   ],
   "source": [
    "statistics.mode([1,1,1,1,1,2,2,2,2,2,2,3,3,3])"
   ]
  },
  {
   "cell_type": "code",
   "execution_count": null,
   "id": "d14c8399-7f36-48f6-850b-f0bf14ded2e5",
   "metadata": {},
   "outputs": [],
   "source": []
  },
  {
   "cell_type": "code",
   "execution_count": 9,
   "id": "00e86417-61ce-4084-9226-fc1ee4228f37",
   "metadata": {},
   "outputs": [
    {
     "data": {
      "text/plain": [
       "3"
      ]
     },
     "execution_count": 9,
     "metadata": {},
     "output_type": "execute_result"
    }
   ],
   "source": [
    "x1 = ['Nokia','Samsung','Samsung','Apple',3,3,3]\n",
    "statistics.mode(x1)"
   ]
  },
  {
   "cell_type": "code",
   "execution_count": 25,
   "id": "95fe3750-747b-4619-894b-66ccc0e55297",
   "metadata": {},
   "outputs": [
    {
     "data": {
      "text/plain": [
       "'Oppo'"
      ]
     },
     "execution_count": 25,
     "metadata": {},
     "output_type": "execute_result"
    }
   ],
   "source": [
    "statistics.median(x)"
   ]
  },
  {
   "cell_type": "code",
   "execution_count": 29,
   "id": "45b8503e-a40f-4846-aa12-9c47755b6d97",
   "metadata": {},
   "outputs": [
    {
     "data": {
      "text/plain": [
       "37"
      ]
     },
     "execution_count": 29,
     "metadata": {},
     "output_type": "execute_result"
    }
   ],
   "source": [
    "s='37'\n",
    "int(s)"
   ]
  },
  {
   "cell_type": "code",
   "execution_count": 39,
   "id": "0a1797df-ec10-4efb-9335-fcae97a342b4",
   "metadata": {},
   "outputs": [
    {
     "data": {
      "text/plain": [
       "'45'"
      ]
     },
     "execution_count": 39,
     "metadata": {},
     "output_type": "execute_result"
    }
   ],
   "source": [
    "int1=45\n",
    "str(int1)"
   ]
  },
  {
   "cell_type": "code",
   "execution_count": 7,
   "id": "62660885-1534-4b01-a5ac-66918c0ce900",
   "metadata": {},
   "outputs": [
    {
     "ename": "AttributeError",
     "evalue": "module 'numpy' has no attribute 'mode'",
     "output_type": "error",
     "traceback": [
      "\u001b[1;31m---------------------------------------------------------------------------\u001b[0m",
      "\u001b[1;31mAttributeError\u001b[0m                            Traceback (most recent call last)",
      "Cell \u001b[1;32mIn[7], line 2\u001b[0m\n\u001b[0;32m      1\u001b[0m \u001b[38;5;28;01mimport\u001b[39;00m \u001b[38;5;21;01mnumpy\u001b[39;00m \u001b[38;5;28;01mas\u001b[39;00m \u001b[38;5;21;01mnp\u001b[39;00m\n\u001b[1;32m----> 2\u001b[0m np\u001b[38;5;241m.\u001b[39mmode(x)\n",
      "File \u001b[1;32mC:\\ProgramData\\anaconda3\\Lib\\site-packages\\numpy\\__init__.py:333\u001b[0m, in \u001b[0;36m__getattr__\u001b[1;34m(attr)\u001b[0m\n\u001b[0;32m    330\u001b[0m     \u001b[38;5;124m\"\u001b[39m\u001b[38;5;124mRemoved in NumPy 1.25.0\u001b[39m\u001b[38;5;124m\"\u001b[39m\n\u001b[0;32m    331\u001b[0m     \u001b[38;5;28;01mraise\u001b[39;00m \u001b[38;5;167;01mRuntimeError\u001b[39;00m(\u001b[38;5;124m\"\u001b[39m\u001b[38;5;124mTester was removed in NumPy 1.25.\u001b[39m\u001b[38;5;124m\"\u001b[39m)\n\u001b[1;32m--> 333\u001b[0m \u001b[38;5;28;01mraise\u001b[39;00m \u001b[38;5;167;01mAttributeError\u001b[39;00m(\u001b[38;5;124m\"\u001b[39m\u001b[38;5;124mmodule \u001b[39m\u001b[38;5;132;01m{!r}\u001b[39;00m\u001b[38;5;124m has no attribute \u001b[39m\u001b[38;5;124m\"\u001b[39m\n\u001b[0;32m    334\u001b[0m                      \u001b[38;5;124m\"\u001b[39m\u001b[38;5;132;01m{!r}\u001b[39;00m\u001b[38;5;124m\"\u001b[39m\u001b[38;5;241m.\u001b[39mformat(\u001b[38;5;18m__name__\u001b[39m, attr))\n",
      "\u001b[1;31mAttributeError\u001b[0m: module 'numpy' has no attribute 'mode'"
     ]
    }
   ],
   "source": [
    "import numpy as np\n",
    "np.mode(x)"
   ]
  },
  {
   "cell_type": "markdown",
   "id": "IYSQ0p-JgmHK",
   "metadata": {
    "id": "IYSQ0p-JgmHK"
   },
   "source": [
    "Thus, the mode of 'Nokia', 'Samsung', 'Samsung', 'Apple', 'Oppo', 'Vivo' is Samsung."
   ]
  },
  {
   "cell_type": "markdown",
   "id": "fe5a5c55",
   "metadata": {
    "id": "fe5a5c55"
   },
   "source": [
    "## __4. Measures of Dispersion__"
   ]
  },
  {
   "cell_type": "markdown",
   "id": "85867d7a",
   "metadata": {
    "id": "85867d7a"
   },
   "source": [
    "It is also known as measures of variability and is used to characterize the extent of spread or diversity in a dataset. At times, relying exclusively on measures of central tendency falls short of providing a thorough understanding of a dataset's distribution."
   ]
  },
  {
   "cell_type": "markdown",
   "id": "c44a5b73",
   "metadata": {
    "id": "c44a5b73"
   },
   "source": [
    "### <b>4.1 Range</b>\n",
    "Range is the difference between the largest and smallest data points in the set. It is sensitive to outliers and does\n",
    "not use every data point in the set. It also provides maximum and minimum values in the set.\n",
    "\n",
    "Since it is based on two extreme observations, it gets affected by fluctuations.Thus, the range is not a reliable\n",
    "measure of dispersion.\n"
   ]
  },
  {
   "cell_type": "markdown",
   "id": "Jibzpott4YBU",
   "metadata": {
    "id": "Jibzpott4YBU"
   },
   "source": [
    "\n",
    "<center>$Range = X_{max}$ – $X_{min}$</center>"
   ]
  },
  {
   "cell_type": "markdown",
   "id": "PzW9fK9ZhHfF",
   "metadata": {
    "id": "PzW9fK9ZhHfF"
   },
   "source": [
    "Where:\n",
    "\n",
    "Xmax is the maximum element in the set.\n",
    "\n",
    "Xmin is the minimum element in the set."
   ]
  },
  {
   "cell_type": "markdown",
   "id": "uVHn8p_x23n9",
   "metadata": {
    "id": "uVHn8p_x23n9"
   },
   "source": [
    "### <b>4.2 Percentile</b>\n",
    "\n",
    "A percentile is a statistical measure used to indicate the value below which a given percentage of observations falls in a dataset. In simpler terms, it tells you how a particular value compares to the rest of the data.\n",
    "\n",
    "For example, if a student scores in the 80th percentile on a standardized test, it means that their score is higher than 80% of all other test takers."
   ]
  },
  {
   "cell_type": "markdown",
   "id": "SG3uCw5e33aq",
   "metadata": {
    "id": "SG3uCw5e33aq"
   },
   "source": [
    "### <b>4.3 Quartile</b>\n",
    "\n",
    "Quartiles are statistical measures used to divide a dataset into four equal parts or quarters. They are calculated by arranging the data in ascending order and then dividing it into four equal-sized groups.\n",
    "\n",
    "There are three quartiles, which are:\n",
    "\n",
    "First quartile (Q1): This is the value below which 25% of the data fall. In other words, 25% of the data points are less than or equal to Q1.\n",
    "\n",
    "Second quartile (Q2): This is the median of the dataset. It divides the data into two halves, with 50% of the data points falling below it and 50% above it.\n",
    "\n",
    "Third quartile (Q3): This is the value below which 75% of the data fall. 75% of the data points are less than or equal to Q3."
   ]
  },
  {
   "cell_type": "markdown",
   "id": "7a9a42ec",
   "metadata": {
    "id": "7a9a42ec"
   },
   "source": [
    "### <b>4.4 Interquartile Range</b>\n",
    "Interquartile range is the difference between the 25th and 75th percentiles.\n",
    "\n",
    "- It describes the middle 50% of the observations, and if they are spaced widely apart, their interquartile range will be large.\n",
    "- It is useful even if the extreme values are not accurate, as it is insensitive to them.\n",
    "- It is not amenable to mathematical manipulation.\n",
    "\n",
    "<center><b>$IQR = Q_3 – Q_1$</b></center>\n",
    "\n",
    "Where:\n",
    "\n",
    "Q3 is third quartile.\n",
    "\n",
    "Q1 is first quartile.\n",
    "\n",
    "**Example**:\n",
    "Consider the following dataset, where the values are arranged in ascending order:\n",
    "[10, 15, 20, 25, 30, 35, 40, 50, 70, 100]\n",
    "\n",
    "The 25th percentile = average of 2nd and 3rd values = (15 + 20)/2 = 17.5.\n",
    "\n",
    "The 75th percentile = average of the 7th and 8th values = (40 + 50)/2 = 45.\n",
    "\n",
    "The interquartile range = 45 - 17.5 = 27.5.\n"
   ]
  },
  {
   "cell_type": "markdown",
   "id": "bdhexcxsW-m8",
   "metadata": {
    "id": "bdhexcxsW-m8"
   },
   "source": [
    "![link text](https://labcontent.simplicdn.net/data-content/content-assets/Data_and_AI/ADSP_Images/Lesson_05_Data_Visualization/boxplot.png)"
   ]
  },
  {
   "cell_type": "code",
   "execution_count": 4,
   "id": "Z9I7eBdX4srm",
   "metadata": {
    "colab": {
     "base_uri": "https://localhost:8080/"
    },
    "id": "Z9I7eBdX4srm",
    "outputId": "ee1609d4-0e21-438d-e0ee-6d0397efe7eb"
   },
   "outputs": [
    {
     "name": "stdout",
     "output_type": "stream",
     "text": [
      "Q1: 52.5\n",
      "Q3: 100.75\n",
      "Interquartile Range (IQR): 48.25\n"
     ]
    }
   ],
   "source": [
    "#calculate inter quartile range\n",
    "\n",
    "import numpy as np\n",
    "\n",
    "# Example dataset\n",
    "data = [101, 200, 30, 40, 50, 60, 703, 80, 90, 100]\n",
    "# Calculating quartiles\n",
    "q1 = np.percentile(data, 25)\n",
    "q3 = np.percentile(data, 75)\n",
    "\n",
    "# Calculating Interquartile Range (IQR)\n",
    "iqr = q3 - q1\n",
    "\n",
    "print(\"Q1:\", q1)\n",
    "print(\"Q3:\", q3)\n",
    "print(\"Interquartile Range (IQR):\", iqr)"
   ]
  },
  {
   "cell_type": "markdown",
   "id": "a33e51d7",
   "metadata": {
    "id": "a33e51d7"
   },
   "source": [
    "### <b> 4.5 Standard Deviation</b>\n",
    "Standard Deviation (SD) is the most popular measure of dispersion. It measures the spread of data around the mean.\n",
    "It is defined as the square root of the sum of squares of the deviation around the mean divided by the number of observations.\n",
    "\n",
    "\n",
    "\n",
    "\n",
    "\n"
   ]
  },
  {
   "cell_type": "markdown",
   "id": "ca46a934",
   "metadata": {
    "id": "ca46a934"
   },
   "source": [
    "![link text](https://labcontent.simplicdn.net/data-content/content-assets/Data_and_AI/ADSP_Images/Lesson_05_Data_Visualization/standard_deviation.png)"
   ]
  },
  {
   "cell_type": "markdown",
   "id": "OVb0IXclh3bU",
   "metadata": {
    "id": "OVb0IXclh3bU"
   },
   "source": [
    "Where:\n",
    "\n",
    "N is the total number of observations.\n",
    "\n",
    "X̄ is the mean of all the observations.\n",
    "\n",
    "Xi is the value of the observations.\n",
    "\n"
   ]
  },
  {
   "cell_type": "markdown",
   "id": "pfgP4q66uULb",
   "metadata": {
    "id": "pfgP4q66uULb"
   },
   "source": [
    "### __Python Code Implementation for Standard Deviation__"
   ]
  },
  {
   "cell_type": "code",
   "execution_count": 65,
   "id": "59ac1b87",
   "metadata": {
    "colab": {
     "base_uri": "https://localhost:8080/"
    },
    "id": "59ac1b87",
    "outputId": "628bfd6a-9b81-4dcb-8eb3-164a1c5ef3e6"
   },
   "outputs": [
    {
     "name": "stdout",
     "output_type": "stream",
     "text": [
      "1.5811388300841898\n",
      "1.5811388300841898\n"
     ]
    }
   ],
   "source": [
    "#sample std\n",
    "x = [1, 2, 3, 4, 5]\n",
    "print(statistics.stdev(x))\n",
    "print(np.std(x, ddof=1))"
   ]
  },
  {
   "cell_type": "code",
   "execution_count": 67,
   "id": "635e25aa-cf0d-4939-bc94-78ab66391577",
   "metadata": {},
   "outputs": [
    {
     "name": "stdout",
     "output_type": "stream",
     "text": [
      "1.4142135623730951\n",
      "1.4142135623730951\n"
     ]
    }
   ],
   "source": [
    "#population std\n",
    "x = [1, 2, 3, 4, 5]\n",
    "print(statistics.pstdev(x))\n",
    "print(np.std(x, ddof=0))"
   ]
  },
  {
   "cell_type": "markdown",
   "id": "d7f3bd87",
   "metadata": {
    "id": "d7f3bd87"
   },
   "source": [
    "### <b>4.6 Variance </b>\n",
    "Variance is defined as the average of the squared differences from the mean.\n",
    "\n",
    "![link text](https://labcontent.simplicdn.net/data-content/content-assets/Data_and_AI/ADSP_Images/Lesson_05_Data_Visualization/variance.png)"
   ]
  },
  {
   "cell_type": "markdown",
   "id": "9SyjCs8gidUV",
   "metadata": {
    "id": "9SyjCs8gidUV"
   },
   "source": [
    "Where:\n",
    "\n",
    "N is the total number of observations.\n",
    "\n",
    "X̄ is the mean of all the observations.\n",
    "\n",
    "Xi is the value of the observation.\n"
   ]
  },
  {
   "cell_type": "markdown",
   "id": "TRxHlNuBvlyn",
   "metadata": {
    "id": "TRxHlNuBvlyn"
   },
   "source": [
    "### __Python Code Implementation for Variance__"
   ]
  },
  {
   "cell_type": "code",
   "execution_count": 57,
   "id": "00ff987e",
   "metadata": {
    "colab": {
     "base_uri": "https://localhost:8080/"
    },
    "id": "00ff987e",
    "outputId": "9af80a6e-fd28-48d3-dec9-170e58b944da"
   },
   "outputs": [
    {
     "name": "stdout",
     "output_type": "stream",
     "text": [
      "2.5\n",
      "2.5\n"
     ]
    }
   ],
   "source": [
    "#sample variance\n",
    "x = [1, 2, 3, 4, 5]\n",
    "print(statistics.variance(x))\n",
    "print(np.var(x,ddof=1))"
   ]
  },
  {
   "cell_type": "code",
   "execution_count": 63,
   "id": "d2cf5fee-a8f7-4589-9776-58f02323a375",
   "metadata": {},
   "outputs": [
    {
     "name": "stdout",
     "output_type": "stream",
     "text": [
      "2\n",
      "2.0\n"
     ]
    }
   ],
   "source": [
    "#population variance\n",
    "x = [1, 2, 3, 4, 5]\n",
    "print(statistics.pvariance(x))\n",
    "print(np.var(x))"
   ]
  },
  {
   "cell_type": "code",
   "execution_count": 59,
   "id": "44f8069a-2113-49dd-9da1-c2d1647e3a3e",
   "metadata": {},
   "outputs": [
    {
     "data": {
      "text/plain": [
       "\u001b[1;31mSignature:\u001b[0m \u001b[0mstatistics\u001b[0m\u001b[1;33m.\u001b[0m\u001b[0mvariance\u001b[0m\u001b[1;33m(\u001b[0m\u001b[0mdata\u001b[0m\u001b[1;33m,\u001b[0m \u001b[0mxbar\u001b[0m\u001b[1;33m=\u001b[0m\u001b[1;32mNone\u001b[0m\u001b[1;33m)\u001b[0m\u001b[1;33m\u001b[0m\u001b[1;33m\u001b[0m\u001b[0m\n",
       "\u001b[1;31mDocstring:\u001b[0m\n",
       "Return the sample variance of data.\n",
       "\n",
       "data should be an iterable of Real-valued numbers, with at least two\n",
       "values. The optional argument xbar, if given, should be the mean of\n",
       "the data. If it is missing or None, the mean is automatically calculated.\n",
       "\n",
       "Use this function when your data is a sample from a population. To\n",
       "calculate the variance from the entire population, see ``pvariance``.\n",
       "\n",
       "Examples:\n",
       "\n",
       ">>> data = [2.75, 1.75, 1.25, 0.25, 0.5, 1.25, 3.5]\n",
       ">>> variance(data)\n",
       "1.3720238095238095\n",
       "\n",
       "If you have already calculated the mean of your data, you can pass it as\n",
       "the optional second argument ``xbar`` to avoid recalculating it:\n",
       "\n",
       ">>> m = mean(data)\n",
       ">>> variance(data, m)\n",
       "1.3720238095238095\n",
       "\n",
       "This function does not check that ``xbar`` is actually the mean of\n",
       "``data``. Giving arbitrary values for ``xbar`` may lead to invalid or\n",
       "impossible results.\n",
       "\n",
       "Decimals and Fractions are supported:\n",
       "\n",
       ">>> from decimal import Decimal as D\n",
       ">>> variance([D(\"27.5\"), D(\"30.25\"), D(\"30.25\"), D(\"34.5\"), D(\"41.75\")])\n",
       "Decimal('31.01875')\n",
       "\n",
       ">>> from fractions import Fraction as F\n",
       ">>> variance([F(1, 6), F(1, 2), F(5, 3)])\n",
       "Fraction(67, 108)\n",
       "\u001b[1;31mFile:\u001b[0m      c:\\programdata\\anaconda3\\lib\\statistics.py\n",
       "\u001b[1;31mType:\u001b[0m      function"
      ]
     },
     "metadata": {},
     "output_type": "display_data"
    }
   ],
   "source": [
    "statistics.variance?"
   ]
  },
  {
   "cell_type": "code",
   "execution_count": null,
   "id": "271f41bd-22c5-4712-a240-9e390696fb8d",
   "metadata": {},
   "outputs": [],
   "source": []
  },
  {
   "cell_type": "code",
   "execution_count": 55,
   "id": "ab2c459b-e29f-43d6-afb5-f673d95098d0",
   "metadata": {},
   "outputs": [
    {
     "data": {
      "text/plain": [
       "\u001b[1;31mSignature:\u001b[0m      \n",
       "\u001b[0mnp\u001b[0m\u001b[1;33m.\u001b[0m\u001b[0mvar\u001b[0m\u001b[1;33m(\u001b[0m\u001b[1;33m\n",
       "\u001b[0m    \u001b[0ma\u001b[0m\u001b[1;33m,\u001b[0m\u001b[1;33m\n",
       "\u001b[0m    \u001b[0maxis\u001b[0m\u001b[1;33m=\u001b[0m\u001b[1;32mNone\u001b[0m\u001b[1;33m,\u001b[0m\u001b[1;33m\n",
       "\u001b[0m    \u001b[0mdtype\u001b[0m\u001b[1;33m=\u001b[0m\u001b[1;32mNone\u001b[0m\u001b[1;33m,\u001b[0m\u001b[1;33m\n",
       "\u001b[0m    \u001b[0mout\u001b[0m\u001b[1;33m=\u001b[0m\u001b[1;32mNone\u001b[0m\u001b[1;33m,\u001b[0m\u001b[1;33m\n",
       "\u001b[0m    \u001b[0mddof\u001b[0m\u001b[1;33m=\u001b[0m\u001b[1;36m0\u001b[0m\u001b[1;33m,\u001b[0m\u001b[1;33m\n",
       "\u001b[0m    \u001b[0mkeepdims\u001b[0m\u001b[1;33m=\u001b[0m\u001b[1;33m<\u001b[0m\u001b[0mno\u001b[0m \u001b[0mvalue\u001b[0m\u001b[1;33m>\u001b[0m\u001b[1;33m,\u001b[0m\u001b[1;33m\n",
       "\u001b[0m    \u001b[1;33m*\u001b[0m\u001b[1;33m,\u001b[0m\u001b[1;33m\n",
       "\u001b[0m    \u001b[0mwhere\u001b[0m\u001b[1;33m=\u001b[0m\u001b[1;33m<\u001b[0m\u001b[0mno\u001b[0m \u001b[0mvalue\u001b[0m\u001b[1;33m>\u001b[0m\u001b[1;33m,\u001b[0m\u001b[1;33m\n",
       "\u001b[0m\u001b[1;33m)\u001b[0m\u001b[1;33m\u001b[0m\u001b[1;33m\u001b[0m\u001b[0m\n",
       "\u001b[1;31mCall signature:\u001b[0m  \u001b[0mnp\u001b[0m\u001b[1;33m.\u001b[0m\u001b[0mvar\u001b[0m\u001b[1;33m(\u001b[0m\u001b[1;33m*\u001b[0m\u001b[0margs\u001b[0m\u001b[1;33m,\u001b[0m \u001b[1;33m**\u001b[0m\u001b[0mkwargs\u001b[0m\u001b[1;33m)\u001b[0m\u001b[1;33m\u001b[0m\u001b[1;33m\u001b[0m\u001b[0m\n",
       "\u001b[1;31mType:\u001b[0m            _ArrayFunctionDispatcher\n",
       "\u001b[1;31mString form:\u001b[0m     <function var at 0x00000238F3FA8040>\n",
       "\u001b[1;31mFile:\u001b[0m            c:\\programdata\\anaconda3\\lib\\site-packages\\numpy\\core\\fromnumeric.py\n",
       "\u001b[1;31mDocstring:\u001b[0m      \n",
       "Compute the variance along the specified axis.\n",
       "\n",
       "Returns the variance of the array elements, a measure of the spread of a\n",
       "distribution.  The variance is computed for the flattened array by\n",
       "default, otherwise over the specified axis.\n",
       "\n",
       "Parameters\n",
       "----------\n",
       "a : array_like\n",
       "    Array containing numbers whose variance is desired.  If `a` is not an\n",
       "    array, a conversion is attempted.\n",
       "axis : None or int or tuple of ints, optional\n",
       "    Axis or axes along which the variance is computed.  The default is to\n",
       "    compute the variance of the flattened array.\n",
       "\n",
       "    .. versionadded:: 1.7.0\n",
       "\n",
       "    If this is a tuple of ints, a variance is performed over multiple axes,\n",
       "    instead of a single axis or all the axes as before.\n",
       "dtype : data-type, optional\n",
       "    Type to use in computing the variance.  For arrays of integer type\n",
       "    the default is `float64`; for arrays of float types it is the same as\n",
       "    the array type.\n",
       "out : ndarray, optional\n",
       "    Alternate output array in which to place the result.  It must have\n",
       "    the same shape as the expected output, but the type is cast if\n",
       "    necessary.\n",
       "ddof : int, optional\n",
       "    \"Delta Degrees of Freedom\": the divisor used in the calculation is\n",
       "    ``N - ddof``, where ``N`` represents the number of elements. By\n",
       "    default `ddof` is zero.\n",
       "keepdims : bool, optional\n",
       "    If this is set to True, the axes which are reduced are left\n",
       "    in the result as dimensions with size one. With this option,\n",
       "    the result will broadcast correctly against the input array.\n",
       "\n",
       "    If the default value is passed, then `keepdims` will not be\n",
       "    passed through to the `var` method of sub-classes of\n",
       "    `ndarray`, however any non-default value will be.  If the\n",
       "    sub-class' method does not implement `keepdims` any\n",
       "    exceptions will be raised.\n",
       "\n",
       "where : array_like of bool, optional\n",
       "    Elements to include in the variance. See `~numpy.ufunc.reduce` for\n",
       "    details.\n",
       "\n",
       "    .. versionadded:: 1.20.0\n",
       "\n",
       "Returns\n",
       "-------\n",
       "variance : ndarray, see dtype parameter above\n",
       "    If ``out=None``, returns a new array containing the variance;\n",
       "    otherwise, a reference to the output array is returned.\n",
       "\n",
       "See Also\n",
       "--------\n",
       "std, mean, nanmean, nanstd, nanvar\n",
       ":ref:`ufuncs-output-type`\n",
       "\n",
       "Notes\n",
       "-----\n",
       "The variance is the average of the squared deviations from the mean,\n",
       "i.e.,  ``var = mean(x)``, where ``x = abs(a - a.mean())**2``.\n",
       "\n",
       "The mean is typically calculated as ``x.sum() / N``, where ``N = len(x)``.\n",
       "If, however, `ddof` is specified, the divisor ``N - ddof`` is used\n",
       "instead.  In standard statistical practice, ``ddof=1`` provides an\n",
       "unbiased estimator of the variance of a hypothetical infinite population.\n",
       "``ddof=0`` provides a maximum likelihood estimate of the variance for\n",
       "normally distributed variables.\n",
       "\n",
       "Note that for complex numbers, the absolute value is taken before\n",
       "squaring, so that the result is always real and nonnegative.\n",
       "\n",
       "For floating-point input, the variance is computed using the same\n",
       "precision the input has.  Depending on the input data, this can cause\n",
       "the results to be inaccurate, especially for `float32` (see example\n",
       "below).  Specifying a higher-accuracy accumulator using the ``dtype``\n",
       "keyword can alleviate this issue.\n",
       "\n",
       "Examples\n",
       "--------\n",
       ">>> a = np.array([[1, 2], [3, 4]])\n",
       ">>> np.var(a)\n",
       "1.25\n",
       ">>> np.var(a, axis=0)\n",
       "array([1.,  1.])\n",
       ">>> np.var(a, axis=1)\n",
       "array([0.25,  0.25])\n",
       "\n",
       "In single precision, var() can be inaccurate:\n",
       "\n",
       ">>> a = np.zeros((2, 512*512), dtype=np.float32)\n",
       ">>> a[0, :] = 1.0\n",
       ">>> a[1, :] = 0.1\n",
       ">>> np.var(a)\n",
       "0.20250003\n",
       "\n",
       "Computing the variance in float64 is more accurate:\n",
       "\n",
       ">>> np.var(a, dtype=np.float64)\n",
       "0.20249999932944759 # may vary\n",
       ">>> ((1-0.55)**2 + (0.1-0.55)**2)/2\n",
       "0.2025\n",
       "\n",
       "Specifying a where argument:\n",
       "\n",
       ">>> a = np.array([[14, 8, 11, 10], [7, 9, 10, 11], [10, 15, 5, 10]])\n",
       ">>> np.var(a)\n",
       "6.833333333333333 # may vary\n",
       ">>> np.var(a, where=[[True], [True], [False]])\n",
       "4.0\n",
       "\u001b[1;31mClass docstring:\u001b[0m\n",
       "Class to wrap functions with checks for __array_function__ overrides.\n",
       "\n",
       "All arguments are required, and can only be passed by position.\n",
       "\n",
       "Parameters\n",
       "----------\n",
       "dispatcher : function or None\n",
       "    The dispatcher function that returns a single sequence-like object\n",
       "    of all arguments relevant.  It must have the same signature (except\n",
       "    the default values) as the actual implementation.\n",
       "    If ``None``, this is a ``like=`` dispatcher and the\n",
       "    ``_ArrayFunctionDispatcher`` must be called with ``like`` as the\n",
       "    first (additional and positional) argument.\n",
       "implementation : function\n",
       "    Function that implements the operation on NumPy arrays without\n",
       "    overrides.  Arguments passed calling the ``_ArrayFunctionDispatcher``\n",
       "    will be forwarded to this (and the ``dispatcher``) as if using\n",
       "    ``*args, **kwargs``.\n",
       "\n",
       "Attributes\n",
       "----------\n",
       "_implementation : function\n",
       "    The original implementation passed in."
      ]
     },
     "metadata": {},
     "output_type": "display_data"
    }
   ],
   "source": [
    "np.var?"
   ]
  },
  {
   "cell_type": "markdown",
   "id": "ilBTlOCkj4i7",
   "metadata": {
    "id": "ilBTlOCkj4i7"
   },
   "source": [
    "Thus, the variance of 1, 2, 3, 4, 5 is 2.5."
   ]
  },
  {
   "cell_type": "markdown",
   "id": "3f1637c7",
   "metadata": {
    "id": "3f1637c7"
   },
   "source": [
    "### __4.7 Standard Deviation and Variance for Population and Sample Data__\n",
    "\n"
   ]
  },
  {
   "cell_type": "markdown",
   "id": "d7ecc761",
   "metadata": {
    "id": "d7ecc761"
   },
   "source": [
    "Suppose there are N values present in a dataset. To calculate the standard deviation and variance, use:\n",
    "\n",
    "1) Population divided by N when calculating the SD and variance\n",
    "\n",
    "2) Sample divided by n-1 when calculating the SD and variance\n",
    "\n",
    "The formula for calculating standard deviation and variance changes while dealing with\n",
    "population and sample data.\n",
    "\n",
    "![SD_and_v.png](https://s3.us-east-1.amazonaws.com/static2.simplilearn.com/lms/testpaper_images/ADSP/Advanced_Statistics/Probimages/Statistics_Fundamentals/SD_and_v.png)"
   ]
  },
  {
   "cell_type": "markdown",
   "id": "68a84739",
   "metadata": {
    "id": "68a84739"
   },
   "source": [
    "## __5. Measures of Shape (Skewness)__"
   ]
  },
  {
   "cell_type": "markdown",
   "id": "48c89bed",
   "metadata": {
    "id": "48c89bed"
   },
   "source": [
    "### __5.1 What Is Skewness?__"
   ]
  },
  {
   "cell_type": "markdown",
   "id": "4AcNj7NSnVTW",
   "metadata": {
    "id": "4AcNj7NSnVTW"
   },
   "source": [
    "![link text](https://labcontent.simplicdn.net/data-content/content-assets/Data_and_AI/ADSP_Images/Lesson_05_Data_Visualization/skew.png)"
   ]
  },
  {
   "cell_type": "markdown",
   "id": "689c7196",
   "metadata": {
    "id": "689c7196"
   },
   "source": [
    "Skewness is defined as the amount and direction of deviation from horizontal symmetry.\n",
    "\n",
    "![link text](https://labcontent.simplicdn.net/data-content/content-assets/Data_and_AI/ADSP_Images/Lesson_05_Data_Visualization/variance.png)\n",
    "\n",
    "For many statistical inferences, it's ideal for the distribution to be normal or nearly normal. Skewness is vital, as it helps you test for normality. In a normal distribution, skewness is 0. So, if the skewness is close to 0, it is a nearly normal distribution.\n",
    "\n",
    "\n",
    "\n",
    "\n"
   ]
  },
  {
   "cell_type": "markdown",
   "id": "1a4685b5",
   "metadata": {
    "id": "1a4685b5"
   },
   "source": [
    "#### __Formula for Skewness__"
   ]
  },
  {
   "cell_type": "markdown",
   "id": "807a91dc",
   "metadata": {
    "id": "807a91dc"
   },
   "source": [
    "For univariate data $X_1,X_2,.....X_n$, skewness is given by:"
   ]
  },
  {
   "cell_type": "markdown",
   "id": "6b059e0b",
   "metadata": {
    "id": "6b059e0b"
   },
   "source": [
    "![link text](https://labcontent.simplicdn.net/data-content/content-assets/Data_and_AI/ADSP_Images/Lesson_06_Maths_and_Stats/Statistics_Fundamentals/Image_2.png)"
   ]
  },
  {
   "cell_type": "markdown",
   "id": "41290ab8",
   "metadata": {
    "id": "41290ab8"
   },
   "source": [
    "In a normal distribution, the graph appears as a classical, symmetrical __bell-shaped curve.__ The mean, average, and\n",
    "mode or maximum point on the curve are equal, and the tails on either side of the curve are exact mirror images of\n",
    "each other.\n",
    "\n",
    "When a distribution is skewed to the left, the tail on the curve's left side is longer than the tail on the\n",
    "right side, and the mean is less than the mode. This situation is called negative skewness.\n",
    "\n",
    "When a distribution is skewed to the right, the tail on the curve's right side is longer than the tail on the left side, and the mean is greater than the mode. This situation  is called positive skewness.\n"
   ]
  },
  {
   "cell_type": "markdown",
   "id": "cea3b055",
   "metadata": {
    "id": "cea3b055"
   },
   "source": [
    "![meanmedianmode.png](https://s3.us-east-1.amazonaws.com/static2.simplilearn.com/lms/testpaper_images/ADSP/Advanced_Statistics/Probimages/Statistics_Fundamentals/Statistics_Notebookupdated/meanmedianmode.png)"
   ]
  },
  {
   "cell_type": "markdown",
   "id": "yHL4qB5stX8R",
   "metadata": {
    "id": "yHL4qB5stX8R"
   },
   "source": [
    "### __Python Code Implementation for Skewness__"
   ]
  },
  {
   "cell_type": "code",
   "execution_count": 101,
   "id": "16b2a403",
   "metadata": {
    "colab": {
     "base_uri": "https://localhost:8080/"
    },
    "id": "16b2a403",
    "outputId": "6dff869b-6ef3-4c94-f98e-c698eac62582"
   },
   "outputs": [
    {
     "name": "stdout",
     "output_type": "stream",
     "text": [
      "0.2857142857142857\n",
      "0.9558823529411765\n"
     ]
    }
   ],
   "source": [
    "# Importing numpy and statsmodels\n",
    "import numpy as np\n",
    "from statsmodels.stats.stattools import medcouple\n",
    "\n",
    "x = np.array([1, 2, 3, 4, 7, 8])\n",
    "x1 = np.array([-1, 2, 3, 4, 70, 800])\n",
    "skewness = medcouple(x)\n",
    "skewness1 = medcouple(x1)\n",
    "\n",
    "print(skewness)\n",
    "print(skewness1)"
   ]
  },
  {
   "cell_type": "code",
   "execution_count": 105,
   "id": "1fdaf182-39ef-4b40-a0ae-601771fda8f6",
   "metadata": {},
   "outputs": [
    {
     "name": "stdout",
     "output_type": "stream",
     "text": [
      "(0.35989522792400647, 0.375, 0.3076923076923079, 0.26204871283216746)\n"
     ]
    }
   ],
   "source": [
    "sk=robust_skewness(x)\n",
    "print(sk)"
   ]
  },
  {
   "cell_type": "markdown",
   "id": "f277f5f5-a550-4dff-8a78-0411c25107ff",
   "metadata": {},
   "source": [
    "https://www.statsmodels.org/dev/generated/statsmodels.stats.stattools.robust_skewness.html"
   ]
  },
  {
   "attachments": {
    "9d4e4d48-38bc-44ca-a6bd-d0b17c056c5f.png": {
     "image/png": "[encoded data removed]"
    }
   },
   "cell_type": "markdown",
   "id": "7d3851be-4ed3-4996-b746-f7d347b66e3b",
   "metadata": {},
   "source": [
    "![image.png](attachment:9d4e4d48-38bc-44ca-a6bd-d0b17c056c5f.png)"
   ]
  },
  {
   "cell_type": "markdown",
   "id": "86e2a146",
   "metadata": {
    "id": "86e2a146"
   },
   "source": [
    "### __5.2 Measures of Shape (Kurtosis)__"
   ]
  },
  {
   "cell_type": "markdown",
   "id": "dc24f034",
   "metadata": {
    "id": "dc24f034"
   },
   "source": [
    "Kurtosis measures how heavy-tailed or light-tailed the distribution is relative to a normal distribution.\n",
    "- Data with high kurtosis tend to have heavy tails or outliers.\n",
    "- If kurtosis is low, there will be no outliers.\n",
    "- A uniform distribution is an extreme case of low kurtosis.\n",
    "\n",
    "![link text](https://labcontent.simplicdn.net/data-content/content-assets/Data_and_AI/ADSP_Images/Lesson_05_Data_Visualization/kurtosis.png)"
   ]
  },
  {
   "cell_type": "markdown",
   "id": "77be9b2e",
   "metadata": {
    "id": "77be9b2e"
   },
   "source": [
    "#### __Formula for Kurtosis__"
   ]
  },
  {
   "cell_type": "markdown",
   "id": "a65bb1da",
   "metadata": {
    "id": "a65bb1da"
   },
   "source": [
    "For univariate data $X_1,X_2,.....X_n$, kurtosis is given by:"
   ]
  },
  {
   "cell_type": "markdown",
   "id": "70d0ad31",
   "metadata": {
    "id": "70d0ad31"
   },
   "source": [
    "![link text](https://labcontent.simplicdn.net/data-content/content-assets/Data_and_AI/ADSP_Images/Lesson_06_Maths_and_Stats/Statistics_Fundamentals/Image_3.png)"
   ]
  },
  {
   "cell_type": "markdown",
   "id": "dacb1293",
   "metadata": {
    "id": "dacb1293"
   },
   "source": [
    "Positive excess kurtosis means a heavy-tailed\n",
    "distribution, and negative excess kurtosis means a light-tailed distribution.  "
   ]
  },
  {
   "cell_type": "markdown",
   "id": "6aa6310d",
   "metadata": {
    "id": "6aa6310d"
   },
   "source": [
    "![positivenegativekurt.PNG](https://s3.us-east-1.amazonaws.com/static2.simplilearn.com/lms/testpaper_images/ADSP/Advanced_Statistics/Probimages/Statistics_Fundamentals/Statistics_Notebookupdated/positivenegativekurt.PNG)"
   ]
  },
  {
   "cell_type": "markdown",
   "id": "NKHiOcNht1iZ",
   "metadata": {
    "id": "NKHiOcNht1iZ"
   },
   "source": [
    "### __Python Code Implementation for Kurtosis__\n",
    "\n",
    "https://www.statsmodels.org/dev/generated/statsmodels.stats.stattools.robust_kurtosis.html"
   ]
  },
  {
   "cell_type": "code",
   "execution_count": 17,
   "id": "c88efd2a",
   "metadata": {
    "colab": {
     "base_uri": "https://localhost:8080/"
    },
    "id": "c88efd2a",
    "outputId": "8f4b8b78-c3ce-41f3-d2c0-a7189b0fcd1d"
   },
   "outputs": [
    {
     "data": {
      "text/plain": [
       "(-0.5988228527065362,\n",
       " -0.04888458916942784,\n",
       " -0.5052271228708025,\n",
       " -0.39005747798595314)"
      ]
     },
     "execution_count": 17,
     "metadata": {},
     "output_type": "execute_result"
    }
   ],
   "source": [
    "import numpy as np\n",
    "\n",
    "from statsmodels.stats.stattools import robust_kurtosis\n",
    "\n",
    "x = np.array([2,4,5,7,8,9,11,15])\n",
    "\n",
    "kurtosis  = robust_kurtosis(x)\n",
    "kurtosis"
   ]
  },
  {
   "cell_type": "code",
   "execution_count": 22,
   "id": "ef9a075b-0561-4cf7-97e0-b9ccd80f266d",
   "metadata": {},
   "outputs": [
    {
     "name": "stdout",
     "output_type": "stream",
     "text": [
      "-0.29271198374234686\n"
     ]
    }
   ],
   "source": [
    "# Importing library \n",
    "\n",
    "from scipy.stats import kurtosis \n",
    "\n",
    "# Creating a dataset \n",
    "dataset = [88, 85, 82, 97, 67, 77, 74, 86, \n",
    "\t\t81, 95, 77, 88, 85, 76, 81] \n",
    "\n",
    "\n",
    "# Calculate the kurtosis \n",
    "print(kurtosis(dataset))\n"
   ]
  },
  {
   "cell_type": "markdown",
   "id": "d303ee54",
   "metadata": {
    "id": "d303ee54"
   },
   "source": [
    "## __6. Covariance and Correlation__"
   ]
  },
  {
   "cell_type": "markdown",
   "id": "b7cfb1b0",
   "metadata": {
    "id": "b7cfb1b0"
   },
   "source": [
    "Covariance and correlation measure the relationship and dependency between two variables. While covariance gives\n",
    "the direction of the linear relationship, correlation gives both direction and strength. Therefore, correlation is\n",
    "a function of covariance. Furthermore, correlation values are standardized, while covariance values are not.  "
   ]
  },
  {
   "cell_type": "markdown",
   "id": "02544c9c",
   "metadata": {
    "id": "02544c9c"
   },
   "source": [
    "### __6.1 Covariance__"
   ]
  },
  {
   "attachments": {
    "8256135d-3110-4d34-b855-79f30f620558.png": {
     "image/png": "[encoded data removed]"
    }
   },
   "cell_type": "markdown",
   "id": "54e5c238",
   "metadata": {
    "id": "54e5c238"
   },
   "source": [
    "If E[x] is the expected value or mean of sample x, the covariance of x and y is given by:\n",
    "\n",
    "![image.png](attachment:8256135d-3110-4d34-b855-79f30f620558.png)"
   ]
  },
  {
   "cell_type": "markdown",
   "id": "e5c378f1",
   "metadata": {
    "id": "e5c378f1"
   },
   "source": [
    "![link text](https://labcontent.simplicdn.net/data-content/content-assets/Data_and_AI/ADSP_Images/Lesson_05_Data_Visualization/covariance.png)"
   ]
  },
  {
   "cell_type": "markdown",
   "id": "149acac6",
   "metadata": {
    "id": "149acac6"
   },
   "source": [
    "### __Covariance Formula for Population__"
   ]
  },
  {
   "cell_type": "markdown",
   "id": "526118c7",
   "metadata": {
    "id": "526118c7"
   },
   "source": [
    "![covpopu.PNG](https://s3.us-east-1.amazonaws.com/static2.simplilearn.com/lms/testpaper_images/ADSP/Advanced_Statistics/Probimages/Statistics_Fundamentals/Statistics_Notebookupdated/covpopu.PNG)"
   ]
  },
  {
   "cell_type": "markdown",
   "id": "e7959b7a",
   "metadata": {
    "id": "e7959b7a"
   },
   "source": [
    "### __Covariance Formula for Sample__"
   ]
  },
  {
   "cell_type": "markdown",
   "id": "945a5bb0",
   "metadata": {
    "id": "945a5bb0"
   },
   "source": [
    "![covsample.PNG](https://s3.us-east-1.amazonaws.com/static2.simplilearn.com/lms/testpaper_images/ADSP/Advanced_Statistics/Probimages/Statistics_Fundamentals/Statistics_Notebookupdated/covsample.PNG)"
   ]
  },
  {
   "cell_type": "markdown",
   "id": "22a1e4ca",
   "metadata": {
    "id": "22a1e4ca"
   },
   "source": [
    "Where:\n",
    "\n",
    "$x_i$ is the $i^{th}$ observation in variable x.\n",
    "\n",
    "$\\bar{x}$ is the mean for variable x.\n",
    "\n",
    "$y_i$ is the $i^{th}$ observation in variable y.\n",
    "\n",
    "$\\bar{y}$ is the mean for variable y.\n",
    "\n",
    "N is the number of observations."
   ]
  },
  {
   "cell_type": "markdown",
   "id": "ghAD1tz80JYu",
   "metadata": {
    "id": "ghAD1tz80JYu"
   },
   "source": [
    "### __Python Code Implementation of the Covariance for Two Variables__"
   ]
  },
  {
   "cell_type": "code",
   "execution_count": 1,
   "id": "fad51f43",
   "metadata": {
    "colab": {
     "base_uri": "https://localhost:8080/"
    },
    "id": "fad51f43",
    "outputId": "8cac1211-0638-465b-8a66-67af09f47a7f"
   },
   "outputs": [
    {
     "name": "stdout",
     "output_type": "stream",
     "text": [
      "   x  y\n",
      "0  1  5\n",
      "1  2  4\n",
      "2  3  3\n",
      "3  4  2\n",
      "4  5  1\n"
     ]
    },
    {
     "data": {
      "text/html": [
       "<div>\n",
       "<style scoped>\n",
       "    .dataframe tbody tr th:only-of-type {\n",
       "        vertical-align: middle;\n",
       "    }\n",
       "\n",
       "    .dataframe tbody tr th {\n",
       "        vertical-align: top;\n",
       "    }\n",
       "\n",
       "    .dataframe thead th {\n",
       "        text-align: right;\n",
       "    }\n",
       "</style>\n",
       "<table border=\"1\" class=\"dataframe\">\n",
       "  <thead>\n",
       "    <tr style=\"text-align: right;\">\n",
       "      <th></th>\n",
       "      <th>x</th>\n",
       "      <th>y</th>\n",
       "    </tr>\n",
       "  </thead>\n",
       "  <tbody>\n",
       "    <tr>\n",
       "      <th>x</th>\n",
       "      <td>2.5</td>\n",
       "      <td>-2.5</td>\n",
       "    </tr>\n",
       "    <tr>\n",
       "      <th>y</th>\n",
       "      <td>-2.5</td>\n",
       "      <td>2.5</td>\n",
       "    </tr>\n",
       "  </tbody>\n",
       "</table>\n",
       "</div>"
      ],
      "text/plain": [
       "     x    y\n",
       "x  2.5 -2.5\n",
       "y -2.5  2.5"
      ]
     },
     "execution_count": 1,
     "metadata": {},
     "output_type": "execute_result"
    }
   ],
   "source": [
    "import pandas as pd\n",
    "\n",
    "# Creating a DataFrame with two columns, x and y\n",
    "data = {'x': [1, 2, 3, 4, 5],\n",
    "        'y': [5, 4, 3, 2, 1]}\n",
    "df = pd.DataFrame(data)\n",
    "print(df)\n",
    "\n",
    "# Calculating the covariance between x and y\n",
    "cov_xy = df.cov()\n",
    "cov_xy"
   ]
  },
  {
   "cell_type": "markdown",
   "id": "87b1cbf6",
   "metadata": {
    "id": "87b1cbf6"
   },
   "source": [
    "This negative value indicates that as values in `x` increase, values in `y` tend to decrease, and vice versa."
   ]
  },
  {
   "cell_type": "markdown",
   "id": "37f05e68",
   "metadata": {
    "id": "37f05e68"
   },
   "source": [
    "### __6.2 Correlation__"
   ]
  },
  {
   "attachments": {
    "bdc3db98-8538-48fa-add0-8e3adf4bb8f3.png": {
     "image/png": "[encoded data removed]"
    }
   },
   "cell_type": "markdown",
   "id": "21119ba5",
   "metadata": {
    "id": "21119ba5"
   },
   "source": [
    "The correlation coefficient is often referred to as the Pearson correlation coefficient.  \n",
    "\n",
    "The correlation coefficient between two variables is calculated by dividing their covariance by the product of their individual standard deviations. Since  standard deviation measures the absolute variability (or spread) of a data distribution, this division by the product of the standard deviations normalizes the correlation coefficient, ensuring it falls within the range of -1 to +1.\n",
    "\n",
    "![image.png](attachment:bdc3db98-8538-48fa-add0-8e3adf4bb8f3.png)"
   ]
  },
  {
   "cell_type": "markdown",
   "id": "64317866",
   "metadata": {
    "id": "64317866"
   },
   "source": [
    "#### __Formula for Correlation Coefficient__"
   ]
  },
  {
   "cell_type": "markdown",
   "id": "7e40273b",
   "metadata": {
    "id": "7e40273b"
   },
   "source": [
    "![corelation.PNG](https://s3.us-east-1.amazonaws.com/static2.simplilearn.com/lms/testpaper_images/ADSP/Advanced_Statistics/Probimages/Statistics_Fundamentals/Statistics_Notebookupdated/corelation.PNG)"
   ]
  },
  {
   "cell_type": "markdown",
   "id": "a76bdf78",
   "metadata": {
    "id": "a76bdf78"
   },
   "source": [
    "Where:\n",
    "    \n",
    "$S_x$ and $S_y$ are the standard deviations of x and y, respectively.\n"
   ]
  },
  {
   "cell_type": "markdown",
   "id": "oGs5vYW38Be0",
   "metadata": {
    "id": "oGs5vYW38Be0"
   },
   "source": [
    "### __Python Code Implementation of the Correlation Coefficient for Two Variables__"
   ]
  },
  {
   "cell_type": "code",
   "execution_count": 4,
   "id": "544219fd",
   "metadata": {
    "colab": {
     "base_uri": "https://localhost:8080/"
    },
    "id": "544219fd",
    "outputId": "d4b016a4-a690-4d24-dd93-94c0d3681385"
   },
   "outputs": [
    {
     "name": "stdout",
     "output_type": "stream",
     "text": [
      "   x  y\n",
      "0  1  5\n",
      "1  2  4\n",
      "2  3  3\n",
      "3  4  2\n",
      "4  5  1\n"
     ]
    }
   ],
   "source": [
    "import pandas as pd\n",
    "# Creating a DataFrame with two columns, x and y\n",
    "data = {'x': [1, 2, 3, 4, 5],\n",
    "        'y': [5, 4, 3, 2, 1]}\n",
    "df = pd.DataFrame(data)\n",
    "print(df)\n"
   ]
  },
  {
   "cell_type": "code",
   "execution_count": 8,
   "id": "e4b139ef-ca07-4bc8-bc06-83a48cea2b3d",
   "metadata": {},
   "outputs": [
    {
     "data": {
      "text/html": [
       "<div>\n",
       "<style scoped>\n",
       "    .dataframe tbody tr th:only-of-type {\n",
       "        vertical-align: middle;\n",
       "    }\n",
       "\n",
       "    .dataframe tbody tr th {\n",
       "        vertical-align: top;\n",
       "    }\n",
       "\n",
       "    .dataframe thead th {\n",
       "        text-align: right;\n",
       "    }\n",
       "</style>\n",
       "<table border=\"1\" class=\"dataframe\">\n",
       "  <thead>\n",
       "    <tr style=\"text-align: right;\">\n",
       "      <th></th>\n",
       "      <th>x</th>\n",
       "      <th>y</th>\n",
       "    </tr>\n",
       "  </thead>\n",
       "  <tbody>\n",
       "    <tr>\n",
       "      <th>x</th>\n",
       "      <td>1.0</td>\n",
       "      <td>-1.0</td>\n",
       "    </tr>\n",
       "    <tr>\n",
       "      <th>y</th>\n",
       "      <td>-1.0</td>\n",
       "      <td>1.0</td>\n",
       "    </tr>\n",
       "  </tbody>\n",
       "</table>\n",
       "</div>"
      ],
      "text/plain": [
       "     x    y\n",
       "x  1.0 -1.0\n",
       "y -1.0  1.0"
      ]
     },
     "execution_count": 8,
     "metadata": {},
     "output_type": "execute_result"
    }
   ],
   "source": [
    "# Calculating the correlation between x and y\n",
    "correlation_xy = df.corr()\n",
    "correlation_xy"
   ]
  },
  {
   "cell_type": "markdown",
   "id": "1faf6b6a",
   "metadata": {
    "id": "1faf6b6a"
   },
   "source": [
    "This value indicates a perfect negative linear relationship between `x` and `y`; as `x` increases, `y` decreases by a proportional amount and vice versa."
   ]
  },
  {
   "cell_type": "code",
   "execution_count": 12,
   "id": "5893ca2f-347f-4960-85de-fcb5abb23253",
   "metadata": {},
   "outputs": [
    {
     "data": {
      "text/plain": [
       "<Axes: >"
      ]
     },
     "execution_count": 12,
     "metadata": {},
     "output_type": "execute_result"
    },
    {
     "data": {
      "image/png": "[encoded data removed]",
      "text/plain": [
       "<Figure size 640x480 with 2 Axes>"
      ]
     },
     "metadata": {},
     "output_type": "display_data"
    }
   ],
   "source": [
    "import seaborn as sns\n",
    "\n",
    "sns.heatmap(correlation_xy, annot=True)"
   ]
  },
  {
   "cell_type": "code",
   "execution_count": null,
   "id": "32aa90c0-d0c6-4c41-9f7b-86c5d4589bd4",
   "metadata": {},
   "outputs": [],
   "source": []
  }
 ],
 "metadata": {
  "colab": {
   "provenance": []
  },
  "kernelspec": {
   "display_name": "Python 3",
   "language": "python",
   "name": "python3"
  },
  "language_info": {
   "codemirror_mode": {
    "name": "ipython",
    "version": 3
   },
   "file_extension": ".py",
   "mimetype": "text/x-python",
   "name": "python",
   "nbconvert_exporter": "python",
   "pygments_lexer": "ipython3",
   "version": "3.12.2"
  }
 },
 "nbformat": 4,
 "nbformat_minor": 5
}
