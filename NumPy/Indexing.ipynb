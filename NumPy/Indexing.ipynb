{
 "cells": [
  {
   "cell_type": "markdown",
   "id": "8be173f3-d376-4cd2-aafd-8a03442bf197",
   "metadata": {
    "id": "8be173f3-d376-4cd2-aafd-8a03442bf197"
   },
   "source": [
    "# __Indexing__"
   ]
  },
  {
   "cell_type": "markdown",
   "id": "945c7b02-41f7-4175-aa45-4da0224d383f",
   "metadata": {
    "id": "945c7b02-41f7-4175-aa45-4da0224d383f"
   },
   "source": [
    "## __Agenda__\n",
    "In this lesson, we will cover the following concepts with the help of examples:\n",
    "\n",
    "- NumPy Array Indexing\n",
    "  * Access Elements in the 1D NumPy Array\n",
    "  * Access Elements in the 2D NumPy Array\n",
    "  * Access Elements in 3D NumPy Array\n",
    "  * Negative Indexing"
   ]
  },
  {
   "cell_type": "markdown",
   "id": "fefd7806-d1ee-4b07-abbc-67fd92291038",
   "metadata": {
    "id": "fefd7806-d1ee-4b07-abbc-67fd92291038"
   },
   "source": [
    "## __1. NumPy Array Indexing__ ##\n",
    "NumPy indexing allows you to access an array element using an index value, which begins from 0.\n",
    "\n",
    "![link text](https://labcontent.simplicdn.net/data-content/content-assets/Data_and_AI/ADSP_Images/Lesson_03_NumPy/4_Indexing/Image_1.png)"
   ]
  },
  {
   "cell_type": "code",
   "execution_count": 2,
   "id": "62ac7aec-7869-4cfe-a20f-4e412051d178",
   "metadata": {
    "id": "62ac7aec-7869-4cfe-a20f-4e412051d178"
   },
   "outputs": [],
   "source": [
    "# Let's create 1D, 2D and 3D NumPy arrays:\n",
    "import numpy as np\n",
    "array_1d = np.array([1,2,3,4,5,6])\n",
    "array_2d = np.array([[1,2,3],[4,5,6]])\n",
    "array_3d = np.array([[[1,2,3],[4,5,6]],[[7,8,9],[10,11,12]]])"
   ]
  },
  {
   "cell_type": "markdown",
   "id": "6e8bd253-eda8-4f7d-80eb-d4f7b8b1700d",
   "metadata": {
    "id": "6e8bd253-eda8-4f7d-80eb-d4f7b8b1700d"
   },
   "source": [
    "### __1.1 Access Elements in the 1D NumPy Array__ ###"
   ]
  },
  {
   "cell_type": "code",
   "execution_count": 14,
   "id": "56306db0-bbd3-4d84-b78c-c817f6840721",
   "metadata": {},
   "outputs": [
    {
     "name": "stdout",
     "output_type": "stream",
     "text": [
      "[1 2 3 4 5 6]\n",
      "(6,)\n",
      "6\n"
     ]
    }
   ],
   "source": [
    "print(array_1d)\n",
    "print(array_1d.shape)\n",
    "print(array_1d[-1])"
   ]
  },
  {
   "cell_type": "code",
   "execution_count": 8,
   "id": "718321d1-a537-4cd8-a336-95763e6ea778",
   "metadata": {},
   "outputs": [
    {
     "name": "stdout",
     "output_type": "stream",
     "text": [
      "[[1 2 3]\n",
      " [4 5 6]]\n",
      "(2, 3)\n"
     ]
    }
   ],
   "source": [
    "print(array_2d)\n",
    "print(array_2d.shape)"
   ]
  },
  {
   "cell_type": "code",
   "execution_count": 10,
   "id": "6511e344-491f-4547-bf2b-b5327c075157",
   "metadata": {},
   "outputs": [
    {
     "name": "stdout",
     "output_type": "stream",
     "text": [
      "[[[ 1  2  3]\n",
      "  [ 4  5  6]]\n",
      "\n",
      " [[ 7  8  9]\n",
      "  [10 11 12]]]\n",
      "(2, 2, 3)\n"
     ]
    }
   ],
   "source": [
    "print(array_3d)\n",
    "print(array_3d.shape)"
   ]
  },
  {
   "cell_type": "code",
   "execution_count": 13,
   "id": "a84248e0-fb87-48bd-8ae7-2a076fc07a76",
   "metadata": {},
   "outputs": [
    {
     "name": "stdout",
     "output_type": "stream",
     "text": [
      "11\n"
     ]
    }
   ],
   "source": [
    "print(array_3d[1,1,1])"
   ]
  },
  {
   "cell_type": "code",
   "execution_count": 16,
   "id": "970a318e-7e2f-42e1-9a41-1cf30e032212",
   "metadata": {
    "id": "970a318e-7e2f-42e1-9a41-1cf30e032212",
    "outputId": "f50e2896-d6c6-4650-a5d1-45d55f7ff4d3"
   },
   "outputs": [
    {
     "name": "stdout",
     "output_type": "stream",
     "text": [
      "[1 2 3 4 5 6]\n",
      "4\n"
     ]
    }
   ],
   "source": [
    "print(array_1d)\n",
    "# Print the value of index 3\n",
    "print(array_1d[3])"
   ]
  },
  {
   "cell_type": "code",
   "execution_count": 15,
   "id": "6c58b0e6-00f9-4873-9a54-9161ee262d03",
   "metadata": {
    "id": "6c58b0e6-00f9-4873-9a54-9161ee262d03",
    "outputId": "935320a4-8a3f-4753-95c9-ca5c25d82761"
   },
   "outputs": [
    {
     "name": "stdout",
     "output_type": "stream",
     "text": [
      "3\n"
     ]
    }
   ],
   "source": [
    "# Print the addition of indexes 0 and 1\n",
    "print(array_1d[1] + array_1d[0])"
   ]
  },
  {
   "cell_type": "markdown",
   "id": "d97f78b9-6e30-4410-96e2-cd2ff306cfb2",
   "metadata": {
    "id": "d97f78b9-6e30-4410-96e2-cd2ff306cfb2"
   },
   "source": [
    "### __1.2 Access Elements in the 2D NumPy Array__\n",
    "Consider a 2D array as a table, with dimensions as rows and indexes as columns.\n",
    "\n",
    "![link text](https://labcontent.simplicdn.net/data-content/content-assets/Data_and_AI/ADSP_Images/Lesson_03_NumPy/4_Indexing/Image_2.png)"
   ]
  },
  {
   "cell_type": "code",
   "execution_count": 18,
   "id": "0c2c6e40-39df-4aeb-8f8c-31b4d0c477d9",
   "metadata": {
    "id": "0c2c6e40-39df-4aeb-8f8c-31b4d0c477d9",
    "outputId": "70aad54a-fe53-4075-da5b-60296f40f017"
   },
   "outputs": [
    {
     "name": "stdout",
     "output_type": "stream",
     "text": [
      "[[1 2 3]\n",
      " [4 5 6]]\n",
      "3rd element on 1st row:  3\n"
     ]
    }
   ],
   "source": [
    "print(array_2d)\n",
    "# Print third element of the first row of a 2D array\n",
    "print('3rd element on 1st row: ', array_2d[0, 2])"
   ]
  },
  {
   "cell_type": "code",
   "execution_count": 3,
   "id": "015831f4-bab7-4e6b-855b-5e430300526c",
   "metadata": {},
   "outputs": [
    {
     "name": "stdout",
     "output_type": "stream",
     "text": [
      "[[1 2 3]\n",
      " [4 5 6]]\n"
     ]
    }
   ],
   "source": [
    "import numpy as np\n",
    "array_2d = np.array([[1,2,3],[4,5,6]])\n",
    "print(array_2d)"
   ]
  },
  {
   "cell_type": "code",
   "execution_count": 20,
   "id": "944b59fc-7094-461c-9062-0780e42f4bed",
   "metadata": {
    "id": "944b59fc-7094-461c-9062-0780e42f4bed",
    "outputId": "fefc1efd-6fc9-456e-ff92-df6379953212"
   },
   "outputs": [
    {
     "name": "stdout",
     "output_type": "stream",
     "text": [
      "2nd element on 2nd row:  5\n"
     ]
    }
   ],
   "source": [
    "# Print second element of the second row of a 2D array\n",
    "print('2nd element on 2nd row: ', array_2d[1, 1])"
   ]
  },
  {
   "cell_type": "markdown",
   "id": "998878bd-d720-4378-ae52-0918e9d4b397",
   "metadata": {
    "id": "998878bd-d720-4378-ae52-0918e9d4b397"
   },
   "source": [
    "### __1.3 Access Elements in 3D NumPy Array__ ###\n",
    "- [x,y,z] corresponds to xth element, yth row, and zth column."
   ]
  },
  {
   "cell_type": "code",
   "execution_count": 7,
   "id": "52de369c-75d3-46b4-8f01-1c83d07ff6cd",
   "metadata": {
    "id": "52de369c-75d3-46b4-8f01-1c83d07ff6cd",
    "outputId": "8c970d65-1163-4a88-9f50-000fa2d84a52"
   },
   "outputs": [
    {
     "name": "stdout",
     "output_type": "stream",
     "text": [
      "[[[ 1  2  3]\n",
      "  [ 4  5  6]]\n",
      "\n",
      " [[ 7  8  9]\n",
      "  [10 11 12]]]\n",
      "10\n"
     ]
    }
   ],
   "source": [
    "array_3d = np.array([[[1,2,3],[4,5,6]],[[7,8,9],[10,11,12]]])\n",
    "print(array_3d)\n",
    "# Print the first element of the second array\n",
    "print(array_3d[1, 1, 0])"
   ]
  },
  {
   "cell_type": "markdown",
   "id": "720ef2b2-d7e3-4a45-850c-90d0be17d357",
   "metadata": {
    "id": "720ef2b2-d7e3-4a45-850c-90d0be17d357"
   },
   "source": [
    "### __1.4 Negative Indexing__\n",
    "\n",
    "- Negative indices are counted from the end of an array.\n",
    "- In a negative indexing system, the last element will be the first element with an index of -1, the second last element with an index of -2, and so on."
   ]
  },
  {
   "cell_type": "code",
   "execution_count": 11,
   "id": "4a0cb40d-c09a-485c-bb02-12cd74859973",
   "metadata": {
    "id": "4a0cb40d-c09a-485c-bb02-12cd74859973",
    "outputId": "f17a7b16-b418-4890-a56b-142217d21a13"
   },
   "outputs": [
    {
     "name": "stdout",
     "output_type": "stream",
     "text": [
      "4\n"
     ]
    }
   ],
   "source": [
    " # Print the fourth element of the 1D array using negative indexing\n",
    "array_1d = np.array([1,2,3,4,5,6])\n",
    "print(array_1d[-3])"
   ]
  },
  {
   "cell_type": "code",
   "execution_count": 20,
   "id": "145c1d5f-8875-4335-9ce1-98f22bb50a30",
   "metadata": {
    "id": "145c1d5f-8875-4335-9ce1-98f22bb50a30",
    "outputId": "0d111ef4-31d2-4d39-9fbd-15810c2c0ccf"
   },
   "outputs": [
    {
     "name": "stdout",
     "output_type": "stream",
     "text": [
      "[[1 2 3]\n",
      " [4 5 6]]\n",
      "6\n"
     ]
    }
   ],
   "source": [
    "print(array_2d)\n",
    "# Print the last element of the 2D array using negative indexing\n",
    "print(array_2d[1,-1])"
   ]
  },
  {
   "cell_type": "code",
   "execution_count": 15,
   "id": "7f80dcaa-28a6-4c49-97fb-c7b10e21e69f",
   "metadata": {
    "id": "7f80dcaa-28a6-4c49-97fb-c7b10e21e69f",
    "outputId": "315f3efe-1fcd-4175-f3ed-cd868521fc1c"
   },
   "outputs": [
    {
     "name": "stdout",
     "output_type": "stream",
     "text": [
      "[[[ 1  2  3]\n",
      "  [ 4  5  6]]\n",
      "\n",
      " [[ 7  8  9]\n",
      "  [10 11 12]]]\n",
      "12\n"
     ]
    }
   ],
   "source": [
    "# Print the last element of the 3D array using negative indexing\n",
    "print(array_3d)\n",
    "print(array_3d[1,1,-1])"
   ]
  },
  {
   "cell_type": "markdown",
   "id": "0862a3aa-8b30-4e99-bf04-c1555516da51",
   "metadata": {
    "id": "0862a3aa-8b30-4e99-bf04-c1555516da51"
   },
   "source": [
    "## __Assisted Practice__"
   ]
  },
  {
   "cell_type": "markdown",
   "id": "3240eb9f-7c9c-4df4-8955-d91a002899d6",
   "metadata": {
    "id": "3240eb9f-7c9c-4df4-8955-d91a002899d6"
   },
   "source": [
    "### __Problem Statement:__\n",
    "\n",
    "1. Create a 1D NumPy array with at least 10 elements\n",
    "2. Create a 2D NumPy array with a minimum of 3 rows and 4 columns\n",
    "3. Create a 3D NumPy array with at least 2 matrices, each containing 2 rows and 3 columns\n",
    "   \n",
    "Accessing Elements in Arrays\n",
    "\n",
    "5. Access and print various elements from 1D, 2D, and, 3D using positive indexing\n",
    "6. Access and print elements using negative indices in all three arrays\n",
    "7. Perform and print some basic arithmetic operations (like addition, subtraction) using elements accessed from 1D, 2D, and, 3D arrays\n"
   ]
  },
  {
   "cell_type": "code",
   "execution_count": 19,
   "id": "d040ce10-ef60-4c2a-af7b-6e3fca329a5e",
   "metadata": {
    "id": "d040ce10-ef60-4c2a-af7b-6e3fca329a5e"
   },
   "outputs": [
    {
     "data": {
      "text/plain": [
       "array([ 1, 11, 21, 31, 41, 51, 61, 71, 81, 91])"
      ]
     },
     "execution_count": 19,
     "metadata": {},
     "output_type": "execute_result"
    }
   ],
   "source": [
    "a = np.arange(1,100,10)\n",
    "a"
   ]
  },
  {
   "cell_type": "code",
   "execution_count": 21,
   "id": "22171c28-b63d-4ff2-800e-6dc559e9faaa",
   "metadata": {},
   "outputs": [
    {
     "name": "stdout",
     "output_type": "stream",
     "text": [
      "[[ 1  2  3  4]\n",
      " [ 5  6  7  8]\n",
      " [ 9 10 11 12]]\n"
     ]
    }
   ],
   "source": [
    "array_2d = np.array([[1, 2, 3, 4], [5, 6, 7, 8], [9, 10, 11, 12]]) \n",
    "print(array_2d)"
   ]
  },
  {
   "cell_type": "code",
   "execution_count": 25,
   "id": "b2ac41fb-1c46-42c6-9985-64ed8a11726f",
   "metadata": {},
   "outputs": [
    {
     "data": {
      "text/plain": [
       "array([[0.59146898, 0.45103656, 0.49584406, 0.65791624],\n",
       "       [0.41584366, 0.25244528, 0.15717719, 0.75455227],\n",
       "       [0.12568803, 0.33360143, 0.52306225, 0.341474  ]])"
      ]
     },
     "execution_count": 25,
     "metadata": {},
     "output_type": "execute_result"
    }
   ],
   "source": [
    "import numpy as np\n",
    "a=np.random.rand(3,4)\n",
    "a"
   ]
  },
  {
   "cell_type": "code",
   "execution_count": 29,
   "id": "a50a2a2d-e828-4eae-85e7-e79cff2c019e",
   "metadata": {},
   "outputs": [
    {
     "data": {
      "text/plain": [
       "array([[0., 0., 0., 0.],\n",
       "       [0., 0., 0., 0.],\n",
       "       [0., 0., 0., 0.]])"
      ]
     },
     "execution_count": 29,
     "metadata": {},
     "output_type": "execute_result"
    }
   ],
   "source": [
    "arr=np.zeros([3,4])\n",
    "arr"
   ]
  },
  {
   "cell_type": "code",
   "execution_count": 33,
   "id": "61b9e2e2-5d15-400d-ad7e-26ca3e10c39d",
   "metadata": {},
   "outputs": [
    {
     "data": {
      "text/plain": [
       "array([[1., 1., 1., 1.],\n",
       "       [1., 1., 1., 1.],\n",
       "       [1., 1., 1., 1.]])"
      ]
     },
     "execution_count": 33,
     "metadata": {},
     "output_type": "execute_result"
    }
   ],
   "source": [
    "arr=np.ones([3,4])\n",
    "arr"
   ]
  },
  {
   "cell_type": "code",
   "execution_count": 35,
   "id": "28164402-363e-408d-a85a-5cd517b3154c",
   "metadata": {},
   "outputs": [
    {
     "name": "stdout",
     "output_type": "stream",
     "text": [
      "[[[ 0  1  2]\n",
      "  [ 3  4  5]]\n",
      "\n",
      " [[ 6  7  8]\n",
      "  [ 9 10 11]]]\n"
     ]
    }
   ],
   "source": [
    "b = np.arange(12)\n",
    "c= b.reshape(2,2,3)\n",
    "print(c)"
   ]
  },
  {
   "cell_type": "code",
   "execution_count": 37,
   "id": "5e5f94a1-dc0a-454f-a209-ed81e974663f",
   "metadata": {},
   "outputs": [
    {
     "data": {
      "text/plain": [
       "10"
      ]
     },
     "execution_count": 37,
     "metadata": {},
     "output_type": "execute_result"
    }
   ],
   "source": [
    "c[1,1,1]"
   ]
  },
  {
   "cell_type": "code",
   "execution_count": 39,
   "id": "4b42f034-10f5-4736-9983-2c648edf45c1",
   "metadata": {},
   "outputs": [
    {
     "data": {
      "text/plain": [
       "11"
      ]
     },
     "execution_count": 39,
     "metadata": {},
     "output_type": "execute_result"
    }
   ],
   "source": [
    "c[-1,-1,-1]"
   ]
  },
  {
   "cell_type": "code",
   "execution_count": 47,
   "id": "6688aca0-37bf-4154-b3c1-a36554ae5747",
   "metadata": {},
   "outputs": [
    {
     "name": "stdout",
     "output_type": "stream",
     "text": [
      "[[ 1  2  3  4]\n",
      " [ 5  6  7  8]\n",
      " [ 9 10 11 12]]\n",
      "11 11\n",
      "22\n"
     ]
    }
   ],
   "source": [
    "b = np.array([[1, 2, 3, 4], [5, 6, 7, 8], [9, 10, 11, 12]]) \n",
    "print(b)\n",
    "print(b[2,2],c[1,1,2])\n",
    "sum = np.add(b[2,2],c[1,1,2])\n",
    "print (sum)"
   ]
  },
  {
   "cell_type": "code",
   "execution_count": 65,
   "id": "146e8ee4-ac76-46f5-bf75-d2a7aa2cf5e6",
   "metadata": {},
   "outputs": [
    {
     "name": "stdout",
     "output_type": "stream",
     "text": [
      "[[1 2 1 4]\n",
      " [1 2 2 3]]\n",
      "[[1 3 1 1]\n",
      " [1 1 1 1]]\n",
      "[[1.         1.5        1.         0.25      ]\n",
      " [1.         0.5        0.5        0.33333333]]\n"
     ]
    }
   ],
   "source": [
    "a = np.array([[1,2,1,4],[1,2,2,3]])\n",
    "print(a)\n",
    "b = np.array([[1,3,1,1], [1,1,1,1]])\n",
    "print(b)\n",
    "\n",
    "result = np.divide (b,a)\n",
    "print(result)"
   ]
  },
  {
   "cell_type": "code",
   "execution_count": null,
   "id": "3097d0a1-3c4a-47f5-96a8-7e806f13f03f",
   "metadata": {},
   "outputs": [],
   "source": []
  }
 ],
 "metadata": {
  "colab": {
   "provenance": []
  },
  "kernelspec": {
   "display_name": "Python 3 (ipykernel)",
   "language": "python",
   "name": "python3"
  },
  "language_info": {
   "codemirror_mode": {
    "name": "ipython",
    "version": 3
   },
   "file_extension": ".py",
   "mimetype": "text/x-python",
   "name": "python",
   "nbconvert_exporter": "python",
   "pygments_lexer": "ipython3",
   "version": "3.12.7"
  }
 },
 "nbformat": 4,
 "nbformat_minor": 5
}
