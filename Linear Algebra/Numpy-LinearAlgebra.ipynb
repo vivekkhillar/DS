{
 "cells": [
  {
   "cell_type": "markdown",
   "id": "772f1dd5-98cf-4fd6-a5a1-e3759eb60869",
   "metadata": {},
   "source": [
    "## Linear Algebra\n",
    "\n",
    "https://numpy.org/doc/2.1/reference/routines.linalg.html"
   ]
  },
  {
   "cell_type": "code",
   "execution_count": 2,
   "id": "3f9d9545-dfda-4b92-ae2e-5d247e72597f",
   "metadata": {},
   "outputs": [
    {
     "name": "stdout",
     "output_type": "stream",
     "text": [
      "[[1 2]\n",
      " [3 4]] 2 (2, 2)\n",
      "[[11 12]\n",
      " [13 14]]\n",
      "130\n"
     ]
    }
   ],
   "source": [
    "import numpy as np \n",
    "a = np.array([[1,2],[3,4]]) \n",
    "b = np.array([[11,12],[13,14]])\n",
    "print(a,a.ndim, a.shape)\n",
    "print(b)\n",
    "print (np.vdot(a,b))\n",
    "\n",
    "#Note − 1*11 + 2*12 + 3*13 + 4*14 = 130\n",
    "\n"
   ]
  },
  {
   "cell_type": "code",
   "execution_count": 3,
   "id": "58329c22-f27b-434b-8f86-d3c04d3d12d1",
   "metadata": {},
   "outputs": [
    {
     "name": "stdout",
     "output_type": "stream",
     "text": [
      "[[37 40]\n",
      " [85 92]]\n"
     ]
    }
   ],
   "source": [
    "print(np.dot(a,b))  \n"
   ]
  },
  {
   "cell_type": "code",
   "execution_count": 5,
   "id": "8b05c4b9-f4e3-4f2a-8071-870f925e92b7",
   "metadata": {},
   "outputs": [
    {
     "name": "stdout",
     "output_type": "stream",
     "text": [
      "[[37 40]\n",
      " [85 92]]\n"
     ]
    }
   ],
   "source": [
    "print(np.matmul(a,b))"
   ]
  },
  {
   "cell_type": "code",
   "execution_count": 6,
   "id": "f946e967-911c-407e-ad37-ca5e849ff125",
   "metadata": {},
   "outputs": [],
   "source": [
    "import numpy as np  \n",
    "a = np.array([1,2,3])  \n",
    "b = np.array([7,8,9])  "
   ]
  },
  {
   "cell_type": "code",
   "execution_count": null,
   "id": "090f58e0-09d4-4b8f-ba78-0536ed0cee14",
   "metadata": {},
   "outputs": [
    {
     "name": "stdout",
     "output_type": "stream",
     "text": [
      "[1 2 3]\n",
      "[7 8 9]\n",
      "50\n"
     ]
    }
   ],
   "source": [
    "#inner function\n",
    "print(a)\n",
    "print(b)\n",
    "i=np.inner(a,b) # inner product of vectors a and b \n",
    "print(i) "
   ]
  },
  {
   "attachments": {
    "35e811a3-d583-4de4-a568-7da6656d6ccc.png": {
     "image/png": "[encoded data removed]"
    }
   },
   "cell_type": "markdown",
   "id": "123a9e91-ae22-4cd3-b22d-1cdedc0269c9",
   "metadata": {},
   "source": [
    "![image.png](attachment:35e811a3-d583-4de4-a568-7da6656d6ccc.png)"
   ]
  },
  {
   "cell_type": "code",
   "execution_count": 9,
   "id": "0165c71e-2350-49dd-b914-3906050cd596",
   "metadata": {},
   "outputs": [
    {
     "name": "stdout",
     "output_type": "stream",
     "text": [
      "[[1 2 3 4]\n",
      " [0 0 0 0]\n",
      " [0 0 0 0]\n",
      " [1 2 3 4]]\n"
     ]
    }
   ],
   "source": [
    "p=[[1,0],[0,1]]\n",
    "q=[[1,2],[3,4]]\n",
    "#outer function\n",
    "o= np.outer(p,q)  \n",
    "print(o)    "
   ]
  },
  {
   "cell_type": "code",
   "execution_count": null,
   "id": "5125928f-885f-4f17-b352-63dede0141ca",
   "metadata": {},
   "outputs": [
    {
     "name": "stdout",
     "output_type": "stream",
     "text": [
      "122\n"
     ]
    }
   ],
   "source": [
    "import numpy as np  \n",
    "a = np.array([4,5,6])  \n",
    "b = np.array([7,8,9])  \n",
    "#matrix multiplication function\n",
    "i=np.matmul(a,b)\n",
    "print(i) "
   ]
  },
  {
   "cell_type": "code",
   "execution_count": null,
   "id": "cb576908-7be1-46c5-af29-e479aeb2607c",
   "metadata": {},
   "outputs": [],
   "source": []
  },
  {
   "cell_type": "code",
   "execution_count": 12,
   "id": "a1405f6f-13a9-42dc-9a45-aaf81cfc7940",
   "metadata": {},
   "outputs": [
    {
     "name": "stdout",
     "output_type": "stream",
     "text": [
      "2.0\n"
     ]
    }
   ],
   "source": [
    "import numpy as np  \n",
    "a = np.array(([4,5],[2,3])) \n",
    "#determinant function\n",
    "m=(np.linalg.det(a)) # determinant of matrix a is calculated by using linalg.det() function where a is a matrix\n",
    "#determinant of a matrix is a scalar value that is calculated from the elements of a square matrix\n",
    "print(m)"
   ]
  },
  {
   "cell_type": "code",
   "execution_count": 13,
   "id": "fb5236f1-aed2-4428-9778-b2c2e376db6f",
   "metadata": {},
   "outputs": [
    {
     "name": "stdout",
     "output_type": "stream",
     "text": [
      "[[ -9. -10.]\n",
      " [  8.   9.]]\n"
     ]
    }
   ],
   "source": [
    "import numpy as np  \n",
    "a = np.array([[7,8],[5,6]])  \n",
    "b = np.array([[1,2],[3,4]])  \n",
    "#solve function\n",
    "s=np.linalg.solve(a, b)\n",
    "print(s)"
   ]
  },
  {
   "cell_type": "markdown",
   "id": "4c6bd72d-4cdc-4ea8-a0d5-701d3e8dc4b7",
   "metadata": {},
   "source": [
    "## Inverse of a Matrix"
   ]
  },
  {
   "cell_type": "code",
   "execution_count": 14,
   "id": "8824c9a9-1da5-4250-9f23-85dfa28168ad",
   "metadata": {},
   "outputs": [
    {
     "name": "stdout",
     "output_type": "stream",
     "text": [
      "[[ 3.  -4. ]\n",
      " [-2.5  3.5]]\n"
     ]
    }
   ],
   "source": [
    "import numpy as np  \n",
    "a = np.array([[7,8],[5,6]])  \n",
    " #inverse function\n",
    "inver=np.linalg.inv(a)\n",
    "print(inver)"
   ]
  },
  {
   "cell_type": "markdown",
   "id": "de50d440-413f-4c6c-9e41-022973145373",
   "metadata": {},
   "source": [
    "## Trace of a Matrix"
   ]
  },
  {
   "cell_type": "code",
   "execution_count": 15,
   "id": "bbceff3d-bfe8-453a-813a-17624ca4989d",
   "metadata": {},
   "outputs": [
    {
     "name": "stdout",
     "output_type": "stream",
     "text": [
      "5\n"
     ]
    }
   ],
   "source": [
    "import numpy as np  \n",
    "a = np.array([[1,2],[3,4]])  \n",
    "print(np.trace(a))"
   ]
  },
  {
   "cell_type": "markdown",
   "id": "d49ab618-975b-4f28-b1ba-69202c262202",
   "metadata": {},
   "source": [
    "## Rank of a Matrix"
   ]
  },
  {
   "cell_type": "code",
   "execution_count": 92,
   "id": "6f2b55a6-06f8-497a-a643-de611ec612d9",
   "metadata": {},
   "outputs": [
    {
     "name": "stdout",
     "output_type": "stream",
     "text": [
      "2\n"
     ]
    }
   ],
   "source": [
    "import numpy as np  \n",
    "a = np.array([[1,2],[3,4]])  \n",
    "print(np.linalg.matrix_rank(a)) "
   ]
  },
  {
   "cell_type": "markdown",
   "id": "d5472936-4df1-43b6-b995-7bae61b00c15",
   "metadata": {},
   "source": [
    "## Eigen Values and Vectors"
   ]
  },
  {
   "cell_type": "code",
   "execution_count": 16,
   "id": "95de736e-f655-4e09-a024-724e6f115dcc",
   "metadata": {},
   "outputs": [],
   "source": [
    "import numpy as np\n",
    "from numpy.linalg import eig"
   ]
  },
  {
   "cell_type": "code",
   "execution_count": 17,
   "id": "1ab20272-d418-4f09-818a-f9a86dfcbacd",
   "metadata": {},
   "outputs": [
    {
     "name": "stdout",
     "output_type": "stream",
     "text": [
      "E-value: [-1.  4.]\n",
      "E-vector [[-0.89442719 -0.4472136 ]\n",
      " [ 0.4472136  -0.89442719]]\n"
     ]
    }
   ],
   "source": [
    "a = np.array([[0, 2], \n",
    "              [2, 3]])\n",
    "w,v=eig(a)\n",
    "print('E-value:', w)\n",
    "print('E-vector', v)"
   ]
  },
  {
   "cell_type": "code",
   "execution_count": 18,
   "id": "8adc98fa-d8e6-44ab-9a18-b0d2faedee73",
   "metadata": {},
   "outputs": [
    {
     "name": "stdout",
     "output_type": "stream",
     "text": [
      "[[ 1  2  3]\n",
      " [ 3  2 -1]\n",
      " [ 4  0 -4]]\n"
     ]
    }
   ],
   "source": [
    "import numpy as np\n",
    "A = np.array([[1,2,3],[3,2,-1],[4,0,-4]])\n",
    "#function to calculate eigenvalues and vector\n",
    "print(A)\n"
   ]
  },
  {
   "cell_type": "code",
   "execution_count": 19,
   "id": "e98d521c-d925-4feb-98be-9ba143a555ae",
   "metadata": {},
   "outputs": [
    {
     "name": "stdout",
     "output_type": "stream",
     "text": [
      "[-6.05798024  4.4666812   0.59129904]\n"
     ]
    }
   ],
   "source": [
    "val, vect = np.linalg.eig(A)\n",
    "print(val)\n"
   ]
  },
  {
   "cell_type": "code",
   "execution_count": 98,
   "id": "80c0aeb2-c88f-4b9f-9366-d4b0fc1c7dfe",
   "metadata": {},
   "outputs": [
    {
     "name": "stdout",
     "output_type": "stream",
     "text": [
      "[[ 0.44047381 -0.66326042  0.49735565]\n",
      " [-0.27023519 -0.67962995 -0.75158903]\n",
      " [-0.85612836 -0.31335084  0.43330277]]\n"
     ]
    }
   ],
   "source": [
    "print(vect)"
   ]
  },
  {
   "cell_type": "markdown",
   "id": "535a7164-39ad-4cdd-94cb-d2c41a23f751",
   "metadata": {},
   "source": [
    "## Calculus"
   ]
  },
  {
   "cell_type": "code",
   "execution_count": 20,
   "id": "a38f6dcf-5ba0-4cd4-aacc-d1916344e96a",
   "metadata": {},
   "outputs": [
    {
     "name": "stdout",
     "output_type": "stream",
     "text": [
      "Defaulting to user installation because normal site-packages is not writeable\n",
      "Collecting sympy\n",
      "  Downloading sympy-1.13.3-py3-none-any.whl.metadata (12 kB)\n",
      "Collecting mpmath<1.4,>=1.1.0 (from sympy)\n",
      "  Downloading mpmath-1.3.0-py3-none-any.whl.metadata (8.6 kB)\n",
      "Downloading sympy-1.13.3-py3-none-any.whl (6.2 MB)\n",
      "   ---------------------------------------- 0.0/6.2 MB ? eta -:--:--\n",
      "   ---------------------------------------- 0.0/6.2 MB ? eta -:--:--\n",
      "   ---------------------------------------- 0.0/6.2 MB ? eta -:--:--\n",
      "   ---------------------------------------- 0.0/6.2 MB 162.5 kB/s eta 0:00:38\n",
      "   ---------------------------------------- 0.0/6.2 MB 162.5 kB/s eta 0:00:38\n",
      "   ---------------------------------------- 0.0/6.2 MB 130.4 kB/s eta 0:00:48\n",
      "   ---------------------------------------- 0.0/6.2 MB 130.4 kB/s eta 0:00:48\n",
      "   ---------------------------------------- 0.0/6.2 MB 130.4 kB/s eta 0:00:48\n",
      "   ---------------------------------------- 0.1/6.2 MB 192.5 kB/s eta 0:00:32\n",
      "   ---------------------------------------- 0.1/6.2 MB 192.5 kB/s eta 0:00:32\n",
      "   ---------------------------------------- 0.1/6.2 MB 192.5 kB/s eta 0:00:32\n",
      "   ---------------------------------------- 0.1/6.2 MB 192.5 kB/s eta 0:00:32\n",
      "   ---------------------------------------- 0.1/6.2 MB 192.5 kB/s eta 0:00:32\n",
      "    --------------------------------------- 0.1/6.2 MB 157.9 kB/s eta 0:00:39\n",
      "    --------------------------------------- 0.1/6.2 MB 157.9 kB/s eta 0:00:39\n",
      "    --------------------------------------- 0.1/6.2 MB 157.9 kB/s eta 0:00:39\n",
      "    --------------------------------------- 0.1/6.2 MB 157.9 kB/s eta 0:00:39\n",
      "    --------------------------------------- 0.1/6.2 MB 157.9 kB/s eta 0:00:39\n",
      "    --------------------------------------- 0.1/6.2 MB 198.1 kB/s eta 0:00:31\n",
      "    --------------------------------------- 0.1/6.2 MB 198.1 kB/s eta 0:00:31\n",
      "   - -------------------------------------- 0.2/6.2 MB 209.5 kB/s eta 0:00:29\n",
      "   - -------------------------------------- 0.2/6.2 MB 209.5 kB/s eta 0:00:29\n",
      "   - -------------------------------------- 0.2/6.2 MB 209.5 kB/s eta 0:00:29\n",
      "   - -------------------------------------- 0.2/6.2 MB 209.5 kB/s eta 0:00:29\n",
      "   - -------------------------------------- 0.2/6.2 MB 209.5 kB/s eta 0:00:29\n",
      "   - -------------------------------------- 0.2/6.2 MB 211.7 kB/s eta 0:00:29\n",
      "   - -------------------------------------- 0.2/6.2 MB 231.8 kB/s eta 0:00:26\n",
      "   - -------------------------------------- 0.3/6.2 MB 227.8 kB/s eta 0:00:27\n",
      "   - -------------------------------------- 0.3/6.2 MB 227.8 kB/s eta 0:00:27\n",
      "   - -------------------------------------- 0.3/6.2 MB 227.2 kB/s eta 0:00:27\n",
      "   - -------------------------------------- 0.3/6.2 MB 250.0 kB/s eta 0:00:24\n",
      "   - -------------------------------------- 0.3/6.2 MB 250.0 kB/s eta 0:00:24\n",
      "   - -------------------------------------- 0.3/6.2 MB 250.0 kB/s eta 0:00:24\n",
      "   -- ------------------------------------- 0.3/6.2 MB 249.6 kB/s eta 0:00:24\n",
      "   -- ------------------------------------- 0.3/6.2 MB 249.6 kB/s eta 0:00:24\n",
      "   -- ------------------------------------- 0.4/6.2 MB 283.8 kB/s eta 0:00:21\n",
      "   -- ------------------------------------- 0.4/6.2 MB 283.8 kB/s eta 0:00:21\n",
      "   -- ------------------------------------- 0.4/6.2 MB 286.7 kB/s eta 0:00:21\n",
      "   -- ------------------------------------- 0.4/6.2 MB 286.7 kB/s eta 0:00:21\n",
      "   -- ------------------------------------- 0.5/6.2 MB 276.2 kB/s eta 0:00:21\n",
      "   --- ------------------------------------ 0.5/6.2 MB 296.2 kB/s eta 0:00:20\n",
      "   --- ------------------------------------ 0.5/6.2 MB 296.2 kB/s eta 0:00:20\n",
      "   --- ------------------------------------ 0.6/6.2 MB 327.6 kB/s eta 0:00:18\n",
      "   --- ------------------------------------ 0.6/6.2 MB 327.7 kB/s eta 0:00:18\n",
      "   --- ------------------------------------ 0.6/6.2 MB 333.2 kB/s eta 0:00:17\n",
      "   --- ------------------------------------ 0.6/6.2 MB 333.2 kB/s eta 0:00:17\n",
      "   ---- ----------------------------------- 0.7/6.2 MB 343.7 kB/s eta 0:00:17\n",
      "   ---- ----------------------------------- 0.7/6.2 MB 351.6 kB/s eta 0:00:16\n",
      "   ---- ----------------------------------- 0.7/6.2 MB 351.6 kB/s eta 0:00:16\n",
      "   ---- ----------------------------------- 0.7/6.2 MB 347.7 kB/s eta 0:00:16\n",
      "   ---- ----------------------------------- 0.7/6.2 MB 355.2 kB/s eta 0:00:16\n",
      "   ---- ----------------------------------- 0.8/6.2 MB 359.1 kB/s eta 0:00:16\n",
      "   ----- ---------------------------------- 0.8/6.2 MB 382.6 kB/s eta 0:00:15\n",
      "   ----- ---------------------------------- 0.8/6.2 MB 381.0 kB/s eta 0:00:15\n",
      "   ----- ---------------------------------- 0.8/6.2 MB 381.0 kB/s eta 0:00:15\n",
      "   ----- ---------------------------------- 0.8/6.2 MB 381.0 kB/s eta 0:00:15\n",
      "   ----- ---------------------------------- 0.9/6.2 MB 385.2 kB/s eta 0:00:14\n",
      "   ----- ---------------------------------- 0.9/6.2 MB 385.2 kB/s eta 0:00:14\n",
      "   ----- ---------------------------------- 0.9/6.2 MB 385.2 kB/s eta 0:00:14\n",
      "   ------ --------------------------------- 0.9/6.2 MB 378.0 kB/s eta 0:00:14\n",
      "   ------ --------------------------------- 1.0/6.2 MB 391.5 kB/s eta 0:00:14\n",
      "   ------ --------------------------------- 1.0/6.2 MB 391.5 kB/s eta 0:00:14\n",
      "   ------ --------------------------------- 1.0/6.2 MB 391.5 kB/s eta 0:00:14\n",
      "   ------ --------------------------------- 1.1/6.2 MB 401.8 kB/s eta 0:00:13\n",
      "   ------ --------------------------------- 1.1/6.2 MB 401.8 kB/s eta 0:00:13\n",
      "   ------ --------------------------------- 1.1/6.2 MB 401.8 kB/s eta 0:00:13\n",
      "   ------ --------------------------------- 1.1/6.2 MB 401.8 kB/s eta 0:00:13\n",
      "   ------- -------------------------------- 1.1/6.2 MB 387.3 kB/s eta 0:00:14\n",
      "   ------- -------------------------------- 1.2/6.2 MB 418.9 kB/s eta 0:00:12\n",
      "   ------- -------------------------------- 1.2/6.2 MB 418.9 kB/s eta 0:00:12\n",
      "   -------- ------------------------------- 1.3/6.2 MB 433.3 kB/s eta 0:00:12\n",
      "   -------- ------------------------------- 1.3/6.2 MB 433.3 kB/s eta 0:00:12\n",
      "   -------- ------------------------------- 1.3/6.2 MB 433.3 kB/s eta 0:00:12\n",
      "   -------- ------------------------------- 1.3/6.2 MB 433.3 kB/s eta 0:00:12\n",
      "   -------- ------------------------------- 1.3/6.2 MB 433.3 kB/s eta 0:00:12\n",
      "   --------- ------------------------------ 1.4/6.2 MB 450.9 kB/s eta 0:00:11\n",
      "   --------- ------------------------------ 1.4/6.2 MB 450.9 kB/s eta 0:00:11\n",
      "   --------- ------------------------------ 1.5/6.2 MB 444.3 kB/s eta 0:00:11\n",
      "   --------- ------------------------------ 1.5/6.2 MB 444.3 kB/s eta 0:00:11\n",
      "   --------- ------------------------------ 1.5/6.2 MB 441.0 kB/s eta 0:00:11\n",
      "   --------- ------------------------------ 1.5/6.2 MB 441.0 kB/s eta 0:00:11\n",
      "   ---------- ----------------------------- 1.6/6.2 MB 465.5 kB/s eta 0:00:10\n",
      "   ---------- ----------------------------- 1.6/6.2 MB 465.5 kB/s eta 0:00:10\n",
      "   ---------- ----------------------------- 1.7/6.2 MB 474.2 kB/s eta 0:00:10\n",
      "   ----------- ---------------------------- 1.7/6.2 MB 477.8 kB/s eta 0:00:10\n",
      "   ----------- ---------------------------- 1.7/6.2 MB 470.4 kB/s eta 0:00:10\n",
      "   ----------- ---------------------------- 1.7/6.2 MB 470.4 kB/s eta 0:00:10\n",
      "   ----------- ---------------------------- 1.7/6.2 MB 470.4 kB/s eta 0:00:10\n",
      "   ----------- ---------------------------- 1.8/6.2 MB 486.7 kB/s eta 0:00:09\n",
      "   ------------ --------------------------- 1.9/6.2 MB 488.1 kB/s eta 0:00:09\n",
      "   ------------ --------------------------- 1.9/6.2 MB 485.5 kB/s eta 0:00:09\n",
      "   ------------ --------------------------- 1.9/6.2 MB 485.5 kB/s eta 0:00:09\n",
      "   ------------ --------------------------- 1.9/6.2 MB 474.7 kB/s eta 0:00:10\n",
      "   ------------ --------------------------- 1.9/6.2 MB 483.8 kB/s eta 0:00:09\n",
      "   ------------ --------------------------- 1.9/6.2 MB 483.8 kB/s eta 0:00:09\n",
      "   ------------ --------------------------- 1.9/6.2 MB 483.8 kB/s eta 0:00:09\n",
      "   ------------ --------------------------- 1.9/6.2 MB 483.8 kB/s eta 0:00:09\n",
      "   ------------ --------------------------- 2.0/6.2 MB 476.8 kB/s eta 0:00:09\n",
      "   ------------ --------------------------- 2.0/6.2 MB 476.8 kB/s eta 0:00:09\n",
      "   ------------- -------------------------- 2.1/6.2 MB 483.1 kB/s eta 0:00:09\n",
      "   ------------- -------------------------- 2.1/6.2 MB 493.8 kB/s eta 0:00:09\n",
      "   ------------- -------------------------- 2.2/6.2 MB 491.5 kB/s eta 0:00:09\n",
      "   ------------- -------------------------- 2.2/6.2 MB 491.5 kB/s eta 0:00:09\n",
      "   -------------- ------------------------- 2.2/6.2 MB 488.1 kB/s eta 0:00:09\n",
      "   -------------- ------------------------- 2.2/6.2 MB 488.1 kB/s eta 0:00:09\n",
      "   -------------- ------------------------- 2.2/6.2 MB 488.1 kB/s eta 0:00:09\n",
      "   --------------- ------------------------ 2.3/6.2 MB 503.8 kB/s eta 0:00:08\n",
      "   --------------- ------------------------ 2.4/6.2 MB 507.0 kB/s eta 0:00:08\n",
      "   --------------- ------------------------ 2.4/6.2 MB 507.0 kB/s eta 0:00:08\n",
      "   --------------- ------------------------ 2.4/6.2 MB 507.8 kB/s eta 0:00:08\n",
      "   --------------- ------------------------ 2.4/6.2 MB 507.8 kB/s eta 0:00:08\n",
      "   ---------------- ----------------------- 2.5/6.2 MB 516.6 kB/s eta 0:00:08\n",
      "   ---------------- ----------------------- 2.5/6.2 MB 516.6 kB/s eta 0:00:08\n",
      "   ---------------- ----------------------- 2.5/6.2 MB 516.6 kB/s eta 0:00:08\n",
      "   ---------------- ----------------------- 2.6/6.2 MB 524.6 kB/s eta 0:00:07\n",
      "   ----------------- ---------------------- 2.6/6.2 MB 525.9 kB/s eta 0:00:07\n",
      "   ----------------- ---------------------- 2.7/6.2 MB 526.7 kB/s eta 0:00:07\n",
      "   ----------------- ---------------------- 2.7/6.2 MB 526.7 kB/s eta 0:00:07\n",
      "   ----------------- ---------------------- 2.7/6.2 MB 526.7 kB/s eta 0:00:07\n",
      "   ----------------- ---------------------- 2.7/6.2 MB 531.8 kB/s eta 0:00:07\n",
      "   ----------------- ---------------------- 2.7/6.2 MB 531.8 kB/s eta 0:00:07\n",
      "   ------------------ --------------------- 2.8/6.2 MB 539.6 kB/s eta 0:00:07\n",
      "   ------------------ --------------------- 2.8/6.2 MB 539.6 kB/s eta 0:00:07\n",
      "   ------------------- -------------------- 2.9/6.2 MB 549.9 kB/s eta 0:00:06\n",
      "   ------------------- -------------------- 2.9/6.2 MB 549.9 kB/s eta 0:00:06\n",
      "   ------------------- -------------------- 3.0/6.2 MB 553.4 kB/s eta 0:00:06\n",
      "   ------------------- -------------------- 3.0/6.2 MB 555.5 kB/s eta 0:00:06\n",
      "   -------------------- ------------------- 3.1/6.2 MB 562.5 kB/s eta 0:00:06\n",
      "   -------------------- ------------------- 3.1/6.2 MB 562.7 kB/s eta 0:00:06\n",
      "   -------------------- ------------------- 3.1/6.2 MB 562.7 kB/s eta 0:00:06\n",
      "   -------------------- ------------------- 3.2/6.2 MB 564.6 kB/s eta 0:00:06\n",
      "   -------------------- ------------------- 3.2/6.2 MB 560.4 kB/s eta 0:00:06\n",
      "   --------------------- ------------------ 3.3/6.2 MB 571.4 kB/s eta 0:00:06\n",
      "   --------------------- ------------------ 3.3/6.2 MB 571.4 kB/s eta 0:00:06\n",
      "   --------------------- ------------------ 3.3/6.2 MB 565.7 kB/s eta 0:00:06\n",
      "   --------------------- ------------------ 3.4/6.2 MB 570.0 kB/s eta 0:00:05\n",
      "   ---------------------- ----------------- 3.4/6.2 MB 575.8 kB/s eta 0:00:05\n",
      "   ---------------------- ----------------- 3.4/6.2 MB 575.8 kB/s eta 0:00:05\n",
      "   ---------------------- ----------------- 3.4/6.2 MB 575.8 kB/s eta 0:00:05\n",
      "   ----------------------- ---------------- 3.6/6.2 MB 586.1 kB/s eta 0:00:05\n",
      "   ----------------------- ---------------- 3.6/6.2 MB 587.9 kB/s eta 0:00:05\n",
      "   ----------------------- ---------------- 3.7/6.2 MB 600.3 kB/s eta 0:00:05\n",
      "   ----------------------- ---------------- 3.7/6.2 MB 600.3 kB/s eta 0:00:05\n",
      "   ------------------------ --------------- 3.7/6.2 MB 601.0 kB/s eta 0:00:05\n",
      "   ------------------------ --------------- 3.7/6.2 MB 601.0 kB/s eta 0:00:05\n",
      "   ------------------------ --------------- 3.7/6.2 MB 601.0 kB/s eta 0:00:05\n",
      "   ------------------------ --------------- 3.9/6.2 MB 605.4 kB/s eta 0:00:04\n",
      "   ------------------------- -------------- 4.0/6.2 MB 623.3 kB/s eta 0:00:04\n",
      "   ------------------------- -------------- 4.0/6.2 MB 621.9 kB/s eta 0:00:04\n",
      "   ------------------------- -------------- 4.0/6.2 MB 621.9 kB/s eta 0:00:04\n",
      "   ------------------------- -------------- 4.0/6.2 MB 621.9 kB/s eta 0:00:04\n",
      "   -------------------------- ------------- 4.1/6.2 MB 625.6 kB/s eta 0:00:04\n",
      "   -------------------------- ------------- 4.1/6.2 MB 625.6 kB/s eta 0:00:04\n",
      "   -------------------------- ------------- 4.1/6.2 MB 622.9 kB/s eta 0:00:04\n",
      "   -------------------------- ------------- 4.1/6.2 MB 622.9 kB/s eta 0:00:04\n",
      "   ---------------------------- ----------- 4.3/6.2 MB 641.7 kB/s eta 0:00:03\n",
      "   ---------------------------- ----------- 4.4/6.2 MB 653.8 kB/s eta 0:00:03\n",
      "   ---------------------------- ----------- 4.4/6.2 MB 653.8 kB/s eta 0:00:03\n",
      "   ----------------------------- ---------- 4.6/6.2 MB 667.2 kB/s eta 0:00:03\n",
      "   ----------------------------- ---------- 4.6/6.2 MB 667.2 kB/s eta 0:00:03\n",
      "   ------------------------------ --------- 4.8/6.2 MB 680.3 kB/s eta 0:00:03\n",
      "   ------------------------------ --------- 4.8/6.2 MB 683.2 kB/s eta 0:00:03\n",
      "   ------------------------------ --------- 4.8/6.2 MB 683.2 kB/s eta 0:00:03\n",
      "   ------------------------------- -------- 4.9/6.2 MB 694.3 kB/s eta 0:00:02\n",
      "   ------------------------------- -------- 4.9/6.2 MB 694.3 kB/s eta 0:00:02\n",
      "   -------------------------------- ------- 5.0/6.2 MB 701.0 kB/s eta 0:00:02\n",
      "   -------------------------------- ------- 5.0/6.2 MB 701.0 kB/s eta 0:00:02\n",
      "   --------------------------------- ------ 5.3/6.2 MB 723.2 kB/s eta 0:00:02\n",
      "   ----------------------------------- ---- 5.5/6.2 MB 749.7 kB/s eta 0:00:01\n",
      "   ------------------------------------ --- 5.6/6.2 MB 758.3 kB/s eta 0:00:01\n",
      "   ------------------------------------ --- 5.6/6.2 MB 760.6 kB/s eta 0:00:01\n",
      "   ------------------------------------ --- 5.6/6.2 MB 760.6 kB/s eta 0:00:01\n",
      "   ------------------------------------- -- 5.8/6.2 MB 770.0 kB/s eta 0:00:01\n",
      "   -------------------------------------- - 5.9/6.2 MB 782.0 kB/s eta 0:00:01\n",
      "   ---------------------------------------  6.1/6.2 MB 802.6 kB/s eta 0:00:01\n",
      "   ---------------------------------------  6.1/6.2 MB 805.0 kB/s eta 0:00:01\n",
      "   ---------------------------------------  6.2/6.2 MB 806.4 kB/s eta 0:00:01\n",
      "   ---------------------------------------- 6.2/6.2 MB 803.8 kB/s eta 0:00:00\n",
      "Downloading mpmath-1.3.0-py3-none-any.whl (536 kB)\n",
      "   ---------------------------------------- 0.0/536.2 kB ? eta -:--:--\n",
      "   --------- ------------------------------ 122.9/536.2 kB 7.5 MB/s eta 0:00:01\n",
      "   --------- ------------------------------ 122.9/536.2 kB 7.5 MB/s eta 0:00:01\n",
      "   --------- ------------------------------ 122.9/536.2 kB 7.5 MB/s eta 0:00:01\n",
      "   ---------------- ----------------------- 225.3/536.2 kB 1.7 MB/s eta 0:00:01\n",
      "   ---------------------------------------  532.5/536.2 kB 2.8 MB/s eta 0:00:01\n",
      "   ---------------------------------------- 536.2/536.2 kB 2.6 MB/s eta 0:00:00\n",
      "Installing collected packages: mpmath, sympy\n",
      "Successfully installed mpmath-1.3.0 sympy-1.13.3\n",
      "Note: you may need to restart the kernel to use updated packages.\n"
     ]
    },
    {
     "name": "stderr",
     "output_type": "stream",
     "text": [
      "\n",
      "[notice] A new release of pip is available: 24.0 -> 25.0.1\n",
      "[notice] To update, run: python.exe -m pip install --upgrade pip\n"
     ]
    }
   ],
   "source": [
    "pip install sympy\n"
   ]
  },
  {
   "cell_type": "markdown",
   "id": "e458eeac-6216-4841-a12b-39df3839684c",
   "metadata": {},
   "source": [
    "## Differentiation"
   ]
  },
  {
   "cell_type": "code",
   "execution_count": 22,
   "id": "2967b6ac-3389-41bf-affc-600ec9a91e9b",
   "metadata": {},
   "outputs": [
    {
     "name": "stdout",
     "output_type": "stream",
     "text": [
      "x**3*y + y**3 + z\n",
      "derivative w.r.t x:  3*x**2*y\n",
      "derivative w.r.t y:  x**3 + 3*y**2\n"
     ]
    }
   ],
   "source": [
    "# Importing library\n",
    "import sympy as sym\n",
    "\n",
    "# Declaring variables\n",
    "x, y, z = sym.symbols('x y z')\n",
    "\n",
    "# expression of which we have to find derivative\n",
    "exp = x**3 * y + y**3 + z\n",
    "print(exp)\n",
    "\n",
    "# Differentiating exp with respect to x\n",
    "derivative1_x = sym.diff(exp, x)\n",
    "print('derivative w.r.t x: ', \n",
    "      derivative1_x)\n",
    "\n",
    "# Differentiating exp with respect to y\n",
    "derivative1_y = sym.diff(exp, y)\n",
    "print('derivative w.r.t y: ', \n",
    "      derivative1_y)"
   ]
  },
  {
   "cell_type": "markdown",
   "id": "c8ca1956-9882-4414-9f3d-2f9e811ee54c",
   "metadata": {},
   "source": [
    "## Integration"
   ]
  },
  {
   "cell_type": "code",
   "execution_count": 19,
   "id": "2808f100-b591-45c6-9744-a5d7f06aa3bd",
   "metadata": {},
   "outputs": [
    {
     "name": "stdout",
     "output_type": "stream",
     "text": [
      "indefinite integral of cos(x):  sin(x)\n",
      "definite integral of cos(x) between -1 to 1:  2*sin(1)\n",
      "definite integral of exp(-x) between 0 to ∞:  1\n"
     ]
    }
   ],
   "source": [
    "# Indefinite integration of cos(x) w.r.t. dx\n",
    "integral1 = sym.integrate(sym.cos(x), x)\n",
    "print('indefinite integral of cos(x): ', \n",
    "      integral1)\n",
    "\n",
    "# definite integration of cos(x) w.r.t. dx between -1 to 1\n",
    "integral2 = sym.integrate(sym.cos(x), (x, -1, 1))\n",
    "print('definite integral of cos(x) between -1 to 1: ', \n",
    "      integral2)\n",
    "\n",
    "# definite integration of exp(-x) w.r.t. dx between 0 to ∞\n",
    "integral3 = sym.integrate(sym.exp(-x), (x, 0, sym.oo))\n",
    "print('definite integral of exp(-x) between 0 to ∞: ', \n",
    "      integral3)"
   ]
  },
  {
   "cell_type": "code",
   "execution_count": null,
   "id": "92ad9186",
   "metadata": {},
   "outputs": [],
   "source": [
    "# mean is average of all values\n",
    "# median is middle value of all values\n",
    "# mode is most repeated value in all values\n",
    "# measure of variability required for meas\n",
    "# advantage of taking sample from population is that it is less time consuming and less expensive by"
   ]
  }
 ],
 "metadata": {
  "kernelspec": {
   "display_name": "Python 3",
   "language": "python",
   "name": "python3"
  },
  "language_info": {
   "codemirror_mode": {
    "name": "ipython",
    "version": 3
   },
   "file_extension": ".py",
   "mimetype": "text/x-python",
   "name": "python",
   "nbconvert_exporter": "python",
   "pygments_lexer": "ipython3",
   "version": "3.12.2"
  }
 },
 "nbformat": 4,
 "nbformat_minor": 5
}
